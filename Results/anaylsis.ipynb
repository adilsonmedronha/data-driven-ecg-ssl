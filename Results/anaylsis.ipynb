{
 "cells": [
  {
   "cell_type": "code",
   "execution_count": 1,
   "metadata": {},
   "outputs": [],
   "source": [
    "import pandas as pd\n",
    "import os"
   ]
  },
  {
   "cell_type": "code",
   "execution_count": 2,
   "metadata": {},
   "outputs": [],
   "source": [
    "# include the utils directory in the path\n",
    "import sys\n",
    "sys.path.append(os.path.abspath(os.path.join('../')))"
   ]
  },
  {
   "cell_type": "code",
   "execution_count": 3,
   "metadata": {},
   "outputs": [],
   "source": [
    "import plotly.io as pio\n",
    "import plotly.express as px\n",
    "import plotly.graph_objects as go\n",
    "from plotly.subplots import make_subplots\n",
    "\n",
    "\n",
    "# -------------------- DEFINE CUSTOM TEMPLATE -------------------- #\n",
    "pio.templates['draft'] = go.layout.Template(layout=dict(\n",
    "    margin=dict(l=50, r=50, b=50, t=50),\n",
    "    legend=dict(\n",
    "    orientation=\"h\",\n",
    "    yanchor=\"bottom\",\n",
    "    y=1.02,\n",
    "    xanchor=\"right\",\n",
    "    x=1\n",
    ")\n",
    "))\n",
    "pio.templates.default = \"plotly_white+draft\""
   ]
  },
  {
   "cell_type": "markdown",
   "metadata": {},
   "source": [
    "### Fragment Results"
   ]
  },
  {
   "cell_type": "code",
   "execution_count": 4,
   "metadata": {},
   "outputs": [],
   "source": [
    "# fragment_result = pd.read_csv('./Pos_training/Fragment_all_results copy.csv')\n",
    "# fragment_result.sort_values(by=['scenario', 'ssl_model', 'head_model'], inplace=True)\n",
    "# fragment_result.to_csv('./Pos_training/Fragment_all_results copy.csv', index=False)"
   ]
  },
  {
   "cell_type": "code",
   "execution_count": 13,
   "metadata": {},
   "outputs": [
    {
     "data": {
      "text/html": [
       "<div>\n",
       "<style scoped>\n",
       "    .dataframe tbody tr th:only-of-type {\n",
       "        vertical-align: middle;\n",
       "    }\n",
       "\n",
       "    .dataframe tbody tr th {\n",
       "        vertical-align: top;\n",
       "    }\n",
       "\n",
       "    .dataframe thead th {\n",
       "        text-align: right;\n",
       "    }\n",
       "</style>\n",
       "<table border=\"1\" class=\"dataframe\">\n",
       "  <thead>\n",
       "    <tr style=\"text-align: right;\">\n",
       "      <th></th>\n",
       "      <th>ssl_model</th>\n",
       "      <th>head_model</th>\n",
       "      <th>calibration</th>\n",
       "      <th>scenario</th>\n",
       "      <th>dataset</th>\n",
       "      <th>avg_loss</th>\n",
       "      <th>acc</th>\n",
       "      <th>acc_std</th>\n",
       "      <th>f1</th>\n",
       "      <th>f1_std</th>\n",
       "      <th>recall</th>\n",
       "      <th>recall_std</th>\n",
       "      <th>precision</th>\n",
       "      <th>precision_std</th>\n",
       "    </tr>\n",
       "  </thead>\n",
       "  <tbody>\n",
       "    <tr>\n",
       "      <th>0</th>\n",
       "      <td>TSTCC</td>\n",
       "      <td>MLP</td>\n",
       "      <td>linearprobing</td>\n",
       "      <td>ECG</td>\n",
       "      <td>Fragment</td>\n",
       "      <td>0.5509</td>\n",
       "      <td>0.5317</td>\n",
       "      <td>0.0063</td>\n",
       "      <td>0.4072</td>\n",
       "      <td>0.0076</td>\n",
       "      <td>0.5509</td>\n",
       "      <td>0.0080</td>\n",
       "      <td>1.1092</td>\n",
       "      <td>0.0158</td>\n",
       "    </tr>\n",
       "    <tr>\n",
       "      <th>1</th>\n",
       "      <td>TSTCC</td>\n",
       "      <td>MLP</td>\n",
       "      <td>linearprobing</td>\n",
       "      <td>All</td>\n",
       "      <td>Fragment</td>\n",
       "      <td>0.5043</td>\n",
       "      <td>0.4837</td>\n",
       "      <td>0.0066</td>\n",
       "      <td>0.3457</td>\n",
       "      <td>0.0084</td>\n",
       "      <td>0.5043</td>\n",
       "      <td>0.0051</td>\n",
       "      <td>1.0121</td>\n",
       "      <td>0.0300</td>\n",
       "    </tr>\n",
       "    <tr>\n",
       "      <th>2</th>\n",
       "      <td>TSTCC</td>\n",
       "      <td>FCN</td>\n",
       "      <td>finetuning</td>\n",
       "      <td>All</td>\n",
       "      <td>Fragment</td>\n",
       "      <td>0.2810</td>\n",
       "      <td>0.1680</td>\n",
       "      <td>0.1165</td>\n",
       "      <td>0.1032</td>\n",
       "      <td>0.0564</td>\n",
       "      <td>0.2810</td>\n",
       "      <td>0.1058</td>\n",
       "      <td>1.8616</td>\n",
       "      <td>0.1345</td>\n",
       "    </tr>\n",
       "    <tr>\n",
       "      <th>3</th>\n",
       "      <td>TSTCC</td>\n",
       "      <td>FCN</td>\n",
       "      <td>linearprobing</td>\n",
       "      <td>ECG</td>\n",
       "      <td>Fragment</td>\n",
       "      <td>0.1951</td>\n",
       "      <td>0.1054</td>\n",
       "      <td>0.0496</td>\n",
       "      <td>0.0825</td>\n",
       "      <td>0.0337</td>\n",
       "      <td>0.1951</td>\n",
       "      <td>0.0570</td>\n",
       "      <td>1.6465</td>\n",
       "      <td>0.0328</td>\n",
       "    </tr>\n",
       "    <tr>\n",
       "      <th>4</th>\n",
       "      <td>TSTCC</td>\n",
       "      <td>FCN</td>\n",
       "      <td>linearprobing</td>\n",
       "      <td>All</td>\n",
       "      <td>Fragment</td>\n",
       "      <td>0.1988</td>\n",
       "      <td>0.0939</td>\n",
       "      <td>0.0192</td>\n",
       "      <td>0.1003</td>\n",
       "      <td>0.0306</td>\n",
       "      <td>0.1988</td>\n",
       "      <td>0.0192</td>\n",
       "      <td>1.6779</td>\n",
       "      <td>0.0777</td>\n",
       "    </tr>\n",
       "    <tr>\n",
       "      <th>...</th>\n",
       "      <td>...</td>\n",
       "      <td>...</td>\n",
       "      <td>...</td>\n",
       "      <td>...</td>\n",
       "      <td>...</td>\n",
       "      <td>...</td>\n",
       "      <td>...</td>\n",
       "      <td>...</td>\n",
       "      <td>...</td>\n",
       "      <td>...</td>\n",
       "      <td>...</td>\n",
       "      <td>...</td>\n",
       "      <td>...</td>\n",
       "      <td>...</td>\n",
       "    </tr>\n",
       "    <tr>\n",
       "      <th>103</th>\n",
       "      <td>TS2Vec</td>\n",
       "      <td>FCN</td>\n",
       "      <td>finetuning</td>\n",
       "      <td>5 &amp; 6 combined</td>\n",
       "      <td>Fragment</td>\n",
       "      <td>0.2098</td>\n",
       "      <td>0.1451</td>\n",
       "      <td>0.1220</td>\n",
       "      <td>0.1360</td>\n",
       "      <td>0.0865</td>\n",
       "      <td>0.2098</td>\n",
       "      <td>0.1119</td>\n",
       "      <td>2.2617</td>\n",
       "      <td>0.8436</td>\n",
       "    </tr>\n",
       "    <tr>\n",
       "      <th>104</th>\n",
       "      <td>TSTCC</td>\n",
       "      <td>MLP</td>\n",
       "      <td>linearprobing</td>\n",
       "      <td>5 &amp; 6 combined</td>\n",
       "      <td>Fragment</td>\n",
       "      <td>0.5055</td>\n",
       "      <td>0.4996</td>\n",
       "      <td>0.0030</td>\n",
       "      <td>0.3817</td>\n",
       "      <td>0.0036</td>\n",
       "      <td>0.5055</td>\n",
       "      <td>0.0034</td>\n",
       "      <td>1.2150</td>\n",
       "      <td>0.0215</td>\n",
       "    </tr>\n",
       "    <tr>\n",
       "      <th>105</th>\n",
       "      <td>TSTCC</td>\n",
       "      <td>FCN</td>\n",
       "      <td>linearprobing</td>\n",
       "      <td>5 &amp; 6 combined</td>\n",
       "      <td>Fragment</td>\n",
       "      <td>0.2417</td>\n",
       "      <td>0.2060</td>\n",
       "      <td>0.0707</td>\n",
       "      <td>0.1767</td>\n",
       "      <td>0.0654</td>\n",
       "      <td>0.2417</td>\n",
       "      <td>0.0437</td>\n",
       "      <td>1.6114</td>\n",
       "      <td>0.0387</td>\n",
       "    </tr>\n",
       "    <tr>\n",
       "      <th>106</th>\n",
       "      <td>TSTCC</td>\n",
       "      <td>FCN</td>\n",
       "      <td>finetuning</td>\n",
       "      <td>5 &amp; 6 combined</td>\n",
       "      <td>Fragment</td>\n",
       "      <td>0.1828</td>\n",
       "      <td>0.0849</td>\n",
       "      <td>0.0398</td>\n",
       "      <td>0.0932</td>\n",
       "      <td>0.0460</td>\n",
       "      <td>0.1828</td>\n",
       "      <td>0.0482</td>\n",
       "      <td>1.8865</td>\n",
       "      <td>0.0582</td>\n",
       "    </tr>\n",
       "    <tr>\n",
       "      <th>107</th>\n",
       "      <td>TSTCC</td>\n",
       "      <td>MLP</td>\n",
       "      <td>finetuning</td>\n",
       "      <td>5 &amp; 6 combined</td>\n",
       "      <td>Fragment</td>\n",
       "      <td>0.1656</td>\n",
       "      <td>0.0472</td>\n",
       "      <td>0.0001</td>\n",
       "      <td>0.0475</td>\n",
       "      <td>0.0001</td>\n",
       "      <td>0.1656</td>\n",
       "      <td>0.0000</td>\n",
       "      <td>9.7913</td>\n",
       "      <td>1.7634</td>\n",
       "    </tr>\n",
       "  </tbody>\n",
       "</table>\n",
       "<p>108 rows × 14 columns</p>\n",
       "</div>"
      ],
      "text/plain": [
       "    ssl_model head_model    calibration        scenario   dataset  avg_loss  \\\n",
       "0       TSTCC        MLP  linearprobing             ECG  Fragment    0.5509   \n",
       "1       TSTCC        MLP  linearprobing             All  Fragment    0.5043   \n",
       "2       TSTCC        FCN     finetuning             All  Fragment    0.2810   \n",
       "3       TSTCC        FCN  linearprobing             ECG  Fragment    0.1951   \n",
       "4       TSTCC        FCN  linearprobing             All  Fragment    0.1988   \n",
       "..        ...        ...            ...             ...       ...       ...   \n",
       "103    TS2Vec        FCN     finetuning  5 & 6 combined  Fragment    0.2098   \n",
       "104     TSTCC        MLP  linearprobing  5 & 6 combined  Fragment    0.5055   \n",
       "105     TSTCC        FCN  linearprobing  5 & 6 combined  Fragment    0.2417   \n",
       "106     TSTCC        FCN     finetuning  5 & 6 combined  Fragment    0.1828   \n",
       "107     TSTCC        MLP     finetuning  5 & 6 combined  Fragment    0.1656   \n",
       "\n",
       "        acc  acc_std      f1  f1_std  recall  recall_std  precision  \\\n",
       "0    0.5317   0.0063  0.4072  0.0076  0.5509      0.0080     1.1092   \n",
       "1    0.4837   0.0066  0.3457  0.0084  0.5043      0.0051     1.0121   \n",
       "2    0.1680   0.1165  0.1032  0.0564  0.2810      0.1058     1.8616   \n",
       "3    0.1054   0.0496  0.0825  0.0337  0.1951      0.0570     1.6465   \n",
       "4    0.0939   0.0192  0.1003  0.0306  0.1988      0.0192     1.6779   \n",
       "..      ...      ...     ...     ...     ...         ...        ...   \n",
       "103  0.1451   0.1220  0.1360  0.0865  0.2098      0.1119     2.2617   \n",
       "104  0.4996   0.0030  0.3817  0.0036  0.5055      0.0034     1.2150   \n",
       "105  0.2060   0.0707  0.1767  0.0654  0.2417      0.0437     1.6114   \n",
       "106  0.0849   0.0398  0.0932  0.0460  0.1828      0.0482     1.8865   \n",
       "107  0.0472   0.0001  0.0475  0.0001  0.1656      0.0000     9.7913   \n",
       "\n",
       "     precision_std  \n",
       "0           0.0158  \n",
       "1           0.0300  \n",
       "2           0.1345  \n",
       "3           0.0328  \n",
       "4           0.0777  \n",
       "..             ...  \n",
       "103         0.8436  \n",
       "104         0.0215  \n",
       "105         0.0387  \n",
       "106         0.0582  \n",
       "107         1.7634  \n",
       "\n",
       "[108 rows x 14 columns]"
      ]
     },
     "execution_count": 13,
     "metadata": {},
     "output_type": "execute_result"
    }
   ],
   "source": [
    "fragment_result = pd.read_csv('./Pos_training/Fragment_all_results copy.csv')\n",
    "fragment_result"
   ]
  },
  {
   "cell_type": "code",
   "execution_count": 14,
   "metadata": {},
   "outputs": [],
   "source": [
    "# temp_df = fragment_result[['ssl_model','head_model', 'scenario', 'calibration', 'f1','f1_std']].copy()\n",
    "# df_filtered = temp_df.sort_values(by='f1', ascending=False) \\\n",
    "#                      .drop_duplicates(subset=['scenario','ssl_model','head_model'], keep='first') \\\n",
    "#                      .sort_values(by=['scenario','ssl_model','head_model']).copy()\n",
    "\n",
    "# df_filtered['latex'] = (df_filtered['f1']*100).round(4).astype(str) + ' ($\\pm$ ' + (df_filtered['f1_std']*100).round(4).astype(str) + ')'\n",
    "\n",
    "# df_filtered.drop(columns=['f1','f1_std'], inplace=True) \n",
    "# df_filtered\n",
    "# # df_filtered.to_csv('./Pos_training/Fragment_all_results_latex.csv')"
   ]
  },
  {
   "cell_type": "code",
   "execution_count": 20,
   "metadata": {},
   "outputs": [],
   "source": [
    "scenario_order = ['ECG', 'All', 'ECG+Fragment', 'All+Fragment', \n",
    "                  'ECG extended', 'ECG continued', 'All extended',\n",
    "                  '5 & 6 combined']"
   ]
  },
  {
   "cell_type": "code",
   "execution_count": 21,
   "metadata": {},
   "outputs": [
    {
     "data": {
      "application/vnd.plotly.v1+json": {
       "config": {
        "plotlyServerURL": "https://plot.ly"
       },
       "data": [
        {
         "alignmentgroup": "True",
         "hovertemplate": "head_model=MLP<br>Strategy=%{x}<br>F1-score=%{y}<extra></extra>",
         "legendgroup": "MLP",
         "marker": {
          "color": "#636efa",
          "pattern": {
           "shape": ""
          }
         },
         "name": "MLP",
         "offsetgroup": "MLP",
         "orientation": "v",
         "showlegend": true,
         "textposition": "auto",
         "type": "bar",
         "x": [
          "ECG",
          "All",
          "ECG continued",
          "ECG extended",
          "All extended",
          "ECG+Fragment",
          "All+Fragment",
          "5 & 6 combined"
         ],
         "xaxis": "x",
         "y": {
          "bdata": "CD2bVZ+r4z97gy9MpgrgP5MYBFYOLeQ/wcqhRbbz4z+8lpAPejbfP67YX3ZPHuI/ppvEILBy4D//snvysFDjPw==",
          "dtype": "f8"
         },
         "yaxis": "y"
        },
        {
         "alignmentgroup": "True",
         "hovertemplate": "head_model=FCN<br>Strategy=%{x}<br>F1-score=%{y}<extra></extra>",
         "legendgroup": "FCN",
         "marker": {
          "color": "#EF553B",
          "pattern": {
           "shape": ""
          }
         },
         "name": "FCN",
         "offsetgroup": "FCN",
         "orientation": "v",
         "showlegend": true,
         "textposition": "auto",
         "type": "bar",
         "x": [
          "All",
          "ECG",
          "ECG continued",
          "All extended",
          "ECG extended",
          "ECG+Fragment",
          "All+Fragment",
          "5 & 6 combined"
         ],
         "xaxis": "x",
         "y": {
          "bdata": "cF8HzhlRwj90RpT2Bl+4P8x/SL99Hbg/jgbwFkhQxD/gnBGlvcG3P32utmJ/2b0/zhlR2ht8sT+cxCCwcmjBPw==",
          "dtype": "f8"
         },
         "yaxis": "y"
        }
       ],
       "layout": {
        "barmode": "group",
        "font": {
         "size": 16
        },
        "height": 400,
        "legend": {
         "orientation": "h",
         "title": {},
         "tracegroupgap": 0,
         "x": 0.5,
         "xanchor": "center",
         "y": 1.01,
         "yanchor": "bottom"
        },
        "margin": {
         "b": 30,
         "l": 40,
         "r": 40,
         "t": 50
        },
        "showlegend": true,
        "template": {
         "data": {
          "bar": [
           {
            "error_x": {
             "color": "#2a3f5f"
            },
            "error_y": {
             "color": "#2a3f5f"
            },
            "marker": {
             "line": {
              "color": "white",
              "width": 0.5
             },
             "pattern": {
              "fillmode": "overlay",
              "size": 10,
              "solidity": 0.2
             }
            },
            "type": "bar"
           }
          ],
          "barpolar": [
           {
            "marker": {
             "line": {
              "color": "white",
              "width": 0.5
             },
             "pattern": {
              "fillmode": "overlay",
              "size": 10,
              "solidity": 0.2
             }
            },
            "type": "barpolar"
           }
          ],
          "carpet": [
           {
            "aaxis": {
             "endlinecolor": "#2a3f5f",
             "gridcolor": "#C8D4E3",
             "linecolor": "#C8D4E3",
             "minorgridcolor": "#C8D4E3",
             "startlinecolor": "#2a3f5f"
            },
            "baxis": {
             "endlinecolor": "#2a3f5f",
             "gridcolor": "#C8D4E3",
             "linecolor": "#C8D4E3",
             "minorgridcolor": "#C8D4E3",
             "startlinecolor": "#2a3f5f"
            },
            "type": "carpet"
           }
          ],
          "choropleth": [
           {
            "colorbar": {
             "outlinewidth": 0,
             "ticks": ""
            },
            "type": "choropleth"
           }
          ],
          "contour": [
           {
            "colorbar": {
             "outlinewidth": 0,
             "ticks": ""
            },
            "colorscale": [
             [
              0,
              "#0d0887"
             ],
             [
              0.1111111111111111,
              "#46039f"
             ],
             [
              0.2222222222222222,
              "#7201a8"
             ],
             [
              0.3333333333333333,
              "#9c179e"
             ],
             [
              0.4444444444444444,
              "#bd3786"
             ],
             [
              0.5555555555555556,
              "#d8576b"
             ],
             [
              0.6666666666666666,
              "#ed7953"
             ],
             [
              0.7777777777777778,
              "#fb9f3a"
             ],
             [
              0.8888888888888888,
              "#fdca26"
             ],
             [
              1,
              "#f0f921"
             ]
            ],
            "type": "contour"
           }
          ],
          "contourcarpet": [
           {
            "colorbar": {
             "outlinewidth": 0,
             "ticks": ""
            },
            "type": "contourcarpet"
           }
          ],
          "heatmap": [
           {
            "colorbar": {
             "outlinewidth": 0,
             "ticks": ""
            },
            "colorscale": [
             [
              0,
              "#0d0887"
             ],
             [
              0.1111111111111111,
              "#46039f"
             ],
             [
              0.2222222222222222,
              "#7201a8"
             ],
             [
              0.3333333333333333,
              "#9c179e"
             ],
             [
              0.4444444444444444,
              "#bd3786"
             ],
             [
              0.5555555555555556,
              "#d8576b"
             ],
             [
              0.6666666666666666,
              "#ed7953"
             ],
             [
              0.7777777777777778,
              "#fb9f3a"
             ],
             [
              0.8888888888888888,
              "#fdca26"
             ],
             [
              1,
              "#f0f921"
             ]
            ],
            "type": "heatmap"
           }
          ],
          "histogram": [
           {
            "marker": {
             "pattern": {
              "fillmode": "overlay",
              "size": 10,
              "solidity": 0.2
             }
            },
            "type": "histogram"
           }
          ],
          "histogram2d": [
           {
            "colorbar": {
             "outlinewidth": 0,
             "ticks": ""
            },
            "colorscale": [
             [
              0,
              "#0d0887"
             ],
             [
              0.1111111111111111,
              "#46039f"
             ],
             [
              0.2222222222222222,
              "#7201a8"
             ],
             [
              0.3333333333333333,
              "#9c179e"
             ],
             [
              0.4444444444444444,
              "#bd3786"
             ],
             [
              0.5555555555555556,
              "#d8576b"
             ],
             [
              0.6666666666666666,
              "#ed7953"
             ],
             [
              0.7777777777777778,
              "#fb9f3a"
             ],
             [
              0.8888888888888888,
              "#fdca26"
             ],
             [
              1,
              "#f0f921"
             ]
            ],
            "type": "histogram2d"
           }
          ],
          "histogram2dcontour": [
           {
            "colorbar": {
             "outlinewidth": 0,
             "ticks": ""
            },
            "colorscale": [
             [
              0,
              "#0d0887"
             ],
             [
              0.1111111111111111,
              "#46039f"
             ],
             [
              0.2222222222222222,
              "#7201a8"
             ],
             [
              0.3333333333333333,
              "#9c179e"
             ],
             [
              0.4444444444444444,
              "#bd3786"
             ],
             [
              0.5555555555555556,
              "#d8576b"
             ],
             [
              0.6666666666666666,
              "#ed7953"
             ],
             [
              0.7777777777777778,
              "#fb9f3a"
             ],
             [
              0.8888888888888888,
              "#fdca26"
             ],
             [
              1,
              "#f0f921"
             ]
            ],
            "type": "histogram2dcontour"
           }
          ],
          "mesh3d": [
           {
            "colorbar": {
             "outlinewidth": 0,
             "ticks": ""
            },
            "type": "mesh3d"
           }
          ],
          "parcoords": [
           {
            "line": {
             "colorbar": {
              "outlinewidth": 0,
              "ticks": ""
             }
            },
            "type": "parcoords"
           }
          ],
          "pie": [
           {
            "automargin": true,
            "type": "pie"
           }
          ],
          "scatter": [
           {
            "fillpattern": {
             "fillmode": "overlay",
             "size": 10,
             "solidity": 0.2
            },
            "type": "scatter"
           }
          ],
          "scatter3d": [
           {
            "line": {
             "colorbar": {
              "outlinewidth": 0,
              "ticks": ""
             }
            },
            "marker": {
             "colorbar": {
              "outlinewidth": 0,
              "ticks": ""
             }
            },
            "type": "scatter3d"
           }
          ],
          "scattercarpet": [
           {
            "marker": {
             "colorbar": {
              "outlinewidth": 0,
              "ticks": ""
             }
            },
            "type": "scattercarpet"
           }
          ],
          "scattergeo": [
           {
            "marker": {
             "colorbar": {
              "outlinewidth": 0,
              "ticks": ""
             }
            },
            "type": "scattergeo"
           }
          ],
          "scattergl": [
           {
            "marker": {
             "colorbar": {
              "outlinewidth": 0,
              "ticks": ""
             }
            },
            "type": "scattergl"
           }
          ],
          "scattermap": [
           {
            "marker": {
             "colorbar": {
              "outlinewidth": 0,
              "ticks": ""
             }
            },
            "type": "scattermap"
           }
          ],
          "scattermapbox": [
           {
            "marker": {
             "colorbar": {
              "outlinewidth": 0,
              "ticks": ""
             }
            },
            "type": "scattermapbox"
           }
          ],
          "scatterpolar": [
           {
            "marker": {
             "colorbar": {
              "outlinewidth": 0,
              "ticks": ""
             }
            },
            "type": "scatterpolar"
           }
          ],
          "scatterpolargl": [
           {
            "marker": {
             "colorbar": {
              "outlinewidth": 0,
              "ticks": ""
             }
            },
            "type": "scatterpolargl"
           }
          ],
          "scatterternary": [
           {
            "marker": {
             "colorbar": {
              "outlinewidth": 0,
              "ticks": ""
             }
            },
            "type": "scatterternary"
           }
          ],
          "surface": [
           {
            "colorbar": {
             "outlinewidth": 0,
             "ticks": ""
            },
            "colorscale": [
             [
              0,
              "#0d0887"
             ],
             [
              0.1111111111111111,
              "#46039f"
             ],
             [
              0.2222222222222222,
              "#7201a8"
             ],
             [
              0.3333333333333333,
              "#9c179e"
             ],
             [
              0.4444444444444444,
              "#bd3786"
             ],
             [
              0.5555555555555556,
              "#d8576b"
             ],
             [
              0.6666666666666666,
              "#ed7953"
             ],
             [
              0.7777777777777778,
              "#fb9f3a"
             ],
             [
              0.8888888888888888,
              "#fdca26"
             ],
             [
              1,
              "#f0f921"
             ]
            ],
            "type": "surface"
           }
          ],
          "table": [
           {
            "cells": {
             "fill": {
              "color": "#EBF0F8"
             },
             "line": {
              "color": "white"
             }
            },
            "header": {
             "fill": {
              "color": "#C8D4E3"
             },
             "line": {
              "color": "white"
             }
            },
            "type": "table"
           }
          ]
         },
         "layout": {
          "annotationdefaults": {
           "arrowcolor": "#2a3f5f",
           "arrowhead": 0,
           "arrowwidth": 1
          },
          "autotypenumbers": "strict",
          "coloraxis": {
           "colorbar": {
            "outlinewidth": 0,
            "ticks": ""
           }
          },
          "colorscale": {
           "diverging": [
            [
             0,
             "#8e0152"
            ],
            [
             0.1,
             "#c51b7d"
            ],
            [
             0.2,
             "#de77ae"
            ],
            [
             0.3,
             "#f1b6da"
            ],
            [
             0.4,
             "#fde0ef"
            ],
            [
             0.5,
             "#f7f7f7"
            ],
            [
             0.6,
             "#e6f5d0"
            ],
            [
             0.7,
             "#b8e186"
            ],
            [
             0.8,
             "#7fbc41"
            ],
            [
             0.9,
             "#4d9221"
            ],
            [
             1,
             "#276419"
            ]
           ],
           "sequential": [
            [
             0,
             "#0d0887"
            ],
            [
             0.1111111111111111,
             "#46039f"
            ],
            [
             0.2222222222222222,
             "#7201a8"
            ],
            [
             0.3333333333333333,
             "#9c179e"
            ],
            [
             0.4444444444444444,
             "#bd3786"
            ],
            [
             0.5555555555555556,
             "#d8576b"
            ],
            [
             0.6666666666666666,
             "#ed7953"
            ],
            [
             0.7777777777777778,
             "#fb9f3a"
            ],
            [
             0.8888888888888888,
             "#fdca26"
            ],
            [
             1,
             "#f0f921"
            ]
           ],
           "sequentialminus": [
            [
             0,
             "#0d0887"
            ],
            [
             0.1111111111111111,
             "#46039f"
            ],
            [
             0.2222222222222222,
             "#7201a8"
            ],
            [
             0.3333333333333333,
             "#9c179e"
            ],
            [
             0.4444444444444444,
             "#bd3786"
            ],
            [
             0.5555555555555556,
             "#d8576b"
            ],
            [
             0.6666666666666666,
             "#ed7953"
            ],
            [
             0.7777777777777778,
             "#fb9f3a"
            ],
            [
             0.8888888888888888,
             "#fdca26"
            ],
            [
             1,
             "#f0f921"
            ]
           ]
          },
          "colorway": [
           "#636efa",
           "#EF553B",
           "#00cc96",
           "#ab63fa",
           "#FFA15A",
           "#19d3f3",
           "#FF6692",
           "#B6E880",
           "#FF97FF",
           "#FECB52"
          ],
          "font": {
           "color": "#2a3f5f"
          },
          "geo": {
           "bgcolor": "white",
           "lakecolor": "white",
           "landcolor": "white",
           "showlakes": true,
           "showland": true,
           "subunitcolor": "#C8D4E3"
          },
          "hoverlabel": {
           "align": "left"
          },
          "hovermode": "closest",
          "legend": {
           "orientation": "h",
           "x": 1,
           "xanchor": "right",
           "y": 1.02,
           "yanchor": "bottom"
          },
          "mapbox": {
           "style": "light"
          },
          "margin": {
           "b": 50,
           "l": 50,
           "r": 50,
           "t": 50
          },
          "paper_bgcolor": "white",
          "plot_bgcolor": "white",
          "polar": {
           "angularaxis": {
            "gridcolor": "#EBF0F8",
            "linecolor": "#EBF0F8",
            "ticks": ""
           },
           "bgcolor": "white",
           "radialaxis": {
            "gridcolor": "#EBF0F8",
            "linecolor": "#EBF0F8",
            "ticks": ""
           }
          },
          "scene": {
           "xaxis": {
            "backgroundcolor": "white",
            "gridcolor": "#DFE8F3",
            "gridwidth": 2,
            "linecolor": "#EBF0F8",
            "showbackground": true,
            "ticks": "",
            "zerolinecolor": "#EBF0F8"
           },
           "yaxis": {
            "backgroundcolor": "white",
            "gridcolor": "#DFE8F3",
            "gridwidth": 2,
            "linecolor": "#EBF0F8",
            "showbackground": true,
            "ticks": "",
            "zerolinecolor": "#EBF0F8"
           },
           "zaxis": {
            "backgroundcolor": "white",
            "gridcolor": "#DFE8F3",
            "gridwidth": 2,
            "linecolor": "#EBF0F8",
            "showbackground": true,
            "ticks": "",
            "zerolinecolor": "#EBF0F8"
           }
          },
          "shapedefaults": {
           "line": {
            "color": "#2a3f5f"
           }
          },
          "ternary": {
           "aaxis": {
            "gridcolor": "#DFE8F3",
            "linecolor": "#A2B1C6",
            "ticks": ""
           },
           "baxis": {
            "gridcolor": "#DFE8F3",
            "linecolor": "#A2B1C6",
            "ticks": ""
           },
           "bgcolor": "white",
           "caxis": {
            "gridcolor": "#DFE8F3",
            "linecolor": "#A2B1C6",
            "ticks": ""
           }
          },
          "title": {
           "x": 0.05
          },
          "xaxis": {
           "automargin": true,
           "gridcolor": "#EBF0F8",
           "linecolor": "#EBF0F8",
           "ticks": "",
           "title": {
            "standoff": 15
           },
           "zerolinecolor": "#EBF0F8",
           "zerolinewidth": 2
          },
          "yaxis": {
           "automargin": true,
           "gridcolor": "#EBF0F8",
           "linecolor": "#EBF0F8",
           "ticks": "",
           "title": {
            "standoff": 15
           },
           "zerolinecolor": "#EBF0F8",
           "zerolinewidth": 2
          }
         }
        },
        "width": 1100,
        "xaxis": {
         "anchor": "y",
         "categoryarray": [
          "ECG",
          "All",
          "ECG+Fragment",
          "All+Fragment",
          "ECG extended",
          "ECG continued",
          "All extended",
          "5 & 6 combined"
         ],
         "categoryorder": "array",
         "domain": [
          0,
          1
         ],
         "tickfont": {
          "size": 18
         },
         "title": {
          "text": ""
         }
        },
        "yaxis": {
         "anchor": "x",
         "domain": [
          0,
          1
         ],
         "range": [
          0,
          1
         ],
         "title": {
          "text": "F1-score"
         }
        }
       }
      }
     },
     "metadata": {},
     "output_type": "display_data"
    }
   ],
   "source": [
    "fig = px.bar(\n",
    "    fragment_result.query(\"calibration == 'finetuning' & ssl_model == 'TS2Vec' & scenario != 'ECG continued30'\"), \n",
    "    x='scenario', y='f1', color='head_model', barmode='group',\n",
    "    labels={'ssl_model': 'SSL Model', 'f1': 'F1-score', 'scenario': 'Strategy'},\n",
    "    category_orders={'scenario': scenario_order},\n",
    ")\n",
    "\n",
    "fig.update_yaxes(range=[0, 1])\n",
    "fig.update_xaxes(title_text='', tickfont=dict(size=18))\n",
    "fig.update_layout(height=400, width=1100, font_size=16, \n",
    "                  legend_title_text=None,\n",
    "                  margin=dict(l=40, r=40, b=30, t=50),\n",
    "                  showlegend=True,\n",
    "                  legend=dict(orientation=\"h\", yanchor=\"bottom\", y=1.01, xanchor=\"center\", x=0.5)\n",
    ")\n",
    "fig.write_image('./Pos_training/TS2Vec_head_model.pdf', format='pdf', width=1100, height=400)\n",
    "fig.show()"
   ]
  },
  {
   "cell_type": "code",
   "execution_count": 202,
   "metadata": {},
   "outputs": [
    {
     "data": {
      "application/vnd.plotly.v1+json": {
       "config": {
        "plotlyServerURL": "https://plot.ly"
       },
       "data": [
        {
         "alignmentgroup": "True",
         "hovertemplate": "Scenario=ECG<br>calibration=finetuning<br>head_model=MLP<br>SSL Model=%{x}<br>f1=%{y}<extra></extra>",
         "legendgroup": "ECG",
         "marker": {
          "color": "#636efa",
          "pattern": {
           "shape": ""
          }
         },
         "name": "ECG",
         "offsetgroup": "ECG",
         "orientation": "v",
         "showlegend": true,
         "textposition": "auto",
         "type": "bar",
         "x": [
          "TSTCC",
          "TS2Vec",
          "Series2Vec"
         ],
         "xaxis": "x",
         "y": {
          "bdata": "ldQJaCJsqD8IPZtVn6vjP5p3nKIjubw/",
          "dtype": "f8"
         },
         "yaxis": "y"
        },
        {
         "alignmentgroup": "True",
         "hovertemplate": "Scenario=All<br>calibration=finetuning<br>head_model=MLP<br>SSL Model=%{x}<br>f1=%{y}<extra></extra>",
         "legendgroup": "All",
         "marker": {
          "color": "#EF553B",
          "pattern": {
           "shape": ""
          }
         },
         "name": "All",
         "offsetgroup": "All",
         "orientation": "v",
         "showlegend": true,
         "textposition": "auto",
         "type": "bar",
         "x": [
          "TSTCC",
          "TS2Vec",
          "Series2Vec"
         ],
         "xaxis": "x",
         "y": {
          "bdata": "1edqK/aXnT97gy9MpgrgPyJseHqlLMM/",
          "dtype": "f8"
         },
         "yaxis": "y"
        },
        {
         "alignmentgroup": "True",
         "hovertemplate": "Scenario=ECG continued1<br>calibration=finetuning<br>head_model=MLP<br>SSL Model=%{x}<br>f1=%{y}<extra></extra>",
         "legendgroup": "ECG continued1",
         "marker": {
          "color": "#00cc96",
          "pattern": {
           "shape": ""
          }
         },
         "name": "ECG continued1",
         "offsetgroup": "ECG continued1",
         "orientation": "v",
         "showlegend": true,
         "textposition": "auto",
         "type": "bar",
         "x": [
          "Series2Vec",
          "TS2Vec",
          "TSTCC"
         ],
         "xaxis": "x",
         "y": {
          "bdata": "mEwVjErqxD+TGARWDi3kP+F6FK5H4ao/",
          "dtype": "f8"
         },
         "yaxis": "y"
        },
        {
         "alignmentgroup": "True",
         "hovertemplate": "Scenario=All extended<br>calibration=finetuning<br>head_model=MLP<br>SSL Model=%{x}<br>f1=%{y}<extra></extra>",
         "legendgroup": "All extended",
         "marker": {
          "color": "#ab63fa",
          "pattern": {
           "shape": ""
          }
         },
         "name": "All extended",
         "offsetgroup": "All extended",
         "orientation": "v",
         "showlegend": true,
         "textposition": "auto",
         "type": "bar",
         "x": [
          "Series2Vec",
          "TS2Vec",
          "TSTCC"
         ],
         "xaxis": "x",
         "y": {
          "bdata": "W0I+6Nmswj+8lpAPejbfP0+vlGWIY50/",
          "dtype": "f8"
         },
         "yaxis": "y"
        },
        {
         "alignmentgroup": "True",
         "hovertemplate": "Scenario=ECG extended<br>calibration=finetuning<br>head_model=MLP<br>SSL Model=%{x}<br>f1=%{y}<extra></extra>",
         "legendgroup": "ECG extended",
         "marker": {
          "color": "#FFA15A",
          "pattern": {
           "shape": ""
          }
         },
         "name": "ECG extended",
         "offsetgroup": "ECG extended",
         "orientation": "v",
         "showlegend": true,
         "textposition": "auto",
         "type": "bar",
         "x": [
          "Series2Vec",
          "TS2Vec",
          "TSTCC"
         ],
         "xaxis": "x",
         "y": {
          "bdata": "kKD4MeautT/ByqFFtvPjP5XUCWgibKg/",
          "dtype": "f8"
         },
         "yaxis": "y"
        },
        {
         "alignmentgroup": "True",
         "hovertemplate": "Scenario=All+Fragment<br>calibration=finetuning<br>head_model=MLP<br>SSL Model=%{x}<br>f1=%{y}<extra></extra>",
         "legendgroup": "All+Fragment",
         "marker": {
          "color": "#19d3f3",
          "pattern": {
           "shape": ""
          }
         },
         "name": "All+Fragment",
         "offsetgroup": "All+Fragment",
         "orientation": "v",
         "showlegend": true,
         "textposition": "auto",
         "type": "bar",
         "x": [
          "Series2Vec",
          "TS2Vec",
          "TSTCC"
         ],
         "xaxis": "x",
         "y": {
          "bdata": "0NVW7C+7tz+mm8QgsHLgP+JYF7fRAK4/",
          "dtype": "f8"
         },
         "yaxis": "y"
        },
        {
         "alignmentgroup": "True",
         "hovertemplate": "Scenario=ECG+Fragment<br>calibration=finetuning<br>head_model=MLP<br>SSL Model=%{x}<br>f1=%{y}<extra></extra>",
         "legendgroup": "ECG+Fragment",
         "marker": {
          "color": "#FF6692",
          "pattern": {
           "shape": ""
          }
         },
         "name": "ECG+Fragment",
         "offsetgroup": "ECG+Fragment",
         "orientation": "v",
         "showlegend": true,
         "textposition": "auto",
         "type": "bar",
         "x": [
          "Series2Vec",
          "TS2Vec",
          "TSTCC"
         ],
         "xaxis": "x",
         "y": {
          "bdata": "xty1hHzQsz+u2F92Tx7iPwTnjCjtDa4/",
          "dtype": "f8"
         },
         "yaxis": "y"
        },
        {
         "alignmentgroup": "True",
         "hovertemplate": "Scenario=ECG continued30<br>calibration=finetuning<br>head_model=MLP<br>SSL Model=%{x}<br>f1=%{y}<extra></extra>",
         "legendgroup": "ECG continued30",
         "marker": {
          "color": "#B6E880",
          "pattern": {
           "shape": ""
          }
         },
         "name": "ECG continued30",
         "offsetgroup": "ECG continued30",
         "orientation": "v",
         "showlegend": true,
         "textposition": "auto",
         "type": "bar",
         "x": [
          "Series2Vec",
          "TS2Vec",
          "TSTCC"
         ],
         "xaxis": "x",
         "y": {
          "bdata": "Ece6uI0GsD88TtGRXP7jP1OWIY51cZs/",
          "dtype": "f8"
         },
         "yaxis": "y"
        },
        {
         "alignmentgroup": "True",
         "hovertemplate": "Scenario=5 & 6 combined<br>calibration=finetuning<br>head_model=MLP<br>SSL Model=%{x}<br>f1=%{y}<extra></extra>",
         "legendgroup": "5 & 6 combined",
         "marker": {
          "color": "#FF97FF",
          "pattern": {
           "shape": ""
          }
         },
         "name": "5 & 6 combined",
         "offsetgroup": "5 & 6 combined",
         "orientation": "v",
         "showlegend": true,
         "textposition": "auto",
         "type": "bar",
         "x": [
          "Series2Vec",
          "TS2Vec",
          "TSTCC"
         ],
         "xaxis": "x",
         "y": {
          "bdata": "jnVxGw3gvT//snvysFDjP1K4HoXrUag/",
          "dtype": "f8"
         },
         "yaxis": "y"
        },
        {
         "alignmentgroup": "True",
         "hovertemplate": "Scenario=ECG<br>calibration=linearprobing<br>head_model=MLP<br>SSL Model=%{x}<br>f1=%{y}<extra></extra>",
         "legendgroup": "ECG",
         "marker": {
          "color": "#636efa",
          "pattern": {
           "shape": ""
          }
         },
         "name": "ECG",
         "offsetgroup": "ECG",
         "orientation": "v",
         "showlegend": true,
         "textposition": "auto",
         "type": "bar",
         "x": [
          "TSTCC",
          "TS2Vec",
          "Series2Vec"
         ],
         "xaxis": "x2",
         "y": {
          "bdata": "yJi7lpAP2j+PU3Qkl//gPwfOGVHaG9A/",
          "dtype": "f8"
         },
         "yaxis": "y2"
        },
        {
         "alignmentgroup": "True",
         "hovertemplate": "Scenario=All<br>calibration=linearprobing<br>head_model=MLP<br>SSL Model=%{x}<br>f1=%{y}<extra></extra>",
         "legendgroup": "All",
         "marker": {
          "color": "#EF553B",
          "pattern": {
           "shape": ""
          }
         },
         "name": "All",
         "offsetgroup": "All",
         "orientation": "v",
         "showlegend": true,
         "textposition": "auto",
         "type": "bar",
         "x": [
          "TSTCC",
          "TS2Vec",
          "Series2Vec"
         ],
         "xaxis": "x2",
         "y": {
          "bdata": "coqO5PIf1j+At0CC4sfgP2ZmZmZmZto/",
          "dtype": "f8"
         },
         "yaxis": "y2"
        },
        {
         "alignmentgroup": "True",
         "hovertemplate": "Scenario=ECG continued1<br>calibration=linearprobing<br>head_model=MLP<br>SSL Model=%{x}<br>f1=%{y}<extra></extra>",
         "legendgroup": "ECG continued1",
         "marker": {
          "color": "#00cc96",
          "pattern": {
           "shape": ""
          }
         },
         "name": "ECG continued1",
         "offsetgroup": "ECG continued1",
         "orientation": "v",
         "showlegend": true,
         "textposition": "auto",
         "type": "bar",
         "x": [
          "Series2Vec",
          "TS2Vec",
          "TSTCC"
         ],
         "xaxis": "x2",
         "y": {
          "bdata": "eJyiI7n8zz+0yHa+nxrhP9ZW7C+7J9s/",
          "dtype": "f8"
         },
         "yaxis": "y2"
        },
        {
         "alignmentgroup": "True",
         "hovertemplate": "Scenario=All extended<br>calibration=linearprobing<br>head_model=MLP<br>SSL Model=%{x}<br>f1=%{y}<extra></extra>",
         "legendgroup": "All extended",
         "marker": {
          "color": "#ab63fa",
          "pattern": {
           "shape": ""
          }
         },
         "name": "All extended",
         "offsetgroup": "All extended",
         "orientation": "v",
         "showlegend": true,
         "textposition": "auto",
         "type": "bar",
         "x": [
          "Series2Vec",
          "TS2Vec",
          "TSTCC"
         ],
         "xaxis": "x2",
         "y": {
          "bdata": "zojS3uAL1z+Nl24Sg8DgPxIUP8bctdg/",
          "dtype": "f8"
         },
         "yaxis": "y2"
        },
        {
         "alignmentgroup": "True",
         "hovertemplate": "Scenario=ECG extended<br>calibration=linearprobing<br>head_model=MLP<br>SSL Model=%{x}<br>f1=%{y}<extra></extra>",
         "legendgroup": "ECG extended",
         "marker": {
          "color": "#FFA15A",
          "pattern": {
           "shape": ""
          }
         },
         "name": "ECG extended",
         "offsetgroup": "ECG extended",
         "orientation": "v",
         "showlegend": true,
         "textposition": "auto",
         "type": "bar",
         "x": [
          "Series2Vec",
          "TS2Vec",
          "TSTCC"
         ],
         "xaxis": "x2",
         "y": {
          "bdata": "aLPqc7UV0z8mUwWjkjrhP1dbsb/sntg/",
          "dtype": "f8"
         },
         "yaxis": "y2"
        },
        {
         "alignmentgroup": "True",
         "hovertemplate": "Scenario=All+Fragment<br>calibration=linearprobing<br>head_model=MLP<br>SSL Model=%{x}<br>f1=%{y}<extra></extra>",
         "legendgroup": "All+Fragment",
         "marker": {
          "color": "#19d3f3",
          "pattern": {
           "shape": ""
          }
         },
         "name": "All+Fragment",
         "offsetgroup": "All+Fragment",
         "orientation": "v",
         "showlegend": true,
         "textposition": "auto",
         "type": "bar",
         "x": [
          "Series2Vec",
          "TS2Vec",
          "TSTCC"
         ],
         "xaxis": "x2",
         "y": {
          "bdata": "xf6ye/Kw4D8GgZVDi2zfP1r1udqK/dU/",
          "dtype": "f8"
         },
         "yaxis": "y2"
        },
        {
         "alignmentgroup": "True",
         "hovertemplate": "Scenario=ECG+Fragment<br>calibration=linearprobing<br>head_model=MLP<br>SSL Model=%{x}<br>f1=%{y}<extra></extra>",
         "legendgroup": "ECG+Fragment",
         "marker": {
          "color": "#FF6692",
          "pattern": {
           "shape": ""
          }
         },
         "name": "ECG+Fragment",
         "offsetgroup": "ECG+Fragment",
         "orientation": "v",
         "showlegend": true,
         "textposition": "auto",
         "type": "bar",
         "x": [
          "Series2Vec",
          "TS2Vec",
          "TSTCC"
         ],
         "xaxis": "x2",
         "y": {
          "bdata": "gQTFjzF31T9NFYxK6gTiP/OOU3Qkl98/",
          "dtype": "f8"
         },
         "yaxis": "y2"
        },
        {
         "alignmentgroup": "True",
         "hovertemplate": "Scenario=ECG continued30<br>calibration=linearprobing<br>head_model=MLP<br>SSL Model=%{x}<br>f1=%{y}<extra></extra>",
         "legendgroup": "ECG continued30",
         "marker": {
          "color": "#B6E880",
          "pattern": {
           "shape": ""
          }
         },
         "name": "ECG continued30",
         "offsetgroup": "ECG continued30",
         "orientation": "v",
         "showlegend": true,
         "textposition": "auto",
         "type": "bar",
         "x": [
          "Series2Vec",
          "TS2Vec",
          "TSTCC"
         ],
         "xaxis": "x2",
         "y": {
          "bdata": "rWnecYqO0D9xrIvbaADhP921hHzQs90/",
          "dtype": "f8"
         },
         "yaxis": "y2"
        },
        {
         "alignmentgroup": "True",
         "hovertemplate": "Scenario=5 & 6 combined<br>calibration=linearprobing<br>head_model=MLP<br>SSL Model=%{x}<br>f1=%{y}<extra></extra>",
         "legendgroup": "5 & 6 combined",
         "marker": {
          "color": "#FF97FF",
          "pattern": {
           "shape": ""
          }
         },
         "name": "5 & 6 combined",
         "offsetgroup": "5 & 6 combined",
         "orientation": "v",
         "showlegend": true,
         "textposition": "auto",
         "type": "bar",
         "x": [
          "Series2Vec",
          "TS2Vec",
          "TSTCC"
         ],
         "xaxis": "x2",
         "y": {
          "bdata": "vsEXJlMF0z/99nXgnBHhP1mGONbFbdg/",
          "dtype": "f8"
         },
         "yaxis": "y2"
        }
       ],
       "layout": {
        "annotations": [
         {
          "font": {
           "size": 18
          },
          "showarrow": false,
          "text": "Finetuning",
          "x": 0.23249999999999998,
          "xanchor": "center",
          "xref": "paper",
          "y": 1,
          "yanchor": "bottom",
          "yref": "paper"
         },
         {
          "font": {
           "size": 18
          },
          "showarrow": false,
          "text": "Linear Probing",
          "x": 0.7674999999999998,
          "xanchor": "center",
          "xref": "paper",
          "y": 1,
          "yanchor": "bottom",
          "yref": "paper"
         }
        ],
        "font": {
         "size": 18
        },
        "height": 420,
        "legend": {
         "orientation": "h",
         "title": {
          "text": ""
         },
         "x": 0.5,
         "xanchor": "center",
         "y": 1.07,
         "yanchor": "bottom"
        },
        "margin": {
         "b": 30,
         "l": 40,
         "r": 40,
         "t": 80
        },
        "showlegend": true,
        "template": {
         "data": {
          "bar": [
           {
            "error_x": {
             "color": "#2a3f5f"
            },
            "error_y": {
             "color": "#2a3f5f"
            },
            "marker": {
             "line": {
              "color": "white",
              "width": 0.5
             },
             "pattern": {
              "fillmode": "overlay",
              "size": 10,
              "solidity": 0.2
             }
            },
            "type": "bar"
           }
          ],
          "barpolar": [
           {
            "marker": {
             "line": {
              "color": "white",
              "width": 0.5
             },
             "pattern": {
              "fillmode": "overlay",
              "size": 10,
              "solidity": 0.2
             }
            },
            "type": "barpolar"
           }
          ],
          "carpet": [
           {
            "aaxis": {
             "endlinecolor": "#2a3f5f",
             "gridcolor": "#C8D4E3",
             "linecolor": "#C8D4E3",
             "minorgridcolor": "#C8D4E3",
             "startlinecolor": "#2a3f5f"
            },
            "baxis": {
             "endlinecolor": "#2a3f5f",
             "gridcolor": "#C8D4E3",
             "linecolor": "#C8D4E3",
             "minorgridcolor": "#C8D4E3",
             "startlinecolor": "#2a3f5f"
            },
            "type": "carpet"
           }
          ],
          "choropleth": [
           {
            "colorbar": {
             "outlinewidth": 0,
             "ticks": ""
            },
            "type": "choropleth"
           }
          ],
          "contour": [
           {
            "colorbar": {
             "outlinewidth": 0,
             "ticks": ""
            },
            "colorscale": [
             [
              0,
              "#0d0887"
             ],
             [
              0.1111111111111111,
              "#46039f"
             ],
             [
              0.2222222222222222,
              "#7201a8"
             ],
             [
              0.3333333333333333,
              "#9c179e"
             ],
             [
              0.4444444444444444,
              "#bd3786"
             ],
             [
              0.5555555555555556,
              "#d8576b"
             ],
             [
              0.6666666666666666,
              "#ed7953"
             ],
             [
              0.7777777777777778,
              "#fb9f3a"
             ],
             [
              0.8888888888888888,
              "#fdca26"
             ],
             [
              1,
              "#f0f921"
             ]
            ],
            "type": "contour"
           }
          ],
          "contourcarpet": [
           {
            "colorbar": {
             "outlinewidth": 0,
             "ticks": ""
            },
            "type": "contourcarpet"
           }
          ],
          "heatmap": [
           {
            "colorbar": {
             "outlinewidth": 0,
             "ticks": ""
            },
            "colorscale": [
             [
              0,
              "#0d0887"
             ],
             [
              0.1111111111111111,
              "#46039f"
             ],
             [
              0.2222222222222222,
              "#7201a8"
             ],
             [
              0.3333333333333333,
              "#9c179e"
             ],
             [
              0.4444444444444444,
              "#bd3786"
             ],
             [
              0.5555555555555556,
              "#d8576b"
             ],
             [
              0.6666666666666666,
              "#ed7953"
             ],
             [
              0.7777777777777778,
              "#fb9f3a"
             ],
             [
              0.8888888888888888,
              "#fdca26"
             ],
             [
              1,
              "#f0f921"
             ]
            ],
            "type": "heatmap"
           }
          ],
          "histogram": [
           {
            "marker": {
             "pattern": {
              "fillmode": "overlay",
              "size": 10,
              "solidity": 0.2
             }
            },
            "type": "histogram"
           }
          ],
          "histogram2d": [
           {
            "colorbar": {
             "outlinewidth": 0,
             "ticks": ""
            },
            "colorscale": [
             [
              0,
              "#0d0887"
             ],
             [
              0.1111111111111111,
              "#46039f"
             ],
             [
              0.2222222222222222,
              "#7201a8"
             ],
             [
              0.3333333333333333,
              "#9c179e"
             ],
             [
              0.4444444444444444,
              "#bd3786"
             ],
             [
              0.5555555555555556,
              "#d8576b"
             ],
             [
              0.6666666666666666,
              "#ed7953"
             ],
             [
              0.7777777777777778,
              "#fb9f3a"
             ],
             [
              0.8888888888888888,
              "#fdca26"
             ],
             [
              1,
              "#f0f921"
             ]
            ],
            "type": "histogram2d"
           }
          ],
          "histogram2dcontour": [
           {
            "colorbar": {
             "outlinewidth": 0,
             "ticks": ""
            },
            "colorscale": [
             [
              0,
              "#0d0887"
             ],
             [
              0.1111111111111111,
              "#46039f"
             ],
             [
              0.2222222222222222,
              "#7201a8"
             ],
             [
              0.3333333333333333,
              "#9c179e"
             ],
             [
              0.4444444444444444,
              "#bd3786"
             ],
             [
              0.5555555555555556,
              "#d8576b"
             ],
             [
              0.6666666666666666,
              "#ed7953"
             ],
             [
              0.7777777777777778,
              "#fb9f3a"
             ],
             [
              0.8888888888888888,
              "#fdca26"
             ],
             [
              1,
              "#f0f921"
             ]
            ],
            "type": "histogram2dcontour"
           }
          ],
          "mesh3d": [
           {
            "colorbar": {
             "outlinewidth": 0,
             "ticks": ""
            },
            "type": "mesh3d"
           }
          ],
          "parcoords": [
           {
            "line": {
             "colorbar": {
              "outlinewidth": 0,
              "ticks": ""
             }
            },
            "type": "parcoords"
           }
          ],
          "pie": [
           {
            "automargin": true,
            "type": "pie"
           }
          ],
          "scatter": [
           {
            "fillpattern": {
             "fillmode": "overlay",
             "size": 10,
             "solidity": 0.2
            },
            "type": "scatter"
           }
          ],
          "scatter3d": [
           {
            "line": {
             "colorbar": {
              "outlinewidth": 0,
              "ticks": ""
             }
            },
            "marker": {
             "colorbar": {
              "outlinewidth": 0,
              "ticks": ""
             }
            },
            "type": "scatter3d"
           }
          ],
          "scattercarpet": [
           {
            "marker": {
             "colorbar": {
              "outlinewidth": 0,
              "ticks": ""
             }
            },
            "type": "scattercarpet"
           }
          ],
          "scattergeo": [
           {
            "marker": {
             "colorbar": {
              "outlinewidth": 0,
              "ticks": ""
             }
            },
            "type": "scattergeo"
           }
          ],
          "scattergl": [
           {
            "marker": {
             "colorbar": {
              "outlinewidth": 0,
              "ticks": ""
             }
            },
            "type": "scattergl"
           }
          ],
          "scattermap": [
           {
            "marker": {
             "colorbar": {
              "outlinewidth": 0,
              "ticks": ""
             }
            },
            "type": "scattermap"
           }
          ],
          "scattermapbox": [
           {
            "marker": {
             "colorbar": {
              "outlinewidth": 0,
              "ticks": ""
             }
            },
            "type": "scattermapbox"
           }
          ],
          "scatterpolar": [
           {
            "marker": {
             "colorbar": {
              "outlinewidth": 0,
              "ticks": ""
             }
            },
            "type": "scatterpolar"
           }
          ],
          "scatterpolargl": [
           {
            "marker": {
             "colorbar": {
              "outlinewidth": 0,
              "ticks": ""
             }
            },
            "type": "scatterpolargl"
           }
          ],
          "scatterternary": [
           {
            "marker": {
             "colorbar": {
              "outlinewidth": 0,
              "ticks": ""
             }
            },
            "type": "scatterternary"
           }
          ],
          "surface": [
           {
            "colorbar": {
             "outlinewidth": 0,
             "ticks": ""
            },
            "colorscale": [
             [
              0,
              "#0d0887"
             ],
             [
              0.1111111111111111,
              "#46039f"
             ],
             [
              0.2222222222222222,
              "#7201a8"
             ],
             [
              0.3333333333333333,
              "#9c179e"
             ],
             [
              0.4444444444444444,
              "#bd3786"
             ],
             [
              0.5555555555555556,
              "#d8576b"
             ],
             [
              0.6666666666666666,
              "#ed7953"
             ],
             [
              0.7777777777777778,
              "#fb9f3a"
             ],
             [
              0.8888888888888888,
              "#fdca26"
             ],
             [
              1,
              "#f0f921"
             ]
            ],
            "type": "surface"
           }
          ],
          "table": [
           {
            "cells": {
             "fill": {
              "color": "#EBF0F8"
             },
             "line": {
              "color": "white"
             }
            },
            "header": {
             "fill": {
              "color": "#C8D4E3"
             },
             "line": {
              "color": "white"
             }
            },
            "type": "table"
           }
          ]
         },
         "layout": {
          "annotationdefaults": {
           "arrowcolor": "#2a3f5f",
           "arrowhead": 0,
           "arrowwidth": 1
          },
          "autotypenumbers": "strict",
          "coloraxis": {
           "colorbar": {
            "outlinewidth": 0,
            "ticks": ""
           }
          },
          "colorscale": {
           "diverging": [
            [
             0,
             "#8e0152"
            ],
            [
             0.1,
             "#c51b7d"
            ],
            [
             0.2,
             "#de77ae"
            ],
            [
             0.3,
             "#f1b6da"
            ],
            [
             0.4,
             "#fde0ef"
            ],
            [
             0.5,
             "#f7f7f7"
            ],
            [
             0.6,
             "#e6f5d0"
            ],
            [
             0.7,
             "#b8e186"
            ],
            [
             0.8,
             "#7fbc41"
            ],
            [
             0.9,
             "#4d9221"
            ],
            [
             1,
             "#276419"
            ]
           ],
           "sequential": [
            [
             0,
             "#0d0887"
            ],
            [
             0.1111111111111111,
             "#46039f"
            ],
            [
             0.2222222222222222,
             "#7201a8"
            ],
            [
             0.3333333333333333,
             "#9c179e"
            ],
            [
             0.4444444444444444,
             "#bd3786"
            ],
            [
             0.5555555555555556,
             "#d8576b"
            ],
            [
             0.6666666666666666,
             "#ed7953"
            ],
            [
             0.7777777777777778,
             "#fb9f3a"
            ],
            [
             0.8888888888888888,
             "#fdca26"
            ],
            [
             1,
             "#f0f921"
            ]
           ],
           "sequentialminus": [
            [
             0,
             "#0d0887"
            ],
            [
             0.1111111111111111,
             "#46039f"
            ],
            [
             0.2222222222222222,
             "#7201a8"
            ],
            [
             0.3333333333333333,
             "#9c179e"
            ],
            [
             0.4444444444444444,
             "#bd3786"
            ],
            [
             0.5555555555555556,
             "#d8576b"
            ],
            [
             0.6666666666666666,
             "#ed7953"
            ],
            [
             0.7777777777777778,
             "#fb9f3a"
            ],
            [
             0.8888888888888888,
             "#fdca26"
            ],
            [
             1,
             "#f0f921"
            ]
           ]
          },
          "colorway": [
           "#636efa",
           "#EF553B",
           "#00cc96",
           "#ab63fa",
           "#FFA15A",
           "#19d3f3",
           "#FF6692",
           "#B6E880",
           "#FF97FF",
           "#FECB52"
          ],
          "font": {
           "color": "#2a3f5f"
          },
          "geo": {
           "bgcolor": "white",
           "lakecolor": "white",
           "landcolor": "white",
           "showlakes": true,
           "showland": true,
           "subunitcolor": "#C8D4E3"
          },
          "hoverlabel": {
           "align": "left"
          },
          "hovermode": "closest",
          "legend": {
           "orientation": "h",
           "x": 1,
           "xanchor": "right",
           "y": 1.02,
           "yanchor": "bottom"
          },
          "mapbox": {
           "style": "light"
          },
          "margin": {
           "b": 50,
           "l": 50,
           "r": 50,
           "t": 50
          },
          "paper_bgcolor": "white",
          "plot_bgcolor": "white",
          "polar": {
           "angularaxis": {
            "gridcolor": "#EBF0F8",
            "linecolor": "#EBF0F8",
            "ticks": ""
           },
           "bgcolor": "white",
           "radialaxis": {
            "gridcolor": "#EBF0F8",
            "linecolor": "#EBF0F8",
            "ticks": ""
           }
          },
          "scene": {
           "xaxis": {
            "backgroundcolor": "white",
            "gridcolor": "#DFE8F3",
            "gridwidth": 2,
            "linecolor": "#EBF0F8",
            "showbackground": true,
            "ticks": "",
            "zerolinecolor": "#EBF0F8"
           },
           "yaxis": {
            "backgroundcolor": "white",
            "gridcolor": "#DFE8F3",
            "gridwidth": 2,
            "linecolor": "#EBF0F8",
            "showbackground": true,
            "ticks": "",
            "zerolinecolor": "#EBF0F8"
           },
           "zaxis": {
            "backgroundcolor": "white",
            "gridcolor": "#DFE8F3",
            "gridwidth": 2,
            "linecolor": "#EBF0F8",
            "showbackground": true,
            "ticks": "",
            "zerolinecolor": "#EBF0F8"
           }
          },
          "shapedefaults": {
           "line": {
            "color": "#2a3f5f"
           }
          },
          "ternary": {
           "aaxis": {
            "gridcolor": "#DFE8F3",
            "linecolor": "#A2B1C6",
            "ticks": ""
           },
           "baxis": {
            "gridcolor": "#DFE8F3",
            "linecolor": "#A2B1C6",
            "ticks": ""
           },
           "bgcolor": "white",
           "caxis": {
            "gridcolor": "#DFE8F3",
            "linecolor": "#A2B1C6",
            "ticks": ""
           }
          },
          "title": {
           "x": 0.05
          },
          "xaxis": {
           "automargin": true,
           "gridcolor": "#EBF0F8",
           "linecolor": "#EBF0F8",
           "ticks": "",
           "title": {
            "standoff": 15
           },
           "zerolinecolor": "#EBF0F8",
           "zerolinewidth": 2
          },
          "yaxis": {
           "automargin": true,
           "gridcolor": "#EBF0F8",
           "linecolor": "#EBF0F8",
           "ticks": "",
           "title": {
            "standoff": 15
           },
           "zerolinecolor": "#EBF0F8",
           "zerolinewidth": 2
          }
         }
        },
        "width": 1600,
        "xaxis": {
         "anchor": "y",
         "domain": [
          0,
          0.46499999999999997
         ]
        },
        "xaxis2": {
         "anchor": "y2",
         "domain": [
          0.5349999999999999,
          0.9999999999999999
         ]
        },
        "yaxis": {
         "anchor": "x",
         "domain": [
          0,
          1
         ],
         "range": [
          0,
          1
         ],
         "title": {
          "text": "F1-score"
         }
        },
        "yaxis2": {
         "anchor": "x2",
         "domain": [
          0,
          1
         ],
         "range": [
          0,
          1
         ],
         "title": {
          "text": "F1-score"
         }
        }
       }
      }
     },
     "metadata": {},
     "output_type": "display_data"
    }
   ],
   "source": [
    "fig_bar1 = px.bar(fragment_result.query(\"calibration == 'finetuning' & head_model == 'MLP'\"), x='ssl_model', y='f1', color='scenario', \n",
    "             facet_row='calibration', facet_col='head_model', barmode='group',\n",
    "             labels={'ssl_model': 'SSL Model', 'acc': 'Accuracy', 'scenario': 'Scenario'},\n",
    "             )\n",
    "\n",
    "fig_bar2 = px.bar(fragment_result.query(\"calibration == 'linearprobing' & head_model == 'MLP'\"), x='ssl_model', y='f1', color='scenario', \n",
    "             facet_row='calibration', facet_col='head_model', barmode='group',\n",
    "             labels={'ssl_model': 'SSL Model', 'acc': 'Accuracy', 'scenario': 'Scenario'},\n",
    "             )\n",
    "\n",
    "fig = make_subplots(rows=1, cols=2, subplot_titles=['Finetuning', 'Linear Probing'], horizontal_spacing=0.07,)\n",
    "\n",
    "fig.add_traces(\n",
    "    fig_bar1['data'],\n",
    "    rows=1, cols=1\n",
    ")\n",
    "\n",
    "fig.add_traces(\n",
    "    fig_bar2['data'],\n",
    "    rows=1, cols=2,\n",
    "\n",
    ")\n",
    "fig.update_annotations(font_size=18)\n",
    "fig.update_layout(showlegend=False)\n",
    "fig.update_yaxes(title='F1-score', range=[0, 1])\n",
    "fig.update_layout(height=420, width=1600, font_size=18, \n",
    "                  legend_title_text=\"\",\n",
    "                  margin=dict(l=40, r=40, b=30, t=80),\n",
    "                  showlegend=True,\n",
    "                  legend=dict(orientation=\"h\", yanchor=\"bottom\", y=1.07, xanchor=\"center\", x=0.5)\n",
    ")"
   ]
  },
  {
   "cell_type": "code",
   "execution_count": 161,
   "metadata": {},
   "outputs": [
    {
     "data": {
      "application/vnd.plotly.v1+json": {
       "config": {
        "plotlyServerURL": "https://plot.ly"
       },
       "data": [
        {
         "alignmentgroup": "True",
         "hovertemplate": "Scenario=ECG<br>calibration=linearprobing<br>SSL Model=%{x}<br>F1-score=%{y}<extra></extra>",
         "legendgroup": "ECG",
         "marker": {
          "color": "#FECB52",
          "pattern": {
           "shape": ""
          }
         },
         "name": "ECG",
         "offsetgroup": "ECG",
         "orientation": "v",
         "showlegend": true,
         "textposition": "auto",
         "type": "bar",
         "x": [
          "TSTCC",
          "TS2Vec",
          "Series2Vec"
         ],
         "xaxis": "x2",
         "y": {
          "bdata": "yJi7lpAP2j+PU3Qkl//gPwfOGVHaG9A/",
          "dtype": "f8"
         },
         "yaxis": "y2"
        },
        {
         "alignmentgroup": "True",
         "hovertemplate": "Scenario=ECG<br>calibration=finetuning<br>SSL Model=%{x}<br>F1-score=%{y}<extra></extra>",
         "legendgroup": "ECG",
         "marker": {
          "color": "#FECB52",
          "pattern": {
           "shape": ""
          }
         },
         "name": "ECG",
         "offsetgroup": "ECG",
         "orientation": "v",
         "showlegend": false,
         "textposition": "auto",
         "type": "bar",
         "x": [
          "TSTCC",
          "TS2Vec",
          "Series2Vec"
         ],
         "xaxis": "x",
         "y": {
          "bdata": "ldQJaCJsqD8IPZtVn6vjP5p3nKIjubw/",
          "dtype": "f8"
         },
         "yaxis": "y"
        },
        {
         "alignmentgroup": "True",
         "hovertemplate": "Scenario=All<br>calibration=linearprobing<br>SSL Model=%{x}<br>F1-score=%{y}<extra></extra>",
         "legendgroup": "All",
         "marker": {
          "color": "#636efa",
          "pattern": {
           "shape": ""
          }
         },
         "name": "All",
         "offsetgroup": "All",
         "orientation": "v",
         "showlegend": true,
         "textposition": "auto",
         "type": "bar",
         "x": [
          "TSTCC",
          "TS2Vec",
          "Series2Vec"
         ],
         "xaxis": "x2",
         "y": {
          "bdata": "coqO5PIf1j+At0CC4sfgP2ZmZmZmZto/",
          "dtype": "f8"
         },
         "yaxis": "y2"
        },
        {
         "alignmentgroup": "True",
         "hovertemplate": "Scenario=All<br>calibration=finetuning<br>SSL Model=%{x}<br>F1-score=%{y}<extra></extra>",
         "legendgroup": "All",
         "marker": {
          "color": "#636efa",
          "pattern": {
           "shape": ""
          }
         },
         "name": "All",
         "offsetgroup": "All",
         "orientation": "v",
         "showlegend": false,
         "textposition": "auto",
         "type": "bar",
         "x": [
          "TSTCC",
          "TS2Vec",
          "Series2Vec"
         ],
         "xaxis": "x",
         "y": {
          "bdata": "1edqK/aXnT97gy9MpgrgPyJseHqlLMM/",
          "dtype": "f8"
         },
         "yaxis": "y"
        },
        {
         "alignmentgroup": "True",
         "hovertemplate": "Scenario=ECG continued1<br>calibration=linearprobing<br>SSL Model=%{x}<br>F1-score=%{y}<extra></extra>",
         "legendgroup": "ECG continued1",
         "marker": {
          "color": "#EF553B",
          "pattern": {
           "shape": ""
          }
         },
         "name": "ECG continued1",
         "offsetgroup": "ECG continued1",
         "orientation": "v",
         "showlegend": true,
         "textposition": "auto",
         "type": "bar",
         "x": [
          "Series2Vec",
          "TS2Vec",
          "TSTCC"
         ],
         "xaxis": "x2",
         "y": {
          "bdata": "eJyiI7n8zz+0yHa+nxrhP9ZW7C+7J9s/",
          "dtype": "f8"
         },
         "yaxis": "y2"
        },
        {
         "alignmentgroup": "True",
         "hovertemplate": "Scenario=ECG continued1<br>calibration=finetuning<br>SSL Model=%{x}<br>F1-score=%{y}<extra></extra>",
         "legendgroup": "ECG continued1",
         "marker": {
          "color": "#EF553B",
          "pattern": {
           "shape": ""
          }
         },
         "name": "ECG continued1",
         "offsetgroup": "ECG continued1",
         "orientation": "v",
         "showlegend": false,
         "textposition": "auto",
         "type": "bar",
         "x": [
          "Series2Vec",
          "TS2Vec",
          "TSTCC"
         ],
         "xaxis": "x",
         "y": {
          "bdata": "mEwVjErqxD+TGARWDi3kP+F6FK5H4ao/",
          "dtype": "f8"
         },
         "yaxis": "y"
        },
        {
         "alignmentgroup": "True",
         "hovertemplate": "Scenario=All extended<br>calibration=linearprobing<br>SSL Model=%{x}<br>F1-score=%{y}<extra></extra>",
         "legendgroup": "All extended",
         "marker": {
          "color": "#00cc96",
          "pattern": {
           "shape": ""
          }
         },
         "name": "All extended",
         "offsetgroup": "All extended",
         "orientation": "v",
         "showlegend": true,
         "textposition": "auto",
         "type": "bar",
         "x": [
          "Series2Vec",
          "TS2Vec",
          "TSTCC"
         ],
         "xaxis": "x2",
         "y": {
          "bdata": "zojS3uAL1z+Nl24Sg8DgPxIUP8bctdg/",
          "dtype": "f8"
         },
         "yaxis": "y2"
        },
        {
         "alignmentgroup": "True",
         "hovertemplate": "Scenario=All extended<br>calibration=finetuning<br>SSL Model=%{x}<br>F1-score=%{y}<extra></extra>",
         "legendgroup": "All extended",
         "marker": {
          "color": "#00cc96",
          "pattern": {
           "shape": ""
          }
         },
         "name": "All extended",
         "offsetgroup": "All extended",
         "orientation": "v",
         "showlegend": false,
         "textposition": "auto",
         "type": "bar",
         "x": [
          "Series2Vec",
          "TS2Vec",
          "TSTCC"
         ],
         "xaxis": "x",
         "y": {
          "bdata": "W0I+6Nmswj+8lpAPejbfP0+vlGWIY50/",
          "dtype": "f8"
         },
         "yaxis": "y"
        },
        {
         "alignmentgroup": "True",
         "hovertemplate": "Scenario=ECG extended<br>calibration=linearprobing<br>SSL Model=%{x}<br>F1-score=%{y}<extra></extra>",
         "legendgroup": "ECG extended",
         "marker": {
          "color": "#ab63fa",
          "pattern": {
           "shape": ""
          }
         },
         "name": "ECG extended",
         "offsetgroup": "ECG extended",
         "orientation": "v",
         "showlegend": true,
         "textposition": "auto",
         "type": "bar",
         "x": [
          "Series2Vec",
          "TS2Vec",
          "TSTCC"
         ],
         "xaxis": "x2",
         "y": {
          "bdata": "aLPqc7UV0z8mUwWjkjrhP1dbsb/sntg/",
          "dtype": "f8"
         },
         "yaxis": "y2"
        },
        {
         "alignmentgroup": "True",
         "hovertemplate": "Scenario=ECG extended<br>calibration=finetuning<br>SSL Model=%{x}<br>F1-score=%{y}<extra></extra>",
         "legendgroup": "ECG extended",
         "marker": {
          "color": "#ab63fa",
          "pattern": {
           "shape": ""
          }
         },
         "name": "ECG extended",
         "offsetgroup": "ECG extended",
         "orientation": "v",
         "showlegend": false,
         "textposition": "auto",
         "type": "bar",
         "x": [
          "Series2Vec",
          "TS2Vec",
          "TSTCC"
         ],
         "xaxis": "x",
         "y": {
          "bdata": "kKD4MeautT/ByqFFtvPjP5XUCWgibKg/",
          "dtype": "f8"
         },
         "yaxis": "y"
        },
        {
         "alignmentgroup": "True",
         "hovertemplate": "Scenario=All+Fragment<br>calibration=linearprobing<br>SSL Model=%{x}<br>F1-score=%{y}<extra></extra>",
         "legendgroup": "All+Fragment",
         "marker": {
          "color": "#FFA15A",
          "pattern": {
           "shape": ""
          }
         },
         "name": "All+Fragment",
         "offsetgroup": "All+Fragment",
         "orientation": "v",
         "showlegend": true,
         "textposition": "auto",
         "type": "bar",
         "x": [
          "Series2Vec",
          "TS2Vec",
          "TSTCC"
         ],
         "xaxis": "x2",
         "y": {
          "bdata": "xf6ye/Kw4D8GgZVDi2zfP1r1udqK/dU/",
          "dtype": "f8"
         },
         "yaxis": "y2"
        },
        {
         "alignmentgroup": "True",
         "hovertemplate": "Scenario=All+Fragment<br>calibration=finetuning<br>SSL Model=%{x}<br>F1-score=%{y}<extra></extra>",
         "legendgroup": "All+Fragment",
         "marker": {
          "color": "#FFA15A",
          "pattern": {
           "shape": ""
          }
         },
         "name": "All+Fragment",
         "offsetgroup": "All+Fragment",
         "orientation": "v",
         "showlegend": false,
         "textposition": "auto",
         "type": "bar",
         "x": [
          "Series2Vec",
          "TS2Vec",
          "TSTCC"
         ],
         "xaxis": "x",
         "y": {
          "bdata": "0NVW7C+7tz+mm8QgsHLgP+JYF7fRAK4/",
          "dtype": "f8"
         },
         "yaxis": "y"
        },
        {
         "alignmentgroup": "True",
         "hovertemplate": "Scenario=ECG+Fragment<br>calibration=linearprobing<br>SSL Model=%{x}<br>F1-score=%{y}<extra></extra>",
         "legendgroup": "ECG+Fragment",
         "marker": {
          "color": "#19d3f3",
          "pattern": {
           "shape": ""
          }
         },
         "name": "ECG+Fragment",
         "offsetgroup": "ECG+Fragment",
         "orientation": "v",
         "showlegend": true,
         "textposition": "auto",
         "type": "bar",
         "x": [
          "Series2Vec",
          "TS2Vec",
          "TSTCC"
         ],
         "xaxis": "x2",
         "y": {
          "bdata": "gQTFjzF31T9NFYxK6gTiP/OOU3Qkl98/",
          "dtype": "f8"
         },
         "yaxis": "y2"
        },
        {
         "alignmentgroup": "True",
         "hovertemplate": "Scenario=ECG+Fragment<br>calibration=finetuning<br>SSL Model=%{x}<br>F1-score=%{y}<extra></extra>",
         "legendgroup": "ECG+Fragment",
         "marker": {
          "color": "#19d3f3",
          "pattern": {
           "shape": ""
          }
         },
         "name": "ECG+Fragment",
         "offsetgroup": "ECG+Fragment",
         "orientation": "v",
         "showlegend": false,
         "textposition": "auto",
         "type": "bar",
         "x": [
          "Series2Vec",
          "TS2Vec",
          "TSTCC"
         ],
         "xaxis": "x",
         "y": {
          "bdata": "xty1hHzQsz+u2F92Tx7iPwTnjCjtDa4/",
          "dtype": "f8"
         },
         "yaxis": "y"
        },
        {
         "alignmentgroup": "True",
         "hovertemplate": "Scenario=ECG continued30<br>calibration=linearprobing<br>SSL Model=%{x}<br>F1-score=%{y}<extra></extra>",
         "legendgroup": "ECG continued30",
         "marker": {
          "color": "#FF6692",
          "pattern": {
           "shape": ""
          }
         },
         "name": "ECG continued30",
         "offsetgroup": "ECG continued30",
         "orientation": "v",
         "showlegend": true,
         "textposition": "auto",
         "type": "bar",
         "x": [
          "Series2Vec",
          "TS2Vec",
          "TSTCC"
         ],
         "xaxis": "x2",
         "y": {
          "bdata": "rWnecYqO0D9xrIvbaADhP921hHzQs90/",
          "dtype": "f8"
         },
         "yaxis": "y2"
        },
        {
         "alignmentgroup": "True",
         "hovertemplate": "Scenario=ECG continued30<br>calibration=finetuning<br>SSL Model=%{x}<br>F1-score=%{y}<extra></extra>",
         "legendgroup": "ECG continued30",
         "marker": {
          "color": "#FF6692",
          "pattern": {
           "shape": ""
          }
         },
         "name": "ECG continued30",
         "offsetgroup": "ECG continued30",
         "orientation": "v",
         "showlegend": false,
         "textposition": "auto",
         "type": "bar",
         "x": [
          "Series2Vec",
          "TS2Vec",
          "TSTCC"
         ],
         "xaxis": "x",
         "y": {
          "bdata": "Ece6uI0GsD88TtGRXP7jP1OWIY51cZs/",
          "dtype": "f8"
         },
         "yaxis": "y"
        },
        {
         "alignmentgroup": "True",
         "hovertemplate": "Scenario=5 & 6 combined<br>calibration=linearprobing<br>SSL Model=%{x}<br>F1-score=%{y}<extra></extra>",
         "legendgroup": "5 & 6 combined",
         "marker": {
          "color": "#B6E880",
          "pattern": {
           "shape": ""
          }
         },
         "name": "5 & 6 combined",
         "offsetgroup": "5 & 6 combined",
         "orientation": "v",
         "showlegend": true,
         "textposition": "auto",
         "type": "bar",
         "x": [
          "Series2Vec",
          "TS2Vec",
          "TSTCC"
         ],
         "xaxis": "x2",
         "y": {
          "bdata": "vsEXJlMF0z/99nXgnBHhP1mGONbFbdg/",
          "dtype": "f8"
         },
         "yaxis": "y2"
        },
        {
         "alignmentgroup": "True",
         "hovertemplate": "Scenario=5 & 6 combined<br>calibration=finetuning<br>SSL Model=%{x}<br>F1-score=%{y}<extra></extra>",
         "legendgroup": "5 & 6 combined",
         "marker": {
          "color": "#B6E880",
          "pattern": {
           "shape": ""
          }
         },
         "name": "5 & 6 combined",
         "offsetgroup": "5 & 6 combined",
         "orientation": "v",
         "showlegend": false,
         "textposition": "auto",
         "type": "bar",
         "x": [
          "Series2Vec",
          "TS2Vec",
          "TSTCC"
         ],
         "xaxis": "x",
         "y": {
          "bdata": "jnVxGw3gvT//snvysFDjP1K4HoXrUag/",
          "dtype": "f8"
         },
         "yaxis": "y"
        }
       ],
       "layout": {
        "annotations": [
         {
          "font": {},
          "showarrow": false,
          "text": "calibration=finetuning",
          "textangle": 90,
          "x": 0.98,
          "xanchor": "left",
          "xref": "paper",
          "y": 0.2425,
          "yanchor": "middle",
          "yref": "paper"
         },
         {
          "font": {},
          "showarrow": false,
          "text": "calibration=linearprobing",
          "textangle": 90,
          "x": 0.98,
          "xanchor": "left",
          "xref": "paper",
          "y": 0.7575000000000001,
          "yanchor": "middle",
          "yref": "paper"
         }
        ],
        "barmode": "group",
        "font": {
         "size": 16
        },
        "height": 600,
        "legend": {
         "orientation": "h",
         "title": {
          "text": ""
         },
         "tracegroupgap": 0,
         "x": 0.5,
         "xanchor": "center",
         "y": 1.07,
         "yanchor": "bottom"
        },
        "margin": {
         "b": 30,
         "l": 40,
         "r": 40,
         "t": 80
        },
        "showlegend": true,
        "template": {
         "data": {
          "bar": [
           {
            "error_x": {
             "color": "#2a3f5f"
            },
            "error_y": {
             "color": "#2a3f5f"
            },
            "marker": {
             "line": {
              "color": "white",
              "width": 0.5
             },
             "pattern": {
              "fillmode": "overlay",
              "size": 10,
              "solidity": 0.2
             }
            },
            "type": "bar"
           }
          ],
          "barpolar": [
           {
            "marker": {
             "line": {
              "color": "white",
              "width": 0.5
             },
             "pattern": {
              "fillmode": "overlay",
              "size": 10,
              "solidity": 0.2
             }
            },
            "type": "barpolar"
           }
          ],
          "carpet": [
           {
            "aaxis": {
             "endlinecolor": "#2a3f5f",
             "gridcolor": "#C8D4E3",
             "linecolor": "#C8D4E3",
             "minorgridcolor": "#C8D4E3",
             "startlinecolor": "#2a3f5f"
            },
            "baxis": {
             "endlinecolor": "#2a3f5f",
             "gridcolor": "#C8D4E3",
             "linecolor": "#C8D4E3",
             "minorgridcolor": "#C8D4E3",
             "startlinecolor": "#2a3f5f"
            },
            "type": "carpet"
           }
          ],
          "choropleth": [
           {
            "colorbar": {
             "outlinewidth": 0,
             "ticks": ""
            },
            "type": "choropleth"
           }
          ],
          "contour": [
           {
            "colorbar": {
             "outlinewidth": 0,
             "ticks": ""
            },
            "colorscale": [
             [
              0,
              "#0d0887"
             ],
             [
              0.1111111111111111,
              "#46039f"
             ],
             [
              0.2222222222222222,
              "#7201a8"
             ],
             [
              0.3333333333333333,
              "#9c179e"
             ],
             [
              0.4444444444444444,
              "#bd3786"
             ],
             [
              0.5555555555555556,
              "#d8576b"
             ],
             [
              0.6666666666666666,
              "#ed7953"
             ],
             [
              0.7777777777777778,
              "#fb9f3a"
             ],
             [
              0.8888888888888888,
              "#fdca26"
             ],
             [
              1,
              "#f0f921"
             ]
            ],
            "type": "contour"
           }
          ],
          "contourcarpet": [
           {
            "colorbar": {
             "outlinewidth": 0,
             "ticks": ""
            },
            "type": "contourcarpet"
           }
          ],
          "heatmap": [
           {
            "colorbar": {
             "outlinewidth": 0,
             "ticks": ""
            },
            "colorscale": [
             [
              0,
              "#0d0887"
             ],
             [
              0.1111111111111111,
              "#46039f"
             ],
             [
              0.2222222222222222,
              "#7201a8"
             ],
             [
              0.3333333333333333,
              "#9c179e"
             ],
             [
              0.4444444444444444,
              "#bd3786"
             ],
             [
              0.5555555555555556,
              "#d8576b"
             ],
             [
              0.6666666666666666,
              "#ed7953"
             ],
             [
              0.7777777777777778,
              "#fb9f3a"
             ],
             [
              0.8888888888888888,
              "#fdca26"
             ],
             [
              1,
              "#f0f921"
             ]
            ],
            "type": "heatmap"
           }
          ],
          "histogram": [
           {
            "marker": {
             "pattern": {
              "fillmode": "overlay",
              "size": 10,
              "solidity": 0.2
             }
            },
            "type": "histogram"
           }
          ],
          "histogram2d": [
           {
            "colorbar": {
             "outlinewidth": 0,
             "ticks": ""
            },
            "colorscale": [
             [
              0,
              "#0d0887"
             ],
             [
              0.1111111111111111,
              "#46039f"
             ],
             [
              0.2222222222222222,
              "#7201a8"
             ],
             [
              0.3333333333333333,
              "#9c179e"
             ],
             [
              0.4444444444444444,
              "#bd3786"
             ],
             [
              0.5555555555555556,
              "#d8576b"
             ],
             [
              0.6666666666666666,
              "#ed7953"
             ],
             [
              0.7777777777777778,
              "#fb9f3a"
             ],
             [
              0.8888888888888888,
              "#fdca26"
             ],
             [
              1,
              "#f0f921"
             ]
            ],
            "type": "histogram2d"
           }
          ],
          "histogram2dcontour": [
           {
            "colorbar": {
             "outlinewidth": 0,
             "ticks": ""
            },
            "colorscale": [
             [
              0,
              "#0d0887"
             ],
             [
              0.1111111111111111,
              "#46039f"
             ],
             [
              0.2222222222222222,
              "#7201a8"
             ],
             [
              0.3333333333333333,
              "#9c179e"
             ],
             [
              0.4444444444444444,
              "#bd3786"
             ],
             [
              0.5555555555555556,
              "#d8576b"
             ],
             [
              0.6666666666666666,
              "#ed7953"
             ],
             [
              0.7777777777777778,
              "#fb9f3a"
             ],
             [
              0.8888888888888888,
              "#fdca26"
             ],
             [
              1,
              "#f0f921"
             ]
            ],
            "type": "histogram2dcontour"
           }
          ],
          "mesh3d": [
           {
            "colorbar": {
             "outlinewidth": 0,
             "ticks": ""
            },
            "type": "mesh3d"
           }
          ],
          "parcoords": [
           {
            "line": {
             "colorbar": {
              "outlinewidth": 0,
              "ticks": ""
             }
            },
            "type": "parcoords"
           }
          ],
          "pie": [
           {
            "automargin": true,
            "type": "pie"
           }
          ],
          "scatter": [
           {
            "fillpattern": {
             "fillmode": "overlay",
             "size": 10,
             "solidity": 0.2
            },
            "type": "scatter"
           }
          ],
          "scatter3d": [
           {
            "line": {
             "colorbar": {
              "outlinewidth": 0,
              "ticks": ""
             }
            },
            "marker": {
             "colorbar": {
              "outlinewidth": 0,
              "ticks": ""
             }
            },
            "type": "scatter3d"
           }
          ],
          "scattercarpet": [
           {
            "marker": {
             "colorbar": {
              "outlinewidth": 0,
              "ticks": ""
             }
            },
            "type": "scattercarpet"
           }
          ],
          "scattergeo": [
           {
            "marker": {
             "colorbar": {
              "outlinewidth": 0,
              "ticks": ""
             }
            },
            "type": "scattergeo"
           }
          ],
          "scattergl": [
           {
            "marker": {
             "colorbar": {
              "outlinewidth": 0,
              "ticks": ""
             }
            },
            "type": "scattergl"
           }
          ],
          "scattermap": [
           {
            "marker": {
             "colorbar": {
              "outlinewidth": 0,
              "ticks": ""
             }
            },
            "type": "scattermap"
           }
          ],
          "scattermapbox": [
           {
            "marker": {
             "colorbar": {
              "outlinewidth": 0,
              "ticks": ""
             }
            },
            "type": "scattermapbox"
           }
          ],
          "scatterpolar": [
           {
            "marker": {
             "colorbar": {
              "outlinewidth": 0,
              "ticks": ""
             }
            },
            "type": "scatterpolar"
           }
          ],
          "scatterpolargl": [
           {
            "marker": {
             "colorbar": {
              "outlinewidth": 0,
              "ticks": ""
             }
            },
            "type": "scatterpolargl"
           }
          ],
          "scatterternary": [
           {
            "marker": {
             "colorbar": {
              "outlinewidth": 0,
              "ticks": ""
             }
            },
            "type": "scatterternary"
           }
          ],
          "surface": [
           {
            "colorbar": {
             "outlinewidth": 0,
             "ticks": ""
            },
            "colorscale": [
             [
              0,
              "#0d0887"
             ],
             [
              0.1111111111111111,
              "#46039f"
             ],
             [
              0.2222222222222222,
              "#7201a8"
             ],
             [
              0.3333333333333333,
              "#9c179e"
             ],
             [
              0.4444444444444444,
              "#bd3786"
             ],
             [
              0.5555555555555556,
              "#d8576b"
             ],
             [
              0.6666666666666666,
              "#ed7953"
             ],
             [
              0.7777777777777778,
              "#fb9f3a"
             ],
             [
              0.8888888888888888,
              "#fdca26"
             ],
             [
              1,
              "#f0f921"
             ]
            ],
            "type": "surface"
           }
          ],
          "table": [
           {
            "cells": {
             "fill": {
              "color": "#EBF0F8"
             },
             "line": {
              "color": "white"
             }
            },
            "header": {
             "fill": {
              "color": "#C8D4E3"
             },
             "line": {
              "color": "white"
             }
            },
            "type": "table"
           }
          ]
         },
         "layout": {
          "annotationdefaults": {
           "arrowcolor": "#2a3f5f",
           "arrowhead": 0,
           "arrowwidth": 1
          },
          "autotypenumbers": "strict",
          "coloraxis": {
           "colorbar": {
            "outlinewidth": 0,
            "ticks": ""
           }
          },
          "colorscale": {
           "diverging": [
            [
             0,
             "#8e0152"
            ],
            [
             0.1,
             "#c51b7d"
            ],
            [
             0.2,
             "#de77ae"
            ],
            [
             0.3,
             "#f1b6da"
            ],
            [
             0.4,
             "#fde0ef"
            ],
            [
             0.5,
             "#f7f7f7"
            ],
            [
             0.6,
             "#e6f5d0"
            ],
            [
             0.7,
             "#b8e186"
            ],
            [
             0.8,
             "#7fbc41"
            ],
            [
             0.9,
             "#4d9221"
            ],
            [
             1,
             "#276419"
            ]
           ],
           "sequential": [
            [
             0,
             "#0d0887"
            ],
            [
             0.1111111111111111,
             "#46039f"
            ],
            [
             0.2222222222222222,
             "#7201a8"
            ],
            [
             0.3333333333333333,
             "#9c179e"
            ],
            [
             0.4444444444444444,
             "#bd3786"
            ],
            [
             0.5555555555555556,
             "#d8576b"
            ],
            [
             0.6666666666666666,
             "#ed7953"
            ],
            [
             0.7777777777777778,
             "#fb9f3a"
            ],
            [
             0.8888888888888888,
             "#fdca26"
            ],
            [
             1,
             "#f0f921"
            ]
           ],
           "sequentialminus": [
            [
             0,
             "#0d0887"
            ],
            [
             0.1111111111111111,
             "#46039f"
            ],
            [
             0.2222222222222222,
             "#7201a8"
            ],
            [
             0.3333333333333333,
             "#9c179e"
            ],
            [
             0.4444444444444444,
             "#bd3786"
            ],
            [
             0.5555555555555556,
             "#d8576b"
            ],
            [
             0.6666666666666666,
             "#ed7953"
            ],
            [
             0.7777777777777778,
             "#fb9f3a"
            ],
            [
             0.8888888888888888,
             "#fdca26"
            ],
            [
             1,
             "#f0f921"
            ]
           ]
          },
          "colorway": [
           "#636efa",
           "#EF553B",
           "#00cc96",
           "#ab63fa",
           "#FFA15A",
           "#19d3f3",
           "#FF6692",
           "#B6E880",
           "#FF97FF",
           "#FECB52"
          ],
          "font": {
           "color": "#2a3f5f"
          },
          "geo": {
           "bgcolor": "white",
           "lakecolor": "white",
           "landcolor": "white",
           "showlakes": true,
           "showland": true,
           "subunitcolor": "#C8D4E3"
          },
          "hoverlabel": {
           "align": "left"
          },
          "hovermode": "closest",
          "legend": {
           "orientation": "h",
           "x": 1,
           "xanchor": "right",
           "y": 1.02,
           "yanchor": "bottom"
          },
          "mapbox": {
           "style": "light"
          },
          "margin": {
           "b": 50,
           "l": 50,
           "r": 50,
           "t": 50
          },
          "paper_bgcolor": "white",
          "plot_bgcolor": "white",
          "polar": {
           "angularaxis": {
            "gridcolor": "#EBF0F8",
            "linecolor": "#EBF0F8",
            "ticks": ""
           },
           "bgcolor": "white",
           "radialaxis": {
            "gridcolor": "#EBF0F8",
            "linecolor": "#EBF0F8",
            "ticks": ""
           }
          },
          "scene": {
           "xaxis": {
            "backgroundcolor": "white",
            "gridcolor": "#DFE8F3",
            "gridwidth": 2,
            "linecolor": "#EBF0F8",
            "showbackground": true,
            "ticks": "",
            "zerolinecolor": "#EBF0F8"
           },
           "yaxis": {
            "backgroundcolor": "white",
            "gridcolor": "#DFE8F3",
            "gridwidth": 2,
            "linecolor": "#EBF0F8",
            "showbackground": true,
            "ticks": "",
            "zerolinecolor": "#EBF0F8"
           },
           "zaxis": {
            "backgroundcolor": "white",
            "gridcolor": "#DFE8F3",
            "gridwidth": 2,
            "linecolor": "#EBF0F8",
            "showbackground": true,
            "ticks": "",
            "zerolinecolor": "#EBF0F8"
           }
          },
          "shapedefaults": {
           "line": {
            "color": "#2a3f5f"
           }
          },
          "ternary": {
           "aaxis": {
            "gridcolor": "#DFE8F3",
            "linecolor": "#A2B1C6",
            "ticks": ""
           },
           "baxis": {
            "gridcolor": "#DFE8F3",
            "linecolor": "#A2B1C6",
            "ticks": ""
           },
           "bgcolor": "white",
           "caxis": {
            "gridcolor": "#DFE8F3",
            "linecolor": "#A2B1C6",
            "ticks": ""
           }
          },
          "title": {
           "x": 0.05
          },
          "xaxis": {
           "automargin": true,
           "gridcolor": "#EBF0F8",
           "linecolor": "#EBF0F8",
           "ticks": "",
           "title": {
            "standoff": 15
           },
           "zerolinecolor": "#EBF0F8",
           "zerolinewidth": 2
          },
          "yaxis": {
           "automargin": true,
           "gridcolor": "#EBF0F8",
           "linecolor": "#EBF0F8",
           "ticks": "",
           "title": {
            "standoff": 15
           },
           "zerolinecolor": "#EBF0F8",
           "zerolinewidth": 2
          }
         }
        },
        "width": 900,
        "xaxis": {
         "anchor": "y",
         "domain": [
          0,
          0.98
         ],
         "title": {
          "text": "SSL Model"
         }
        },
        "xaxis2": {
         "anchor": "y2",
         "domain": [
          0,
          0.98
         ],
         "matches": "x",
         "showticklabels": false
        },
        "yaxis": {
         "anchor": "x",
         "domain": [
          0,
          0.485
         ],
         "range": [
          0,
          1
         ],
         "title": {
          "text": "F1-score"
         }
        },
        "yaxis2": {
         "anchor": "x2",
         "domain": [
          0.515,
          1
         ],
         "matches": "y",
         "range": [
          0,
          1
         ],
         "title": {
          "text": "F1-score"
         }
        }
       }
      }
     },
     "metadata": {},
     "output_type": "display_data"
    }
   ],
   "source": [
    "fig = px.bar(fragment_result.query(\"head_model == 'MLP'\"), x='ssl_model', y='f1', color='scenario', \n",
    "             facet_row='calibration', barmode='group',\n",
    "             labels={'ssl_model': 'SSL Model', 'acc': 'Accuracy', 'scenario': 'Scenario', 'f1': 'F1-score'},\n",
    "             category_orders={\n",
    "                 'scenario': [\n",
    "                    'one_domain', 'one_domain_extended', \n",
    "                    'one_domain_continued1', 'continued1_extended', 'one_domain_continued30',\n",
    "                    'one_domain+Fragment',\n",
    "                    'four_domains', 'four_domains_extended', \n",
    "                    'four_domains+Fragment',\n",
    "                    ]\n",
    "             },\n",
    "             )\n",
    "\n",
    "fig.update_yaxes(range=[0, 1])\n",
    "fig.update_layout(height=600, width=900, font_size=16, \n",
    "                  legend_title_text=\"\",\n",
    "                  margin=dict(l=40, r=40, b=30, t=80),\n",
    "                  showlegend=True,\n",
    "                  legend=dict(orientation=\"h\", yanchor=\"bottom\", y=1.07, xanchor=\"center\", x=0.5)\n",
    ")"
   ]
  },
  {
   "cell_type": "code",
   "execution_count": null,
   "metadata": {},
   "outputs": [
    {
     "data": {
      "text/html": [
       "<div>\n",
       "<style scoped>\n",
       "    .dataframe tbody tr th:only-of-type {\n",
       "        vertical-align: middle;\n",
       "    }\n",
       "\n",
       "    .dataframe tbody tr th {\n",
       "        vertical-align: top;\n",
       "    }\n",
       "\n",
       "    .dataframe thead th {\n",
       "        text-align: right;\n",
       "    }\n",
       "</style>\n",
       "<table border=\"1\" class=\"dataframe\">\n",
       "  <thead>\n",
       "    <tr style=\"text-align: right;\">\n",
       "      <th></th>\n",
       "      <th>model</th>\n",
       "      <th>dataset</th>\n",
       "      <th>avg_loss</th>\n",
       "      <th>acc</th>\n",
       "      <th>acc_std</th>\n",
       "      <th>f1</th>\n",
       "      <th>f1_std</th>\n",
       "      <th>recall</th>\n",
       "      <th>recall_std</th>\n",
       "      <th>precision</th>\n",
       "      <th>precision_std</th>\n",
       "    </tr>\n",
       "  </thead>\n",
       "  <tbody>\n",
       "    <tr>\n",
       "      <th>0</th>\n",
       "      <td>HinceptionTime</td>\n",
       "      <td>fragment</td>\n",
       "      <td>NaN</td>\n",
       "      <td>0.5706</td>\n",
       "      <td>0.0000</td>\n",
       "      <td>0.5468</td>\n",
       "      <td>0.0010</td>\n",
       "      <td>0.5706</td>\n",
       "      <td>0.0000</td>\n",
       "      <td>0.5407</td>\n",
       "      <td>0.0028</td>\n",
       "    </tr>\n",
       "    <tr>\n",
       "      <th>1</th>\n",
       "      <td>MLP</td>\n",
       "      <td>fragment</td>\n",
       "      <td>NaN</td>\n",
       "      <td>0.4601</td>\n",
       "      <td>0.0000</td>\n",
       "      <td>0.3840</td>\n",
       "      <td>0.0000</td>\n",
       "      <td>0.4601</td>\n",
       "      <td>0.0000</td>\n",
       "      <td>0.3380</td>\n",
       "      <td>0.0000</td>\n",
       "    </tr>\n",
       "    <tr>\n",
       "      <th>2</th>\n",
       "      <td>FCN</td>\n",
       "      <td>fragment</td>\n",
       "      <td>NaN</td>\n",
       "      <td>0.3337</td>\n",
       "      <td>0.0055</td>\n",
       "      <td>0.1859</td>\n",
       "      <td>0.0097</td>\n",
       "      <td>0.3337</td>\n",
       "      <td>0.0055</td>\n",
       "      <td>0.1295</td>\n",
       "      <td>0.0099</td>\n",
       "    </tr>\n",
       "  </tbody>\n",
       "</table>\n",
       "</div>"
      ],
      "text/plain": [
       "            model   dataset  avg_loss     acc  acc_std      f1  f1_std  \\\n",
       "0  HinceptionTime  fragment       NaN  0.5706   0.0000  0.5468  0.0010   \n",
       "1             MLP  fragment       NaN  0.4601   0.0000  0.3840  0.0000   \n",
       "2             FCN  fragment       NaN  0.3337   0.0055  0.1859  0.0097   \n",
       "\n",
       "   recall  recall_std  precision  precision_std  \n",
       "0  0.5706      0.0000     0.5407         0.0028  \n",
       "1  0.4601      0.0000     0.3380         0.0000  \n",
       "2  0.3337      0.0055     0.1295         0.0099  "
      ]
     },
     "metadata": {},
     "output_type": "display_data"
    }
   ],
   "source": [
    "fragment_supervised = pd.read_csv('./Supervised/Fragment_supervised.csv')\n",
    "fragment_supervised.head()"
   ]
  },
  {
   "cell_type": "markdown",
   "metadata": {},
   "source": [
    "### IEEEPPG Results"
   ]
  },
  {
   "cell_type": "code",
   "execution_count": 12,
   "metadata": {},
   "outputs": [
    {
     "data": {
      "text/html": [
       "<div>\n",
       "<style scoped>\n",
       "    .dataframe tbody tr th:only-of-type {\n",
       "        vertical-align: middle;\n",
       "    }\n",
       "\n",
       "    .dataframe tbody tr th {\n",
       "        vertical-align: top;\n",
       "    }\n",
       "\n",
       "    .dataframe thead th {\n",
       "        text-align: right;\n",
       "    }\n",
       "</style>\n",
       "<table border=\"1\" class=\"dataframe\">\n",
       "  <thead>\n",
       "    <tr style=\"text-align: right;\">\n",
       "      <th></th>\n",
       "      <th>ssl_model</th>\n",
       "      <th>head_model</th>\n",
       "      <th>calibration</th>\n",
       "      <th>scenario</th>\n",
       "      <th>dataset</th>\n",
       "      <th>avg_loss</th>\n",
       "      <th>mse</th>\n",
       "      <th>mse_std</th>\n",
       "      <th>r2_score</th>\n",
       "      <th>r2_score_std</th>\n",
       "      <th>rmse</th>\n",
       "      <th>rmse_std</th>\n",
       "      <th>mae</th>\n",
       "      <th>mae_std</th>\n",
       "    </tr>\n",
       "  </thead>\n",
       "  <tbody>\n",
       "    <tr>\n",
       "      <th>0</th>\n",
       "      <td>TSTCC</td>\n",
       "      <td>MLP</td>\n",
       "      <td>linearprobing</td>\n",
       "      <td>one_domain</td>\n",
       "      <td>IEEEPPG</td>\n",
       "      <td>517.3157</td>\n",
       "      <td>0.0101</td>\n",
       "      <td>0.0043</td>\n",
       "      <td>22.7445</td>\n",
       "      <td>0.0498</td>\n",
       "      <td>18.3980</td>\n",
       "      <td>0.1768</td>\n",
       "      <td>529.4080</td>\n",
       "      <td>1.4312</td>\n",
       "    </tr>\n",
       "    <tr>\n",
       "      <th>1</th>\n",
       "      <td>TSTCC</td>\n",
       "      <td>MLP</td>\n",
       "      <td>linearprobing</td>\n",
       "      <td>four_domains</td>\n",
       "      <td>IEEEPPG</td>\n",
       "      <td>518.3404</td>\n",
       "      <td>0.0082</td>\n",
       "      <td>0.0030</td>\n",
       "      <td>22.7671</td>\n",
       "      <td>0.0346</td>\n",
       "      <td>18.4338</td>\n",
       "      <td>0.1247</td>\n",
       "      <td>529.0043</td>\n",
       "      <td>1.1918</td>\n",
       "    </tr>\n",
       "    <tr>\n",
       "      <th>2</th>\n",
       "      <td>TSTCC</td>\n",
       "      <td>MLP</td>\n",
       "      <td>finetuning</td>\n",
       "      <td>one_domain</td>\n",
       "      <td>IEEEPPG</td>\n",
       "      <td>535.3663</td>\n",
       "      <td>-0.0244</td>\n",
       "      <td>0.0264</td>\n",
       "      <td>23.1364</td>\n",
       "      <td>0.2993</td>\n",
       "      <td>19.1758</td>\n",
       "      <td>0.5177</td>\n",
       "      <td>543.2826</td>\n",
       "      <td>11.4943</td>\n",
       "    </tr>\n",
       "    <tr>\n",
       "      <th>3</th>\n",
       "      <td>TSTCC</td>\n",
       "      <td>MLP</td>\n",
       "      <td>finetuning</td>\n",
       "      <td>four_domains</td>\n",
       "      <td>IEEEPPG</td>\n",
       "      <td>604.8880</td>\n",
       "      <td>-0.1574</td>\n",
       "      <td>0.0264</td>\n",
       "      <td>24.5932</td>\n",
       "      <td>0.2804</td>\n",
       "      <td>21.0037</td>\n",
       "      <td>0.3759</td>\n",
       "      <td>591.9205</td>\n",
       "      <td>15.9592</td>\n",
       "    </tr>\n",
       "    <tr>\n",
       "      <th>4</th>\n",
       "      <td>TSTCC</td>\n",
       "      <td>FCN</td>\n",
       "      <td>linearprobing</td>\n",
       "      <td>one_domain</td>\n",
       "      <td>IEEEPPG</td>\n",
       "      <td>1190.1912</td>\n",
       "      <td>-1.2774</td>\n",
       "      <td>0.2310</td>\n",
       "      <td>34.4638</td>\n",
       "      <td>1.7447</td>\n",
       "      <td>30.7696</td>\n",
       "      <td>1.6269</td>\n",
       "      <td>1177.3956</td>\n",
       "      <td>119.0651</td>\n",
       "    </tr>\n",
       "  </tbody>\n",
       "</table>\n",
       "</div>"
      ],
      "text/plain": [
       "  ssl_model head_model    calibration      scenario  dataset   avg_loss  \\\n",
       "0     TSTCC        MLP  linearprobing    one_domain  IEEEPPG   517.3157   \n",
       "1     TSTCC        MLP  linearprobing  four_domains  IEEEPPG   518.3404   \n",
       "2     TSTCC        MLP     finetuning    one_domain  IEEEPPG   535.3663   \n",
       "3     TSTCC        MLP     finetuning  four_domains  IEEEPPG   604.8880   \n",
       "4     TSTCC        FCN  linearprobing    one_domain  IEEEPPG  1190.1912   \n",
       "\n",
       "      mse  mse_std  r2_score  r2_score_std     rmse  rmse_std        mae  \\\n",
       "0  0.0101   0.0043   22.7445        0.0498  18.3980    0.1768   529.4080   \n",
       "1  0.0082   0.0030   22.7671        0.0346  18.4338    0.1247   529.0043   \n",
       "2 -0.0244   0.0264   23.1364        0.2993  19.1758    0.5177   543.2826   \n",
       "3 -0.1574   0.0264   24.5932        0.2804  21.0037    0.3759   591.9205   \n",
       "4 -1.2774   0.2310   34.4638        1.7447  30.7696    1.6269  1177.3956   \n",
       "\n",
       "    mae_std  \n",
       "0    1.4312  \n",
       "1    1.1918  \n",
       "2   11.4943  \n",
       "3   15.9592  \n",
       "4  119.0651  "
      ]
     },
     "execution_count": 12,
     "metadata": {},
     "output_type": "execute_result"
    }
   ],
   "source": [
    "ieeeppg_result = pd.read_csv('./Pos_training/ieeeppg_results.csv')\n",
    "ieeeppg_result.head()"
   ]
  },
  {
   "cell_type": "code",
   "execution_count": 13,
   "metadata": {},
   "outputs": [
    {
     "data": {
      "application/vnd.plotly.v1+json": {
       "config": {
        "plotlyServerURL": "https://plot.ly"
       },
       "data": [
        {
         "alignmentgroup": "True",
         "hovertemplate": "scenario=one_domain<br>calibration=linearprobing<br>head_model=MLP<br>ssl_model=%{x}<br>rmse=%{y}<extra></extra>",
         "legendgroup": "one_domain",
         "marker": {
          "color": "#636efa",
          "pattern": {
           "shape": ""
          }
         },
         "name": "one_domain",
         "offsetgroup": "one_domain",
         "orientation": "v",
         "showlegend": true,
         "textposition": "auto",
         "type": "bar",
         "x": [
          "TSTCC",
          "TS2Vec",
          "Series2Vec"
         ],
         "xaxis": "x3",
         "y": {
          "bdata": "2c73U+NlMkCxv+yePBwyQMDsnjwstDJA",
          "dtype": "f8"
         },
         "yaxis": "y3"
        },
        {
         "alignmentgroup": "True",
         "hovertemplate": "scenario=one_domain<br>calibration=linearprobing<br>head_model=FCN<br>ssl_model=%{x}<br>rmse=%{y}<extra></extra>",
         "legendgroup": "one_domain",
         "marker": {
          "color": "#636efa",
          "pattern": {
           "shape": ""
          }
         },
         "name": "one_domain",
         "offsetgroup": "one_domain",
         "orientation": "v",
         "showlegend": false,
         "textposition": "auto",
         "type": "bar",
         "x": [
          "TSTCC",
          "TS2Vec",
          "Series2Vec"
         ],
         "xaxis": "x4",
         "y": {
          "bdata": "aQBvgQTFPkB6xyk6kgtBQCZTBaOSUkBA",
          "dtype": "f8"
         },
         "yaxis": "y4"
        },
        {
         "alignmentgroup": "True",
         "hovertemplate": "scenario=one_domain<br>calibration=finetuning<br>head_model=MLP<br>ssl_model=%{x}<br>rmse=%{y}<extra></extra>",
         "legendgroup": "one_domain",
         "marker": {
          "color": "#636efa",
          "pattern": {
           "shape": ""
          }
         },
         "name": "one_domain",
         "offsetgroup": "one_domain",
         "orientation": "v",
         "showlegend": false,
         "textposition": "auto",
         "type": "bar",
         "x": [
          "TSTCC",
          "TS2Vec",
          "Series2Vec"
         ],
         "xaxis": "x",
         "y": {
          "bdata": "BaOSOgEtM0AUrkfheoQ3QBE2PL1SdjJA",
          "dtype": "f8"
         },
         "yaxis": "y"
        },
        {
         "alignmentgroup": "True",
         "hovertemplate": "scenario=one_domain<br>calibration=finetuning<br>head_model=FCN<br>ssl_model=%{x}<br>rmse=%{y}<extra></extra>",
         "legendgroup": "one_domain",
         "marker": {
          "color": "#636efa",
          "pattern": {
           "shape": ""
          }
         },
         "name": "one_domain",
         "offsetgroup": "one_domain",
         "orientation": "v",
         "showlegend": false,
         "textposition": "auto",
         "type": "bar",
         "x": [
          "TSTCC",
          "TS2Vec",
          "Series2Vec"
         ],
         "xaxis": "x2",
         "y": {
          "bdata": "8fRKWYYwSEA/NV66SbxLQCv2l92Tx0JA",
          "dtype": "f8"
         },
         "yaxis": "y2"
        },
        {
         "alignmentgroup": "True",
         "hovertemplate": "scenario=four_domains<br>calibration=linearprobing<br>head_model=MLP<br>ssl_model=%{x}<br>rmse=%{y}<extra></extra>",
         "legendgroup": "four_domains",
         "marker": {
          "color": "#EF553B",
          "pattern": {
           "shape": ""
          }
         },
         "name": "four_domains",
         "offsetgroup": "four_domains",
         "orientation": "v",
         "showlegend": true,
         "textposition": "auto",
         "type": "bar",
         "x": [
          "TSTCC",
          "TS2Vec",
          "Series2Vec"
         ],
         "xaxis": "x3",
         "y": {
          "bdata": "OwFNhA1vMkAeFmpN8/4xQC0hH/Rs9jJA",
          "dtype": "f8"
         },
         "yaxis": "y3"
        },
        {
         "alignmentgroup": "True",
         "hovertemplate": "scenario=four_domains<br>calibration=linearprobing<br>head_model=FCN<br>ssl_model=%{x}<br>rmse=%{y}<extra></extra>",
         "legendgroup": "four_domains",
         "marker": {
          "color": "#EF553B",
          "pattern": {
           "shape": ""
          }
         },
         "name": "four_domains",
         "offsetgroup": "four_domains",
         "orientation": "v",
         "showlegend": false,
         "textposition": "auto",
         "type": "bar",
         "x": [
          "TSTCC",
          "TS2Vec",
          "Series2Vec"
         ],
         "xaxis": "x4",
         "y": {
          "bdata": "5q4l5IOuP0AwuycPCxU/QN21hHzQi0FA",
          "dtype": "f8"
         },
         "yaxis": "y4"
        },
        {
         "alignmentgroup": "True",
         "hovertemplate": "scenario=four_domains<br>calibration=finetuning<br>head_model=MLP<br>ssl_model=%{x}<br>rmse=%{y}<extra></extra>",
         "legendgroup": "four_domains",
         "marker": {
          "color": "#EF553B",
          "pattern": {
           "shape": ""
          }
         },
         "name": "four_domains",
         "offsetgroup": "four_domains",
         "orientation": "v",
         "showlegend": false,
         "textposition": "auto",
         "type": "bar",
         "x": [
          "TSTCC",
          "TS2Vec",
          "Series2Vec"
         ],
         "xaxis": "x",
         "y": {
          "bdata": "xf6ye/IANUDqBDQRNuw4QF5LyAc9ezJA",
          "dtype": "f8"
         },
         "yaxis": "y"
        },
        {
         "alignmentgroup": "True",
         "hovertemplate": "scenario=four_domains<br>calibration=finetuning<br>head_model=FCN<br>ssl_model=%{x}<br>rmse=%{y}<extra></extra>",
         "legendgroup": "four_domains",
         "marker": {
          "color": "#EF553B",
          "pattern": {
           "shape": ""
          }
         },
         "name": "four_domains",
         "offsetgroup": "four_domains",
         "orientation": "v",
         "showlegend": false,
         "textposition": "auto",
         "type": "bar",
         "x": [
          "TSTCC",
          "TS2Vec",
          "Series2Vec"
         ],
         "xaxis": "x2",
         "y": {
          "bdata": "48eYu5YIR0B2cRsN4J1JQBSuR+F65ENA",
          "dtype": "f8"
         },
         "yaxis": "y2"
        }
       ],
       "layout": {
        "annotations": [
         {
          "font": {},
          "showarrow": false,
          "text": "head_model=MLP",
          "x": 0.24,
          "xanchor": "center",
          "xref": "paper",
          "y": 1,
          "yanchor": "bottom",
          "yref": "paper"
         },
         {
          "font": {},
          "showarrow": false,
          "text": "head_model=FCN",
          "x": 0.74,
          "xanchor": "center",
          "xref": "paper",
          "y": 1,
          "yanchor": "bottom",
          "yref": "paper"
         },
         {
          "font": {},
          "showarrow": false,
          "text": "calibration=finetuning",
          "textangle": 90,
          "x": 0.98,
          "xanchor": "left",
          "xref": "paper",
          "y": 0.2425,
          "yanchor": "middle",
          "yref": "paper"
         },
         {
          "font": {},
          "showarrow": false,
          "text": "calibration=linearprobing",
          "textangle": 90,
          "x": 0.98,
          "xanchor": "left",
          "xref": "paper",
          "y": 0.7575000000000001,
          "yanchor": "middle",
          "yref": "paper"
         }
        ],
        "barmode": "group",
        "font": {
         "size": 16
        },
        "height": 640,
        "legend": {
         "orientation": "h",
         "title": {
          "text": ""
         },
         "tracegroupgap": 0,
         "x": 0.5,
         "xanchor": "center",
         "y": 1.07,
         "yanchor": "bottom"
        },
        "margin": {
         "b": 30,
         "l": 40,
         "r": 40,
         "t": 80
        },
        "showlegend": true,
        "template": {
         "data": {
          "bar": [
           {
            "error_x": {
             "color": "#2a3f5f"
            },
            "error_y": {
             "color": "#2a3f5f"
            },
            "marker": {
             "line": {
              "color": "#E5ECF6",
              "width": 0.5
             },
             "pattern": {
              "fillmode": "overlay",
              "size": 10,
              "solidity": 0.2
             }
            },
            "type": "bar"
           }
          ],
          "barpolar": [
           {
            "marker": {
             "line": {
              "color": "#E5ECF6",
              "width": 0.5
             },
             "pattern": {
              "fillmode": "overlay",
              "size": 10,
              "solidity": 0.2
             }
            },
            "type": "barpolar"
           }
          ],
          "carpet": [
           {
            "aaxis": {
             "endlinecolor": "#2a3f5f",
             "gridcolor": "white",
             "linecolor": "white",
             "minorgridcolor": "white",
             "startlinecolor": "#2a3f5f"
            },
            "baxis": {
             "endlinecolor": "#2a3f5f",
             "gridcolor": "white",
             "linecolor": "white",
             "minorgridcolor": "white",
             "startlinecolor": "#2a3f5f"
            },
            "type": "carpet"
           }
          ],
          "choropleth": [
           {
            "colorbar": {
             "outlinewidth": 0,
             "ticks": ""
            },
            "type": "choropleth"
           }
          ],
          "contour": [
           {
            "colorbar": {
             "outlinewidth": 0,
             "ticks": ""
            },
            "colorscale": [
             [
              0,
              "#0d0887"
             ],
             [
              0.1111111111111111,
              "#46039f"
             ],
             [
              0.2222222222222222,
              "#7201a8"
             ],
             [
              0.3333333333333333,
              "#9c179e"
             ],
             [
              0.4444444444444444,
              "#bd3786"
             ],
             [
              0.5555555555555556,
              "#d8576b"
             ],
             [
              0.6666666666666666,
              "#ed7953"
             ],
             [
              0.7777777777777778,
              "#fb9f3a"
             ],
             [
              0.8888888888888888,
              "#fdca26"
             ],
             [
              1,
              "#f0f921"
             ]
            ],
            "type": "contour"
           }
          ],
          "contourcarpet": [
           {
            "colorbar": {
             "outlinewidth": 0,
             "ticks": ""
            },
            "type": "contourcarpet"
           }
          ],
          "heatmap": [
           {
            "colorbar": {
             "outlinewidth": 0,
             "ticks": ""
            },
            "colorscale": [
             [
              0,
              "#0d0887"
             ],
             [
              0.1111111111111111,
              "#46039f"
             ],
             [
              0.2222222222222222,
              "#7201a8"
             ],
             [
              0.3333333333333333,
              "#9c179e"
             ],
             [
              0.4444444444444444,
              "#bd3786"
             ],
             [
              0.5555555555555556,
              "#d8576b"
             ],
             [
              0.6666666666666666,
              "#ed7953"
             ],
             [
              0.7777777777777778,
              "#fb9f3a"
             ],
             [
              0.8888888888888888,
              "#fdca26"
             ],
             [
              1,
              "#f0f921"
             ]
            ],
            "type": "heatmap"
           }
          ],
          "histogram": [
           {
            "marker": {
             "pattern": {
              "fillmode": "overlay",
              "size": 10,
              "solidity": 0.2
             }
            },
            "type": "histogram"
           }
          ],
          "histogram2d": [
           {
            "colorbar": {
             "outlinewidth": 0,
             "ticks": ""
            },
            "colorscale": [
             [
              0,
              "#0d0887"
             ],
             [
              0.1111111111111111,
              "#46039f"
             ],
             [
              0.2222222222222222,
              "#7201a8"
             ],
             [
              0.3333333333333333,
              "#9c179e"
             ],
             [
              0.4444444444444444,
              "#bd3786"
             ],
             [
              0.5555555555555556,
              "#d8576b"
             ],
             [
              0.6666666666666666,
              "#ed7953"
             ],
             [
              0.7777777777777778,
              "#fb9f3a"
             ],
             [
              0.8888888888888888,
              "#fdca26"
             ],
             [
              1,
              "#f0f921"
             ]
            ],
            "type": "histogram2d"
           }
          ],
          "histogram2dcontour": [
           {
            "colorbar": {
             "outlinewidth": 0,
             "ticks": ""
            },
            "colorscale": [
             [
              0,
              "#0d0887"
             ],
             [
              0.1111111111111111,
              "#46039f"
             ],
             [
              0.2222222222222222,
              "#7201a8"
             ],
             [
              0.3333333333333333,
              "#9c179e"
             ],
             [
              0.4444444444444444,
              "#bd3786"
             ],
             [
              0.5555555555555556,
              "#d8576b"
             ],
             [
              0.6666666666666666,
              "#ed7953"
             ],
             [
              0.7777777777777778,
              "#fb9f3a"
             ],
             [
              0.8888888888888888,
              "#fdca26"
             ],
             [
              1,
              "#f0f921"
             ]
            ],
            "type": "histogram2dcontour"
           }
          ],
          "mesh3d": [
           {
            "colorbar": {
             "outlinewidth": 0,
             "ticks": ""
            },
            "type": "mesh3d"
           }
          ],
          "parcoords": [
           {
            "line": {
             "colorbar": {
              "outlinewidth": 0,
              "ticks": ""
             }
            },
            "type": "parcoords"
           }
          ],
          "pie": [
           {
            "automargin": true,
            "type": "pie"
           }
          ],
          "scatter": [
           {
            "fillpattern": {
             "fillmode": "overlay",
             "size": 10,
             "solidity": 0.2
            },
            "type": "scatter"
           }
          ],
          "scatter3d": [
           {
            "line": {
             "colorbar": {
              "outlinewidth": 0,
              "ticks": ""
             }
            },
            "marker": {
             "colorbar": {
              "outlinewidth": 0,
              "ticks": ""
             }
            },
            "type": "scatter3d"
           }
          ],
          "scattercarpet": [
           {
            "marker": {
             "colorbar": {
              "outlinewidth": 0,
              "ticks": ""
             }
            },
            "type": "scattercarpet"
           }
          ],
          "scattergeo": [
           {
            "marker": {
             "colorbar": {
              "outlinewidth": 0,
              "ticks": ""
             }
            },
            "type": "scattergeo"
           }
          ],
          "scattergl": [
           {
            "marker": {
             "colorbar": {
              "outlinewidth": 0,
              "ticks": ""
             }
            },
            "type": "scattergl"
           }
          ],
          "scattermap": [
           {
            "marker": {
             "colorbar": {
              "outlinewidth": 0,
              "ticks": ""
             }
            },
            "type": "scattermap"
           }
          ],
          "scattermapbox": [
           {
            "marker": {
             "colorbar": {
              "outlinewidth": 0,
              "ticks": ""
             }
            },
            "type": "scattermapbox"
           }
          ],
          "scatterpolar": [
           {
            "marker": {
             "colorbar": {
              "outlinewidth": 0,
              "ticks": ""
             }
            },
            "type": "scatterpolar"
           }
          ],
          "scatterpolargl": [
           {
            "marker": {
             "colorbar": {
              "outlinewidth": 0,
              "ticks": ""
             }
            },
            "type": "scatterpolargl"
           }
          ],
          "scatterternary": [
           {
            "marker": {
             "colorbar": {
              "outlinewidth": 0,
              "ticks": ""
             }
            },
            "type": "scatterternary"
           }
          ],
          "surface": [
           {
            "colorbar": {
             "outlinewidth": 0,
             "ticks": ""
            },
            "colorscale": [
             [
              0,
              "#0d0887"
             ],
             [
              0.1111111111111111,
              "#46039f"
             ],
             [
              0.2222222222222222,
              "#7201a8"
             ],
             [
              0.3333333333333333,
              "#9c179e"
             ],
             [
              0.4444444444444444,
              "#bd3786"
             ],
             [
              0.5555555555555556,
              "#d8576b"
             ],
             [
              0.6666666666666666,
              "#ed7953"
             ],
             [
              0.7777777777777778,
              "#fb9f3a"
             ],
             [
              0.8888888888888888,
              "#fdca26"
             ],
             [
              1,
              "#f0f921"
             ]
            ],
            "type": "surface"
           }
          ],
          "table": [
           {
            "cells": {
             "fill": {
              "color": "#EBF0F8"
             },
             "line": {
              "color": "white"
             }
            },
            "header": {
             "fill": {
              "color": "#C8D4E3"
             },
             "line": {
              "color": "white"
             }
            },
            "type": "table"
           }
          ]
         },
         "layout": {
          "annotationdefaults": {
           "arrowcolor": "#2a3f5f",
           "arrowhead": 0,
           "arrowwidth": 1
          },
          "autotypenumbers": "strict",
          "coloraxis": {
           "colorbar": {
            "outlinewidth": 0,
            "ticks": ""
           }
          },
          "colorscale": {
           "diverging": [
            [
             0,
             "#8e0152"
            ],
            [
             0.1,
             "#c51b7d"
            ],
            [
             0.2,
             "#de77ae"
            ],
            [
             0.3,
             "#f1b6da"
            ],
            [
             0.4,
             "#fde0ef"
            ],
            [
             0.5,
             "#f7f7f7"
            ],
            [
             0.6,
             "#e6f5d0"
            ],
            [
             0.7,
             "#b8e186"
            ],
            [
             0.8,
             "#7fbc41"
            ],
            [
             0.9,
             "#4d9221"
            ],
            [
             1,
             "#276419"
            ]
           ],
           "sequential": [
            [
             0,
             "#0d0887"
            ],
            [
             0.1111111111111111,
             "#46039f"
            ],
            [
             0.2222222222222222,
             "#7201a8"
            ],
            [
             0.3333333333333333,
             "#9c179e"
            ],
            [
             0.4444444444444444,
             "#bd3786"
            ],
            [
             0.5555555555555556,
             "#d8576b"
            ],
            [
             0.6666666666666666,
             "#ed7953"
            ],
            [
             0.7777777777777778,
             "#fb9f3a"
            ],
            [
             0.8888888888888888,
             "#fdca26"
            ],
            [
             1,
             "#f0f921"
            ]
           ],
           "sequentialminus": [
            [
             0,
             "#0d0887"
            ],
            [
             0.1111111111111111,
             "#46039f"
            ],
            [
             0.2222222222222222,
             "#7201a8"
            ],
            [
             0.3333333333333333,
             "#9c179e"
            ],
            [
             0.4444444444444444,
             "#bd3786"
            ],
            [
             0.5555555555555556,
             "#d8576b"
            ],
            [
             0.6666666666666666,
             "#ed7953"
            ],
            [
             0.7777777777777778,
             "#fb9f3a"
            ],
            [
             0.8888888888888888,
             "#fdca26"
            ],
            [
             1,
             "#f0f921"
            ]
           ]
          },
          "colorway": [
           "#636efa",
           "#EF553B",
           "#00cc96",
           "#ab63fa",
           "#FFA15A",
           "#19d3f3",
           "#FF6692",
           "#B6E880",
           "#FF97FF",
           "#FECB52"
          ],
          "font": {
           "color": "#2a3f5f"
          },
          "geo": {
           "bgcolor": "white",
           "lakecolor": "white",
           "landcolor": "#E5ECF6",
           "showlakes": true,
           "showland": true,
           "subunitcolor": "white"
          },
          "hoverlabel": {
           "align": "left"
          },
          "hovermode": "closest",
          "legend": {
           "orientation": "h",
           "x": 1,
           "xanchor": "right",
           "y": 1.02,
           "yanchor": "bottom"
          },
          "mapbox": {
           "style": "light"
          },
          "margin": {
           "b": 50,
           "l": 50,
           "r": 50,
           "t": 50
          },
          "paper_bgcolor": "white",
          "plot_bgcolor": "#E5ECF6",
          "polar": {
           "angularaxis": {
            "gridcolor": "white",
            "linecolor": "white",
            "ticks": ""
           },
           "bgcolor": "#E5ECF6",
           "radialaxis": {
            "gridcolor": "white",
            "linecolor": "white",
            "ticks": ""
           }
          },
          "scene": {
           "xaxis": {
            "backgroundcolor": "#E5ECF6",
            "gridcolor": "white",
            "gridwidth": 2,
            "linecolor": "white",
            "showbackground": true,
            "ticks": "",
            "zerolinecolor": "white"
           },
           "yaxis": {
            "backgroundcolor": "#E5ECF6",
            "gridcolor": "white",
            "gridwidth": 2,
            "linecolor": "white",
            "showbackground": true,
            "ticks": "",
            "zerolinecolor": "white"
           },
           "zaxis": {
            "backgroundcolor": "#E5ECF6",
            "gridcolor": "white",
            "gridwidth": 2,
            "linecolor": "white",
            "showbackground": true,
            "ticks": "",
            "zerolinecolor": "white"
           }
          },
          "shapedefaults": {
           "line": {
            "color": "#2a3f5f"
           }
          },
          "ternary": {
           "aaxis": {
            "gridcolor": "white",
            "linecolor": "white",
            "ticks": ""
           },
           "baxis": {
            "gridcolor": "white",
            "linecolor": "white",
            "ticks": ""
           },
           "bgcolor": "#E5ECF6",
           "caxis": {
            "gridcolor": "white",
            "linecolor": "white",
            "ticks": ""
           }
          },
          "title": {
           "x": 0.05
          },
          "xaxis": {
           "automargin": true,
           "gridcolor": "white",
           "linecolor": "white",
           "ticks": "",
           "title": {
            "standoff": 15
           },
           "zerolinecolor": "white",
           "zerolinewidth": 2
          },
          "yaxis": {
           "automargin": true,
           "gridcolor": "white",
           "linecolor": "white",
           "ticks": "",
           "title": {
            "standoff": 15
           },
           "zerolinecolor": "white",
           "zerolinewidth": 2
          }
         }
        },
        "width": 1000,
        "xaxis": {
         "anchor": "y",
         "domain": [
          0,
          0.48
         ],
         "title": {
          "text": "ssl_model"
         }
        },
        "xaxis2": {
         "anchor": "y2",
         "domain": [
          0.5,
          0.98
         ],
         "matches": "x",
         "title": {
          "text": "ssl_model"
         }
        },
        "xaxis3": {
         "anchor": "y3",
         "domain": [
          0,
          0.48
         ],
         "matches": "x",
         "showticklabels": false
        },
        "xaxis4": {
         "anchor": "y4",
         "domain": [
          0.5,
          0.98
         ],
         "matches": "x",
         "showticklabels": false
        },
        "yaxis": {
         "anchor": "x",
         "domain": [
          0,
          0.485
         ],
         "title": {
          "text": "rmse"
         }
        },
        "yaxis2": {
         "anchor": "x2",
         "domain": [
          0,
          0.485
         ],
         "matches": "y",
         "showticklabels": false
        },
        "yaxis3": {
         "anchor": "x3",
         "domain": [
          0.515,
          1
         ],
         "matches": "y",
         "title": {
          "text": "rmse"
         }
        },
        "yaxis4": {
         "anchor": "x4",
         "domain": [
          0.515,
          1
         ],
         "matches": "y",
         "showticklabels": false
        }
       }
      }
     },
     "metadata": {},
     "output_type": "display_data"
    }
   ],
   "source": [
    "fig = px.bar(ieeeppg_result, x='ssl_model', y='rmse', color='scenario', \n",
    "             facet_row='calibration', facet_col='head_model', barmode='group')\n",
    "\n",
    "fig.update_layout(height=640, width=1000, font_size=16, \n",
    "                  legend_title_text=\"\",\n",
    "                  margin=dict(l=40, r=40, b=30, t=80),\n",
    "                  showlegend=True,\n",
    "                  legend=dict(orientation=\"h\", yanchor=\"bottom\", y=1.07, xanchor=\"center\", x=0.5)\n",
    ")"
   ]
  },
  {
   "cell_type": "code",
   "execution_count": 137,
   "metadata": {},
   "outputs": [],
   "source": [
    "import torch\n",
    "import json\n",
    "from models.TS2Vec import TS2Vec"
   ]
  },
  {
   "cell_type": "code",
   "execution_count": 135,
   "metadata": {},
   "outputs": [],
   "source": [
    "ckp = torch.load(\"./Pos_training/TS2Vec_continued30/2025-05-07_10-01/MLP_finetuning_and_one_domain_best_ssl_model_weights.pth\")"
   ]
  },
  {
   "cell_type": "code",
   "execution_count": null,
   "metadata": {},
   "outputs": [],
   "source": [
    "ckp"
   ]
  },
  {
   "cell_type": "code",
   "execution_count": 141,
   "metadata": {},
   "outputs": [
    {
     "data": {
      "text/plain": [
       "{'Model_Type': 'TS2Vec',\n",
       " 'Training_mode': 'Pre_Training',\n",
       " 'save_dir': 'Results/Pre_Training/TS2Vec/2025-05-06_16-30/checkpoints',\n",
       " 'data_dir': 'Dataset/Benchmarks',\n",
       " 'seed': 1234,\n",
       " 'gpu': 0,\n",
       " 'batch_size': 64,\n",
       " 'optim_args': {'lr': 0.001, 'betas': [0.9, 0.999]},\n",
       " 'model_args': {'in_dim': 1,\n",
       "  'out_dim': 320,\n",
       "  'hidden_dim': 64,\n",
       "  'depth': 10,\n",
       "  'kernel_size': 3,\n",
       "  'dropout': 0.1,\n",
       "  'mask_mode': 'binomial'},\n",
       " 'epochs': 30,\n",
       " 'problem': 'WESAD_no_ecg',\n",
       " 'resume': True,\n",
       " 'old-problem': 'WESAD_ECGonly',\n",
       " 'old-config': 'Results/Pre_Training/TS2Vec/2025-04-15_16-04/WESAD_ECGonly_TS2Vec_config.json'}"
      ]
     },
     "execution_count": 141,
     "metadata": {},
     "output_type": "execute_result"
    }
   ],
   "source": [
    "config = json.load(open(\"../Results/Pre_Training/TS2Vec/2025-05-06_16-30/WESAD_continued30_TS2Vec_config.json\"))\n",
    "config"
   ]
  },
  {
   "cell_type": "code",
   "execution_count": 144,
   "metadata": {},
   "outputs": [],
   "source": [
    "encoder = TS2Vec(**config['model_args'])\n",
    "encoder.load_state_dict(ckp)"
   ]
  },
  {
   "cell_type": "code",
   "execution_count": 145,
   "metadata": {},
   "outputs": [
    {
     "data": {
      "text/plain": [
       "<models.TS2Vec.ts2vec.TS2Vec at 0x7fe460638040>"
      ]
     },
     "execution_count": 145,
     "metadata": {},
     "output_type": "execute_result"
    }
   ],
   "source": [
    "encoder"
   ]
  }
 ],
 "metadata": {
  "kernelspec": {
   "display_name": "ssl",
   "language": "python",
   "name": "python3"
  },
  "language_info": {
   "codemirror_mode": {
    "name": "ipython",
    "version": 3
   },
   "file_extension": ".py",
   "mimetype": "text/x-python",
   "name": "python",
   "nbconvert_exporter": "python",
   "pygments_lexer": "ipython3",
   "version": "3.10.16"
  }
 },
 "nbformat": 4,
 "nbformat_minor": 2
}
