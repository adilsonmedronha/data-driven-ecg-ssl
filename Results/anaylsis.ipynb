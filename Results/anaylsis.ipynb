{
 "cells": [
  {
   "cell_type": "code",
   "execution_count": 2,
   "metadata": {},
   "outputs": [],
   "source": [
    "import pandas as pd\n",
    "import os"
   ]
  },
  {
   "cell_type": "code",
   "execution_count": 1,
   "metadata": {},
   "outputs": [],
   "source": [
    "import plotly.io as pio\n",
    "import plotly.express as px\n",
    "import plotly.graph_objects as go\n",
    "from plotly.subplots import make_subplots\n",
    "\n",
    "\n",
    "# -------------------- DEFINE CUSTOM TEMPLATE -------------------- #\n",
    "pio.templates['draft'] = go.layout.Template(layout=dict(\n",
    "    margin=dict(l=50, r=50, b=50, t=50),\n",
    "    legend=dict(\n",
    "    orientation=\"h\",\n",
    "    yanchor=\"bottom\",\n",
    "    y=1.02,\n",
    "    xanchor=\"right\",\n",
    "    x=1\n",
    ")\n",
    "))\n",
    "pio.templates.default = \"plotly+draft\""
   ]
  },
  {
   "cell_type": "markdown",
   "metadata": {},
   "source": [
    "### Fragment Results"
   ]
  },
  {
   "cell_type": "code",
   "execution_count": 33,
   "metadata": {},
   "outputs": [
    {
     "data": {
      "text/html": [
       "<div>\n",
       "<style scoped>\n",
       "    .dataframe tbody tr th:only-of-type {\n",
       "        vertical-align: middle;\n",
       "    }\n",
       "\n",
       "    .dataframe tbody tr th {\n",
       "        vertical-align: top;\n",
       "    }\n",
       "\n",
       "    .dataframe thead th {\n",
       "        text-align: right;\n",
       "    }\n",
       "</style>\n",
       "<table border=\"1\" class=\"dataframe\">\n",
       "  <thead>\n",
       "    <tr style=\"text-align: right;\">\n",
       "      <th></th>\n",
       "      <th>ssl_model</th>\n",
       "      <th>head_model</th>\n",
       "      <th>calibration</th>\n",
       "      <th>scenario</th>\n",
       "      <th>dataset</th>\n",
       "      <th>avg_loss</th>\n",
       "      <th>acc</th>\n",
       "      <th>acc_std</th>\n",
       "      <th>f1</th>\n",
       "      <th>f1_std</th>\n",
       "      <th>recall</th>\n",
       "      <th>recall_std</th>\n",
       "      <th>precision</th>\n",
       "      <th>precision_std</th>\n",
       "    </tr>\n",
       "  </thead>\n",
       "  <tbody>\n",
       "    <tr>\n",
       "      <th>0</th>\n",
       "      <td>TSTCC</td>\n",
       "      <td>MLP</td>\n",
       "      <td>linearprobing</td>\n",
       "      <td>one_domain</td>\n",
       "      <td>Fragment</td>\n",
       "      <td>0.5509</td>\n",
       "      <td>0.5317</td>\n",
       "      <td>0.0063</td>\n",
       "      <td>0.4072</td>\n",
       "      <td>0.0076</td>\n",
       "      <td>0.5509</td>\n",
       "      <td>0.0080</td>\n",
       "      <td>1.1092</td>\n",
       "      <td>0.0158</td>\n",
       "    </tr>\n",
       "    <tr>\n",
       "      <th>1</th>\n",
       "      <td>TSTCC</td>\n",
       "      <td>MLP</td>\n",
       "      <td>linearprobing</td>\n",
       "      <td>four_domains</td>\n",
       "      <td>Fragment</td>\n",
       "      <td>0.5043</td>\n",
       "      <td>0.4837</td>\n",
       "      <td>0.0066</td>\n",
       "      <td>0.3457</td>\n",
       "      <td>0.0084</td>\n",
       "      <td>0.5043</td>\n",
       "      <td>0.0051</td>\n",
       "      <td>1.0121</td>\n",
       "      <td>0.0300</td>\n",
       "    </tr>\n",
       "    <tr>\n",
       "      <th>2</th>\n",
       "      <td>TSTCC</td>\n",
       "      <td>FCN</td>\n",
       "      <td>finetuning</td>\n",
       "      <td>four_domains</td>\n",
       "      <td>Fragment</td>\n",
       "      <td>0.2810</td>\n",
       "      <td>0.1680</td>\n",
       "      <td>0.1165</td>\n",
       "      <td>0.1032</td>\n",
       "      <td>0.0564</td>\n",
       "      <td>0.2810</td>\n",
       "      <td>0.1058</td>\n",
       "      <td>1.8616</td>\n",
       "      <td>0.1345</td>\n",
       "    </tr>\n",
       "    <tr>\n",
       "      <th>3</th>\n",
       "      <td>TSTCC</td>\n",
       "      <td>FCN</td>\n",
       "      <td>linearprobing</td>\n",
       "      <td>one_domain</td>\n",
       "      <td>Fragment</td>\n",
       "      <td>0.1951</td>\n",
       "      <td>0.1054</td>\n",
       "      <td>0.0496</td>\n",
       "      <td>0.0825</td>\n",
       "      <td>0.0337</td>\n",
       "      <td>0.1951</td>\n",
       "      <td>0.0570</td>\n",
       "      <td>1.6465</td>\n",
       "      <td>0.0328</td>\n",
       "    </tr>\n",
       "    <tr>\n",
       "      <th>4</th>\n",
       "      <td>TSTCC</td>\n",
       "      <td>FCN</td>\n",
       "      <td>linearprobing</td>\n",
       "      <td>four_domains</td>\n",
       "      <td>Fragment</td>\n",
       "      <td>0.1988</td>\n",
       "      <td>0.0939</td>\n",
       "      <td>0.0192</td>\n",
       "      <td>0.1003</td>\n",
       "      <td>0.0306</td>\n",
       "      <td>0.1988</td>\n",
       "      <td>0.0192</td>\n",
       "      <td>1.6779</td>\n",
       "      <td>0.0777</td>\n",
       "    </tr>\n",
       "    <tr>\n",
       "      <th>5</th>\n",
       "      <td>TSTCC</td>\n",
       "      <td>FCN</td>\n",
       "      <td>finetuning</td>\n",
       "      <td>one_domain</td>\n",
       "      <td>Fragment</td>\n",
       "      <td>0.1988</td>\n",
       "      <td>0.0923</td>\n",
       "      <td>0.0674</td>\n",
       "      <td>0.0653</td>\n",
       "      <td>0.0171</td>\n",
       "      <td>0.1988</td>\n",
       "      <td>0.1265</td>\n",
       "      <td>1.8659</td>\n",
       "      <td>0.0809</td>\n",
       "    </tr>\n",
       "    <tr>\n",
       "      <th>6</th>\n",
       "      <td>TSTCC</td>\n",
       "      <td>MLP</td>\n",
       "      <td>finetuning</td>\n",
       "      <td>one_domain</td>\n",
       "      <td>Fragment</td>\n",
       "      <td>0.1656</td>\n",
       "      <td>0.0474</td>\n",
       "      <td>0.0002</td>\n",
       "      <td>0.0477</td>\n",
       "      <td>0.0002</td>\n",
       "      <td>0.1656</td>\n",
       "      <td>0.0000</td>\n",
       "      <td>8.2364</td>\n",
       "      <td>2.6857</td>\n",
       "    </tr>\n",
       "    <tr>\n",
       "      <th>7</th>\n",
       "      <td>TSTCC</td>\n",
       "      <td>MLP</td>\n",
       "      <td>finetuning</td>\n",
       "      <td>four_domains</td>\n",
       "      <td>Fragment</td>\n",
       "      <td>0.0613</td>\n",
       "      <td>0.0235</td>\n",
       "      <td>0.0084</td>\n",
       "      <td>0.0289</td>\n",
       "      <td>0.0109</td>\n",
       "      <td>0.0613</td>\n",
       "      <td>0.0264</td>\n",
       "      <td>7.8728</td>\n",
       "      <td>1.4882</td>\n",
       "    </tr>\n",
       "    <tr>\n",
       "      <th>8</th>\n",
       "      <td>TS2Vec</td>\n",
       "      <td>MLP</td>\n",
       "      <td>finetuning</td>\n",
       "      <td>one_domain</td>\n",
       "      <td>Fragment</td>\n",
       "      <td>0.6699</td>\n",
       "      <td>0.6782</td>\n",
       "      <td>0.0241</td>\n",
       "      <td>0.6147</td>\n",
       "      <td>0.0366</td>\n",
       "      <td>0.6699</td>\n",
       "      <td>0.0262</td>\n",
       "      <td>1.6432</td>\n",
       "      <td>0.2423</td>\n",
       "    </tr>\n",
       "    <tr>\n",
       "      <th>9</th>\n",
       "      <td>TS2Vec</td>\n",
       "      <td>MLP</td>\n",
       "      <td>linearprobing</td>\n",
       "      <td>one_domain</td>\n",
       "      <td>Fragment</td>\n",
       "      <td>0.6160</td>\n",
       "      <td>0.6201</td>\n",
       "      <td>0.0119</td>\n",
       "      <td>0.5312</td>\n",
       "      <td>0.0156</td>\n",
       "      <td>0.6160</td>\n",
       "      <td>0.0093</td>\n",
       "      <td>1.0617</td>\n",
       "      <td>0.0155</td>\n",
       "    </tr>\n",
       "    <tr>\n",
       "      <th>10</th>\n",
       "      <td>TS2Vec</td>\n",
       "      <td>MLP</td>\n",
       "      <td>linearprobing</td>\n",
       "      <td>four_domains</td>\n",
       "      <td>Fragment</td>\n",
       "      <td>0.5951</td>\n",
       "      <td>0.5960</td>\n",
       "      <td>0.0324</td>\n",
       "      <td>0.5244</td>\n",
       "      <td>0.0428</td>\n",
       "      <td>0.5951</td>\n",
       "      <td>0.0350</td>\n",
       "      <td>1.0051</td>\n",
       "      <td>0.0542</td>\n",
       "    </tr>\n",
       "    <tr>\n",
       "      <th>11</th>\n",
       "      <td>TS2Vec</td>\n",
       "      <td>MLP</td>\n",
       "      <td>finetuning</td>\n",
       "      <td>four_domains</td>\n",
       "      <td>Fragment</td>\n",
       "      <td>0.5448</td>\n",
       "      <td>0.5549</td>\n",
       "      <td>0.0324</td>\n",
       "      <td>0.5013</td>\n",
       "      <td>0.0290</td>\n",
       "      <td>0.5448</td>\n",
       "      <td>0.0408</td>\n",
       "      <td>2.6308</td>\n",
       "      <td>0.7246</td>\n",
       "    </tr>\n",
       "    <tr>\n",
       "      <th>12</th>\n",
       "      <td>TS2Vec</td>\n",
       "      <td>FCN</td>\n",
       "      <td>linearprobing</td>\n",
       "      <td>four_domains</td>\n",
       "      <td>Fragment</td>\n",
       "      <td>0.3583</td>\n",
       "      <td>0.2425</td>\n",
       "      <td>0.0874</td>\n",
       "      <td>0.1745</td>\n",
       "      <td>0.1019</td>\n",
       "      <td>0.3583</td>\n",
       "      <td>0.0536</td>\n",
       "      <td>1.6334</td>\n",
       "      <td>0.0274</td>\n",
       "    </tr>\n",
       "    <tr>\n",
       "      <th>13</th>\n",
       "      <td>TS2Vec</td>\n",
       "      <td>FCN</td>\n",
       "      <td>linearprobing</td>\n",
       "      <td>one_domain</td>\n",
       "      <td>Fragment</td>\n",
       "      <td>0.2834</td>\n",
       "      <td>0.1874</td>\n",
       "      <td>0.0613</td>\n",
       "      <td>0.1155</td>\n",
       "      <td>0.0543</td>\n",
       "      <td>0.2834</td>\n",
       "      <td>0.0696</td>\n",
       "      <td>1.6302</td>\n",
       "      <td>0.0639</td>\n",
       "    </tr>\n",
       "    <tr>\n",
       "      <th>14</th>\n",
       "      <td>TS2Vec</td>\n",
       "      <td>FCN</td>\n",
       "      <td>finetuning</td>\n",
       "      <td>four_domains</td>\n",
       "      <td>Fragment</td>\n",
       "      <td>0.2196</td>\n",
       "      <td>0.1495</td>\n",
       "      <td>0.0767</td>\n",
       "      <td>0.1431</td>\n",
       "      <td>0.0309</td>\n",
       "      <td>0.2196</td>\n",
       "      <td>0.0653</td>\n",
       "      <td>2.1727</td>\n",
       "      <td>0.1703</td>\n",
       "    </tr>\n",
       "    <tr>\n",
       "      <th>15</th>\n",
       "      <td>TS2Vec</td>\n",
       "      <td>FCN</td>\n",
       "      <td>finetuning</td>\n",
       "      <td>one_domain</td>\n",
       "      <td>Fragment</td>\n",
       "      <td>0.1399</td>\n",
       "      <td>0.0901</td>\n",
       "      <td>0.0532</td>\n",
       "      <td>0.0952</td>\n",
       "      <td>0.0601</td>\n",
       "      <td>0.1399</td>\n",
       "      <td>0.0822</td>\n",
       "      <td>2.2562</td>\n",
       "      <td>0.6150</td>\n",
       "    </tr>\n",
       "    <tr>\n",
       "      <th>16</th>\n",
       "      <td>Series2Vec</td>\n",
       "      <td>MLP</td>\n",
       "      <td>linearprobing</td>\n",
       "      <td>four_domains</td>\n",
       "      <td>Fragment</td>\n",
       "      <td>0.5362</td>\n",
       "      <td>0.5133</td>\n",
       "      <td>0.0140</td>\n",
       "      <td>0.4125</td>\n",
       "      <td>0.0159</td>\n",
       "      <td>0.5362</td>\n",
       "      <td>0.0127</td>\n",
       "      <td>1.1458</td>\n",
       "      <td>0.0162</td>\n",
       "    </tr>\n",
       "    <tr>\n",
       "      <th>17</th>\n",
       "      <td>Series2Vec</td>\n",
       "      <td>MLP</td>\n",
       "      <td>linearprobing</td>\n",
       "      <td>one_domain</td>\n",
       "      <td>Fragment</td>\n",
       "      <td>0.3558</td>\n",
       "      <td>0.3393</td>\n",
       "      <td>0.0054</td>\n",
       "      <td>0.2517</td>\n",
       "      <td>0.0058</td>\n",
       "      <td>0.3558</td>\n",
       "      <td>0.0043</td>\n",
       "      <td>1.4782</td>\n",
       "      <td>0.0190</td>\n",
       "    </tr>\n",
       "    <tr>\n",
       "      <th>18</th>\n",
       "      <td>Series2Vec</td>\n",
       "      <td>FCN</td>\n",
       "      <td>linearprobing</td>\n",
       "      <td>four_domains</td>\n",
       "      <td>Fragment</td>\n",
       "      <td>0.4282</td>\n",
       "      <td>0.3054</td>\n",
       "      <td>0.0982</td>\n",
       "      <td>0.1855</td>\n",
       "      <td>0.0541</td>\n",
       "      <td>0.4282</td>\n",
       "      <td>0.1202</td>\n",
       "      <td>1.5956</td>\n",
       "      <td>0.0237</td>\n",
       "    </tr>\n",
       "    <tr>\n",
       "      <th>19</th>\n",
       "      <td>Series2Vec</td>\n",
       "      <td>FCN</td>\n",
       "      <td>linearprobing</td>\n",
       "      <td>one_domain</td>\n",
       "      <td>Fragment</td>\n",
       "      <td>0.3018</td>\n",
       "      <td>0.1781</td>\n",
       "      <td>0.0223</td>\n",
       "      <td>0.1014</td>\n",
       "      <td>0.0158</td>\n",
       "      <td>0.3018</td>\n",
       "      <td>0.0548</td>\n",
       "      <td>1.5885</td>\n",
       "      <td>0.0045</td>\n",
       "    </tr>\n",
       "    <tr>\n",
       "      <th>20</th>\n",
       "      <td>Series2Vec</td>\n",
       "      <td>MLP</td>\n",
       "      <td>finetuning</td>\n",
       "      <td>four_domains</td>\n",
       "      <td>Fragment</td>\n",
       "      <td>0.1865</td>\n",
       "      <td>0.1029</td>\n",
       "      <td>0.0139</td>\n",
       "      <td>0.1498</td>\n",
       "      <td>0.0203</td>\n",
       "      <td>0.1865</td>\n",
       "      <td>0.0166</td>\n",
       "      <td>6.4590</td>\n",
       "      <td>0.8015</td>\n",
       "    </tr>\n",
       "    <tr>\n",
       "      <th>21</th>\n",
       "      <td>Series2Vec</td>\n",
       "      <td>MLP</td>\n",
       "      <td>finetuning</td>\n",
       "      <td>one_domain</td>\n",
       "      <td>Fragment</td>\n",
       "      <td>0.1767</td>\n",
       "      <td>0.0974</td>\n",
       "      <td>0.0855</td>\n",
       "      <td>0.1122</td>\n",
       "      <td>0.0619</td>\n",
       "      <td>0.1767</td>\n",
       "      <td>0.0666</td>\n",
       "      <td>9.5804</td>\n",
       "      <td>1.3496</td>\n",
       "    </tr>\n",
       "    <tr>\n",
       "      <th>22</th>\n",
       "      <td>Series2Vec</td>\n",
       "      <td>FCN</td>\n",
       "      <td>finetuning</td>\n",
       "      <td>four_domains</td>\n",
       "      <td>Fragment</td>\n",
       "      <td>0.1840</td>\n",
       "      <td>0.0747</td>\n",
       "      <td>0.0112</td>\n",
       "      <td>0.0645</td>\n",
       "      <td>0.0114</td>\n",
       "      <td>0.1840</td>\n",
       "      <td>0.0144</td>\n",
       "      <td>1.8286</td>\n",
       "      <td>0.0193</td>\n",
       "    </tr>\n",
       "    <tr>\n",
       "      <th>23</th>\n",
       "      <td>Series2Vec</td>\n",
       "      <td>FCN</td>\n",
       "      <td>finetuning</td>\n",
       "      <td>one_domain</td>\n",
       "      <td>Fragment</td>\n",
       "      <td>0.1080</td>\n",
       "      <td>0.0357</td>\n",
       "      <td>0.0076</td>\n",
       "      <td>0.0553</td>\n",
       "      <td>0.0097</td>\n",
       "      <td>0.1080</td>\n",
       "      <td>0.0055</td>\n",
       "      <td>1.8899</td>\n",
       "      <td>0.0345</td>\n",
       "    </tr>\n",
       "  </tbody>\n",
       "</table>\n",
       "</div>"
      ],
      "text/plain": [
       "     ssl_model head_model    calibration      scenario   dataset  avg_loss  \\\n",
       "0        TSTCC        MLP  linearprobing    one_domain  Fragment    0.5509   \n",
       "1        TSTCC        MLP  linearprobing  four_domains  Fragment    0.5043   \n",
       "2        TSTCC        FCN     finetuning  four_domains  Fragment    0.2810   \n",
       "3        TSTCC        FCN  linearprobing    one_domain  Fragment    0.1951   \n",
       "4        TSTCC        FCN  linearprobing  four_domains  Fragment    0.1988   \n",
       "5        TSTCC        FCN     finetuning    one_domain  Fragment    0.1988   \n",
       "6        TSTCC        MLP     finetuning    one_domain  Fragment    0.1656   \n",
       "7        TSTCC        MLP     finetuning  four_domains  Fragment    0.0613   \n",
       "8       TS2Vec        MLP     finetuning    one_domain  Fragment    0.6699   \n",
       "9       TS2Vec        MLP  linearprobing    one_domain  Fragment    0.6160   \n",
       "10      TS2Vec        MLP  linearprobing  four_domains  Fragment    0.5951   \n",
       "11      TS2Vec        MLP     finetuning  four_domains  Fragment    0.5448   \n",
       "12      TS2Vec        FCN  linearprobing  four_domains  Fragment    0.3583   \n",
       "13      TS2Vec        FCN  linearprobing    one_domain  Fragment    0.2834   \n",
       "14      TS2Vec        FCN     finetuning  four_domains  Fragment    0.2196   \n",
       "15      TS2Vec        FCN     finetuning    one_domain  Fragment    0.1399   \n",
       "16  Series2Vec        MLP  linearprobing  four_domains  Fragment    0.5362   \n",
       "17  Series2Vec        MLP  linearprobing    one_domain  Fragment    0.3558   \n",
       "18  Series2Vec        FCN  linearprobing  four_domains  Fragment    0.4282   \n",
       "19  Series2Vec        FCN  linearprobing    one_domain  Fragment    0.3018   \n",
       "20  Series2Vec        MLP     finetuning  four_domains  Fragment    0.1865   \n",
       "21  Series2Vec        MLP     finetuning    one_domain  Fragment    0.1767   \n",
       "22  Series2Vec        FCN     finetuning  four_domains  Fragment    0.1840   \n",
       "23  Series2Vec        FCN     finetuning    one_domain  Fragment    0.1080   \n",
       "\n",
       "       acc  acc_std      f1  f1_std  recall  recall_std  precision  \\\n",
       "0   0.5317   0.0063  0.4072  0.0076  0.5509      0.0080     1.1092   \n",
       "1   0.4837   0.0066  0.3457  0.0084  0.5043      0.0051     1.0121   \n",
       "2   0.1680   0.1165  0.1032  0.0564  0.2810      0.1058     1.8616   \n",
       "3   0.1054   0.0496  0.0825  0.0337  0.1951      0.0570     1.6465   \n",
       "4   0.0939   0.0192  0.1003  0.0306  0.1988      0.0192     1.6779   \n",
       "5   0.0923   0.0674  0.0653  0.0171  0.1988      0.1265     1.8659   \n",
       "6   0.0474   0.0002  0.0477  0.0002  0.1656      0.0000     8.2364   \n",
       "7   0.0235   0.0084  0.0289  0.0109  0.0613      0.0264     7.8728   \n",
       "8   0.6782   0.0241  0.6147  0.0366  0.6699      0.0262     1.6432   \n",
       "9   0.6201   0.0119  0.5312  0.0156  0.6160      0.0093     1.0617   \n",
       "10  0.5960   0.0324  0.5244  0.0428  0.5951      0.0350     1.0051   \n",
       "11  0.5549   0.0324  0.5013  0.0290  0.5448      0.0408     2.6308   \n",
       "12  0.2425   0.0874  0.1745  0.1019  0.3583      0.0536     1.6334   \n",
       "13  0.1874   0.0613  0.1155  0.0543  0.2834      0.0696     1.6302   \n",
       "14  0.1495   0.0767  0.1431  0.0309  0.2196      0.0653     2.1727   \n",
       "15  0.0901   0.0532  0.0952  0.0601  0.1399      0.0822     2.2562   \n",
       "16  0.5133   0.0140  0.4125  0.0159  0.5362      0.0127     1.1458   \n",
       "17  0.3393   0.0054  0.2517  0.0058  0.3558      0.0043     1.4782   \n",
       "18  0.3054   0.0982  0.1855  0.0541  0.4282      0.1202     1.5956   \n",
       "19  0.1781   0.0223  0.1014  0.0158  0.3018      0.0548     1.5885   \n",
       "20  0.1029   0.0139  0.1498  0.0203  0.1865      0.0166     6.4590   \n",
       "21  0.0974   0.0855  0.1122  0.0619  0.1767      0.0666     9.5804   \n",
       "22  0.0747   0.0112  0.0645  0.0114  0.1840      0.0144     1.8286   \n",
       "23  0.0357   0.0076  0.0553  0.0097  0.1080      0.0055     1.8899   \n",
       "\n",
       "    precision_std  \n",
       "0          0.0158  \n",
       "1          0.0300  \n",
       "2          0.1345  \n",
       "3          0.0328  \n",
       "4          0.0777  \n",
       "5          0.0809  \n",
       "6          2.6857  \n",
       "7          1.4882  \n",
       "8          0.2423  \n",
       "9          0.0155  \n",
       "10         0.0542  \n",
       "11         0.7246  \n",
       "12         0.0274  \n",
       "13         0.0639  \n",
       "14         0.1703  \n",
       "15         0.6150  \n",
       "16         0.0162  \n",
       "17         0.0190  \n",
       "18         0.0237  \n",
       "19         0.0045  \n",
       "20         0.8015  \n",
       "21         1.3496  \n",
       "22         0.0193  \n",
       "23         0.0345  "
      ]
     },
     "execution_count": 33,
     "metadata": {},
     "output_type": "execute_result"
    }
   ],
   "source": [
    "fragment_result = pd.read_csv('./Pos_training/fragment_results.csv')\n",
    "fragment_result"
   ]
  },
  {
   "cell_type": "code",
   "execution_count": 38,
   "metadata": {},
   "outputs": [
    {
     "data": {
      "application/vnd.plotly.v1+json": {
       "config": {
        "plotlyServerURL": "https://plot.ly"
       },
       "data": [
        {
         "alignmentgroup": "True",
         "hovertemplate": "Scenario=one_domain<br>calibration=linearprobing<br>head_model=MLP<br>SSL Model=%{x}<br>Accuracy=%{y}<extra></extra>",
         "legendgroup": "one_domain",
         "marker": {
          "color": "#636efa",
          "pattern": {
           "shape": ""
          }
         },
         "name": "one_domain",
         "offsetgroup": "one_domain",
         "orientation": "v",
         "showlegend": true,
         "textposition": "auto",
         "type": "bar",
         "x": [
          "TSTCC",
          "TS2Vec",
          "Series2Vec"
         ],
         "xaxis": "x3",
         "y": {
          "bdata": "+Q/pt68D4T+5/If029fjP2UZ4lgXt9U/",
          "dtype": "f8"
         },
         "yaxis": "y3"
        },
        {
         "alignmentgroup": "True",
         "hovertemplate": "Scenario=one_domain<br>calibration=linearprobing<br>head_model=FCN<br>SSL Model=%{x}<br>Accuracy=%{y}<extra></extra>",
         "legendgroup": "one_domain",
         "marker": {
          "color": "#636efa",
          "pattern": {
           "shape": ""
          }
         },
         "name": "one_domain",
         "offsetgroup": "one_domain",
         "orientation": "v",
         "showlegend": false,
         "textposition": "auto",
         "type": "bar",
         "x": [
          "TSTCC",
          "TS2Vec",
          "Series2Vec"
         ],
         "xaxis": "x4",
         "y": {
          "bdata": "JJf/kH77uj94nKIjufzHP+tztRX7y8Y/",
          "dtype": "f8"
         },
         "yaxis": "y4"
        },
        {
         "alignmentgroup": "True",
         "hovertemplate": "Scenario=one_domain<br>calibration=finetuning<br>head_model=MLP<br>SSL Model=%{x}<br>Accuracy=%{y}<extra></extra>",
         "legendgroup": "one_domain",
         "marker": {
          "color": "#636efa",
          "pattern": {
           "shape": ""
          }
         },
         "name": "one_domain",
         "offsetgroup": "one_domain",
         "orientation": "v",
         "showlegend": false,
         "textposition": "auto",
         "type": "bar",
         "x": [
          "TSTCC",
          "TS2Vec",
          "Series2Vec"
         ],
         "xaxis": "x",
         "y": {
          "bdata": "MCqpE9BEqD/dtYR80LPlP+VhodY077g/",
          "dtype": "f8"
         },
         "yaxis": "y"
        },
        {
         "alignmentgroup": "True",
         "hovertemplate": "Scenario=one_domain<br>calibration=finetuning<br>head_model=FCN<br>SSL Model=%{x}<br>Accuracy=%{y}<extra></extra>",
         "legendgroup": "one_domain",
         "marker": {
          "color": "#636efa",
          "pattern": {
           "shape": ""
          }
         },
         "name": "one_domain",
         "offsetgroup": "one_domain",
         "orientation": "v",
         "showlegend": false,
         "textposition": "auto",
         "type": "bar",
         "x": [
          "TSTCC",
          "TS2Vec",
          "Series2Vec"
         ],
         "xaxis": "x2",
         "y": {
          "bdata": "jLlrCfmgtz8bnl4pyxC3P9c07zhFR6I/",
          "dtype": "f8"
         },
         "yaxis": "y2"
        },
        {
         "alignmentgroup": "True",
         "hovertemplate": "Scenario=four_domains<br>calibration=linearprobing<br>head_model=MLP<br>SSL Model=%{x}<br>Accuracy=%{y}<extra></extra>",
         "legendgroup": "four_domains",
         "marker": {
          "color": "#EF553B",
          "pattern": {
           "shape": ""
          }
         },
         "name": "four_domains",
         "offsetgroup": "four_domains",
         "orientation": "v",
         "showlegend": true,
         "textposition": "auto",
         "type": "bar",
         "x": [
          "TSTCC",
          "TS2Vec",
          "Series2Vec"
         ],
         "xaxis": "x3",
         "y": {
          "bdata": "FNBE2PD03j/fT42XbhLjP3ctIR/0bOA/",
          "dtype": "f8"
         },
         "yaxis": "y3"
        },
        {
         "alignmentgroup": "True",
         "hovertemplate": "Scenario=four_domains<br>calibration=linearprobing<br>head_model=FCN<br>SSL Model=%{x}<br>Accuracy=%{y}<extra></extra>",
         "legendgroup": "four_domains",
         "marker": {
          "color": "#EF553B",
          "pattern": {
           "shape": ""
          }
         },
         "name": "four_domains",
         "offsetgroup": "four_domains",
         "orientation": "v",
         "showlegend": false,
         "textposition": "auto",
         "type": "bar",
         "x": [
          "TSTCC",
          "TS2Vec",
          "Series2Vec"
         ],
         "xaxis": "x4",
         "y": {
          "bdata": "mSoYldQJuD8K16NwPQrPP5ayDHGsi9M/",
          "dtype": "f8"
         },
         "yaxis": "y4"
        },
        {
         "alignmentgroup": "True",
         "hovertemplate": "Scenario=four_domains<br>calibration=finetuning<br>head_model=MLP<br>SSL Model=%{x}<br>Accuracy=%{y}<extra></extra>",
         "legendgroup": "four_domains",
         "marker": {
          "color": "#EF553B",
          "pattern": {
           "shape": ""
          }
         },
         "name": "four_domains",
         "offsetgroup": "four_domains",
         "orientation": "v",
         "showlegend": false,
         "textposition": "auto",
         "type": "bar",
         "x": [
          "TSTCC",
          "TS2Vec",
          "Series2Vec"
         ],
         "xaxis": "x",
         "y": {
          "bdata": "qvHSTWIQmD/gnBGlvcHhP4EmwoanV7o/",
          "dtype": "f8"
         },
         "yaxis": "y"
        },
        {
         "alignmentgroup": "True",
         "hovertemplate": "Scenario=four_domains<br>calibration=finetuning<br>head_model=FCN<br>SSL Model=%{x}<br>Accuracy=%{y}<extra></extra>",
         "legendgroup": "four_domains",
         "marker": {
          "color": "#EF553B",
          "pattern": {
           "shape": ""
          }
         },
         "name": "four_domains",
         "offsetgroup": "four_domains",
         "orientation": "v",
         "showlegend": false,
         "textposition": "auto",
         "type": "bar",
         "x": [
          "TSTCC",
          "TS2Vec",
          "Series2Vec"
         ],
         "xaxis": "x2",
         "y": {
          "bdata": "Gy/dJAaBxT+JQWDl0CLDPwHeAgmKH7M/",
          "dtype": "f8"
         },
         "yaxis": "y2"
        }
       ],
       "layout": {
        "annotations": [
         {
          "font": {},
          "showarrow": false,
          "text": "head_model=MLP",
          "x": 0.24,
          "xanchor": "center",
          "xref": "paper",
          "y": 1,
          "yanchor": "bottom",
          "yref": "paper"
         },
         {
          "font": {},
          "showarrow": false,
          "text": "head_model=FCN",
          "x": 0.74,
          "xanchor": "center",
          "xref": "paper",
          "y": 1,
          "yanchor": "bottom",
          "yref": "paper"
         },
         {
          "font": {},
          "showarrow": false,
          "text": "calibration=finetuning",
          "textangle": 90,
          "x": 0.98,
          "xanchor": "left",
          "xref": "paper",
          "y": 0.2425,
          "yanchor": "middle",
          "yref": "paper"
         },
         {
          "font": {},
          "showarrow": false,
          "text": "calibration=linearprobing",
          "textangle": 90,
          "x": 0.98,
          "xanchor": "left",
          "xref": "paper",
          "y": 0.7575000000000001,
          "yanchor": "middle",
          "yref": "paper"
         }
        ],
        "barmode": "group",
        "font": {
         "size": 16
        },
        "height": 640,
        "legend": {
         "orientation": "h",
         "title": {
          "text": ""
         },
         "tracegroupgap": 0,
         "x": 0.5,
         "xanchor": "center",
         "y": 1.07,
         "yanchor": "bottom"
        },
        "margin": {
         "b": 30,
         "l": 40,
         "r": 40,
         "t": 80
        },
        "showlegend": true,
        "template": {
         "data": {
          "bar": [
           {
            "error_x": {
             "color": "#2a3f5f"
            },
            "error_y": {
             "color": "#2a3f5f"
            },
            "marker": {
             "line": {
              "color": "#E5ECF6",
              "width": 0.5
             },
             "pattern": {
              "fillmode": "overlay",
              "size": 10,
              "solidity": 0.2
             }
            },
            "type": "bar"
           }
          ],
          "barpolar": [
           {
            "marker": {
             "line": {
              "color": "#E5ECF6",
              "width": 0.5
             },
             "pattern": {
              "fillmode": "overlay",
              "size": 10,
              "solidity": 0.2
             }
            },
            "type": "barpolar"
           }
          ],
          "carpet": [
           {
            "aaxis": {
             "endlinecolor": "#2a3f5f",
             "gridcolor": "white",
             "linecolor": "white",
             "minorgridcolor": "white",
             "startlinecolor": "#2a3f5f"
            },
            "baxis": {
             "endlinecolor": "#2a3f5f",
             "gridcolor": "white",
             "linecolor": "white",
             "minorgridcolor": "white",
             "startlinecolor": "#2a3f5f"
            },
            "type": "carpet"
           }
          ],
          "choropleth": [
           {
            "colorbar": {
             "outlinewidth": 0,
             "ticks": ""
            },
            "type": "choropleth"
           }
          ],
          "contour": [
           {
            "colorbar": {
             "outlinewidth": 0,
             "ticks": ""
            },
            "colorscale": [
             [
              0,
              "#0d0887"
             ],
             [
              0.1111111111111111,
              "#46039f"
             ],
             [
              0.2222222222222222,
              "#7201a8"
             ],
             [
              0.3333333333333333,
              "#9c179e"
             ],
             [
              0.4444444444444444,
              "#bd3786"
             ],
             [
              0.5555555555555556,
              "#d8576b"
             ],
             [
              0.6666666666666666,
              "#ed7953"
             ],
             [
              0.7777777777777778,
              "#fb9f3a"
             ],
             [
              0.8888888888888888,
              "#fdca26"
             ],
             [
              1,
              "#f0f921"
             ]
            ],
            "type": "contour"
           }
          ],
          "contourcarpet": [
           {
            "colorbar": {
             "outlinewidth": 0,
             "ticks": ""
            },
            "type": "contourcarpet"
           }
          ],
          "heatmap": [
           {
            "colorbar": {
             "outlinewidth": 0,
             "ticks": ""
            },
            "colorscale": [
             [
              0,
              "#0d0887"
             ],
             [
              0.1111111111111111,
              "#46039f"
             ],
             [
              0.2222222222222222,
              "#7201a8"
             ],
             [
              0.3333333333333333,
              "#9c179e"
             ],
             [
              0.4444444444444444,
              "#bd3786"
             ],
             [
              0.5555555555555556,
              "#d8576b"
             ],
             [
              0.6666666666666666,
              "#ed7953"
             ],
             [
              0.7777777777777778,
              "#fb9f3a"
             ],
             [
              0.8888888888888888,
              "#fdca26"
             ],
             [
              1,
              "#f0f921"
             ]
            ],
            "type": "heatmap"
           }
          ],
          "histogram": [
           {
            "marker": {
             "pattern": {
              "fillmode": "overlay",
              "size": 10,
              "solidity": 0.2
             }
            },
            "type": "histogram"
           }
          ],
          "histogram2d": [
           {
            "colorbar": {
             "outlinewidth": 0,
             "ticks": ""
            },
            "colorscale": [
             [
              0,
              "#0d0887"
             ],
             [
              0.1111111111111111,
              "#46039f"
             ],
             [
              0.2222222222222222,
              "#7201a8"
             ],
             [
              0.3333333333333333,
              "#9c179e"
             ],
             [
              0.4444444444444444,
              "#bd3786"
             ],
             [
              0.5555555555555556,
              "#d8576b"
             ],
             [
              0.6666666666666666,
              "#ed7953"
             ],
             [
              0.7777777777777778,
              "#fb9f3a"
             ],
             [
              0.8888888888888888,
              "#fdca26"
             ],
             [
              1,
              "#f0f921"
             ]
            ],
            "type": "histogram2d"
           }
          ],
          "histogram2dcontour": [
           {
            "colorbar": {
             "outlinewidth": 0,
             "ticks": ""
            },
            "colorscale": [
             [
              0,
              "#0d0887"
             ],
             [
              0.1111111111111111,
              "#46039f"
             ],
             [
              0.2222222222222222,
              "#7201a8"
             ],
             [
              0.3333333333333333,
              "#9c179e"
             ],
             [
              0.4444444444444444,
              "#bd3786"
             ],
             [
              0.5555555555555556,
              "#d8576b"
             ],
             [
              0.6666666666666666,
              "#ed7953"
             ],
             [
              0.7777777777777778,
              "#fb9f3a"
             ],
             [
              0.8888888888888888,
              "#fdca26"
             ],
             [
              1,
              "#f0f921"
             ]
            ],
            "type": "histogram2dcontour"
           }
          ],
          "mesh3d": [
           {
            "colorbar": {
             "outlinewidth": 0,
             "ticks": ""
            },
            "type": "mesh3d"
           }
          ],
          "parcoords": [
           {
            "line": {
             "colorbar": {
              "outlinewidth": 0,
              "ticks": ""
             }
            },
            "type": "parcoords"
           }
          ],
          "pie": [
           {
            "automargin": true,
            "type": "pie"
           }
          ],
          "scatter": [
           {
            "fillpattern": {
             "fillmode": "overlay",
             "size": 10,
             "solidity": 0.2
            },
            "type": "scatter"
           }
          ],
          "scatter3d": [
           {
            "line": {
             "colorbar": {
              "outlinewidth": 0,
              "ticks": ""
             }
            },
            "marker": {
             "colorbar": {
              "outlinewidth": 0,
              "ticks": ""
             }
            },
            "type": "scatter3d"
           }
          ],
          "scattercarpet": [
           {
            "marker": {
             "colorbar": {
              "outlinewidth": 0,
              "ticks": ""
             }
            },
            "type": "scattercarpet"
           }
          ],
          "scattergeo": [
           {
            "marker": {
             "colorbar": {
              "outlinewidth": 0,
              "ticks": ""
             }
            },
            "type": "scattergeo"
           }
          ],
          "scattergl": [
           {
            "marker": {
             "colorbar": {
              "outlinewidth": 0,
              "ticks": ""
             }
            },
            "type": "scattergl"
           }
          ],
          "scattermap": [
           {
            "marker": {
             "colorbar": {
              "outlinewidth": 0,
              "ticks": ""
             }
            },
            "type": "scattermap"
           }
          ],
          "scattermapbox": [
           {
            "marker": {
             "colorbar": {
              "outlinewidth": 0,
              "ticks": ""
             }
            },
            "type": "scattermapbox"
           }
          ],
          "scatterpolar": [
           {
            "marker": {
             "colorbar": {
              "outlinewidth": 0,
              "ticks": ""
             }
            },
            "type": "scatterpolar"
           }
          ],
          "scatterpolargl": [
           {
            "marker": {
             "colorbar": {
              "outlinewidth": 0,
              "ticks": ""
             }
            },
            "type": "scatterpolargl"
           }
          ],
          "scatterternary": [
           {
            "marker": {
             "colorbar": {
              "outlinewidth": 0,
              "ticks": ""
             }
            },
            "type": "scatterternary"
           }
          ],
          "surface": [
           {
            "colorbar": {
             "outlinewidth": 0,
             "ticks": ""
            },
            "colorscale": [
             [
              0,
              "#0d0887"
             ],
             [
              0.1111111111111111,
              "#46039f"
             ],
             [
              0.2222222222222222,
              "#7201a8"
             ],
             [
              0.3333333333333333,
              "#9c179e"
             ],
             [
              0.4444444444444444,
              "#bd3786"
             ],
             [
              0.5555555555555556,
              "#d8576b"
             ],
             [
              0.6666666666666666,
              "#ed7953"
             ],
             [
              0.7777777777777778,
              "#fb9f3a"
             ],
             [
              0.8888888888888888,
              "#fdca26"
             ],
             [
              1,
              "#f0f921"
             ]
            ],
            "type": "surface"
           }
          ],
          "table": [
           {
            "cells": {
             "fill": {
              "color": "#EBF0F8"
             },
             "line": {
              "color": "white"
             }
            },
            "header": {
             "fill": {
              "color": "#C8D4E3"
             },
             "line": {
              "color": "white"
             }
            },
            "type": "table"
           }
          ]
         },
         "layout": {
          "annotationdefaults": {
           "arrowcolor": "#2a3f5f",
           "arrowhead": 0,
           "arrowwidth": 1
          },
          "autotypenumbers": "strict",
          "coloraxis": {
           "colorbar": {
            "outlinewidth": 0,
            "ticks": ""
           }
          },
          "colorscale": {
           "diverging": [
            [
             0,
             "#8e0152"
            ],
            [
             0.1,
             "#c51b7d"
            ],
            [
             0.2,
             "#de77ae"
            ],
            [
             0.3,
             "#f1b6da"
            ],
            [
             0.4,
             "#fde0ef"
            ],
            [
             0.5,
             "#f7f7f7"
            ],
            [
             0.6,
             "#e6f5d0"
            ],
            [
             0.7,
             "#b8e186"
            ],
            [
             0.8,
             "#7fbc41"
            ],
            [
             0.9,
             "#4d9221"
            ],
            [
             1,
             "#276419"
            ]
           ],
           "sequential": [
            [
             0,
             "#0d0887"
            ],
            [
             0.1111111111111111,
             "#46039f"
            ],
            [
             0.2222222222222222,
             "#7201a8"
            ],
            [
             0.3333333333333333,
             "#9c179e"
            ],
            [
             0.4444444444444444,
             "#bd3786"
            ],
            [
             0.5555555555555556,
             "#d8576b"
            ],
            [
             0.6666666666666666,
             "#ed7953"
            ],
            [
             0.7777777777777778,
             "#fb9f3a"
            ],
            [
             0.8888888888888888,
             "#fdca26"
            ],
            [
             1,
             "#f0f921"
            ]
           ],
           "sequentialminus": [
            [
             0,
             "#0d0887"
            ],
            [
             0.1111111111111111,
             "#46039f"
            ],
            [
             0.2222222222222222,
             "#7201a8"
            ],
            [
             0.3333333333333333,
             "#9c179e"
            ],
            [
             0.4444444444444444,
             "#bd3786"
            ],
            [
             0.5555555555555556,
             "#d8576b"
            ],
            [
             0.6666666666666666,
             "#ed7953"
            ],
            [
             0.7777777777777778,
             "#fb9f3a"
            ],
            [
             0.8888888888888888,
             "#fdca26"
            ],
            [
             1,
             "#f0f921"
            ]
           ]
          },
          "colorway": [
           "#636efa",
           "#EF553B",
           "#00cc96",
           "#ab63fa",
           "#FFA15A",
           "#19d3f3",
           "#FF6692",
           "#B6E880",
           "#FF97FF",
           "#FECB52"
          ],
          "font": {
           "color": "#2a3f5f"
          },
          "geo": {
           "bgcolor": "white",
           "lakecolor": "white",
           "landcolor": "#E5ECF6",
           "showlakes": true,
           "showland": true,
           "subunitcolor": "white"
          },
          "hoverlabel": {
           "align": "left"
          },
          "hovermode": "closest",
          "legend": {
           "orientation": "h",
           "x": 1,
           "xanchor": "right",
           "y": 1.02,
           "yanchor": "bottom"
          },
          "mapbox": {
           "style": "light"
          },
          "margin": {
           "b": 50,
           "l": 50,
           "r": 50,
           "t": 50
          },
          "paper_bgcolor": "white",
          "plot_bgcolor": "#E5ECF6",
          "polar": {
           "angularaxis": {
            "gridcolor": "white",
            "linecolor": "white",
            "ticks": ""
           },
           "bgcolor": "#E5ECF6",
           "radialaxis": {
            "gridcolor": "white",
            "linecolor": "white",
            "ticks": ""
           }
          },
          "scene": {
           "xaxis": {
            "backgroundcolor": "#E5ECF6",
            "gridcolor": "white",
            "gridwidth": 2,
            "linecolor": "white",
            "showbackground": true,
            "ticks": "",
            "zerolinecolor": "white"
           },
           "yaxis": {
            "backgroundcolor": "#E5ECF6",
            "gridcolor": "white",
            "gridwidth": 2,
            "linecolor": "white",
            "showbackground": true,
            "ticks": "",
            "zerolinecolor": "white"
           },
           "zaxis": {
            "backgroundcolor": "#E5ECF6",
            "gridcolor": "white",
            "gridwidth": 2,
            "linecolor": "white",
            "showbackground": true,
            "ticks": "",
            "zerolinecolor": "white"
           }
          },
          "shapedefaults": {
           "line": {
            "color": "#2a3f5f"
           }
          },
          "ternary": {
           "aaxis": {
            "gridcolor": "white",
            "linecolor": "white",
            "ticks": ""
           },
           "baxis": {
            "gridcolor": "white",
            "linecolor": "white",
            "ticks": ""
           },
           "bgcolor": "#E5ECF6",
           "caxis": {
            "gridcolor": "white",
            "linecolor": "white",
            "ticks": ""
           }
          },
          "title": {
           "x": 0.05
          },
          "xaxis": {
           "automargin": true,
           "gridcolor": "white",
           "linecolor": "white",
           "ticks": "",
           "title": {
            "standoff": 15
           },
           "zerolinecolor": "white",
           "zerolinewidth": 2
          },
          "yaxis": {
           "automargin": true,
           "gridcolor": "white",
           "linecolor": "white",
           "ticks": "",
           "title": {
            "standoff": 15
           },
           "zerolinecolor": "white",
           "zerolinewidth": 2
          }
         }
        },
        "width": 1000,
        "xaxis": {
         "anchor": "y",
         "domain": [
          0,
          0.48
         ],
         "title": {
          "text": "SSL Model"
         }
        },
        "xaxis2": {
         "anchor": "y2",
         "domain": [
          0.5,
          0.98
         ],
         "matches": "x",
         "title": {
          "text": "SSL Model"
         }
        },
        "xaxis3": {
         "anchor": "y3",
         "domain": [
          0,
          0.48
         ],
         "matches": "x",
         "showticklabels": false
        },
        "xaxis4": {
         "anchor": "y4",
         "domain": [
          0.5,
          0.98
         ],
         "matches": "x",
         "showticklabels": false
        },
        "yaxis": {
         "anchor": "x",
         "domain": [
          0,
          0.485
         ],
         "range": [
          0,
          1
         ],
         "title": {
          "text": "Accuracy"
         }
        },
        "yaxis2": {
         "anchor": "x2",
         "domain": [
          0,
          0.485
         ],
         "matches": "y",
         "range": [
          0,
          1
         ],
         "showticklabels": false
        },
        "yaxis3": {
         "anchor": "x3",
         "domain": [
          0.515,
          1
         ],
         "matches": "y",
         "range": [
          0,
          1
         ],
         "title": {
          "text": "Accuracy"
         }
        },
        "yaxis4": {
         "anchor": "x4",
         "domain": [
          0.515,
          1
         ],
         "matches": "y",
         "range": [
          0,
          1
         ],
         "showticklabels": false
        }
       }
      }
     },
     "metadata": {},
     "output_type": "display_data"
    }
   ],
   "source": [
    "fig = px.bar(fragment_result, x='ssl_model', y='acc', color='scenario', \n",
    "             facet_row='calibration', facet_col='head_model', barmode='group',\n",
    "             labels={'ssl_model': 'SSL Model', 'acc': 'Accuracy', 'scenario': 'Scenario'},)\n",
    "\n",
    "fig.update_yaxes(range=[0, 1])\n",
    "fig.update_layout(height=640, width=1000, font_size=16, \n",
    "                  legend_title_text=\"\",\n",
    "                  margin=dict(l=40, r=40, b=30, t=80),\n",
    "                  showlegend=True,\n",
    "                  legend=dict(orientation=\"h\", yanchor=\"bottom\", y=1.07, xanchor=\"center\", x=0.5)\n",
    ")"
   ]
  },
  {
   "cell_type": "markdown",
   "metadata": {},
   "source": [
    "### IEEEPPG Results"
   ]
  },
  {
   "cell_type": "code",
   "execution_count": 35,
   "metadata": {},
   "outputs": [
    {
     "data": {
      "text/html": [
       "<div>\n",
       "<style scoped>\n",
       "    .dataframe tbody tr th:only-of-type {\n",
       "        vertical-align: middle;\n",
       "    }\n",
       "\n",
       "    .dataframe tbody tr th {\n",
       "        vertical-align: top;\n",
       "    }\n",
       "\n",
       "    .dataframe thead th {\n",
       "        text-align: right;\n",
       "    }\n",
       "</style>\n",
       "<table border=\"1\" class=\"dataframe\">\n",
       "  <thead>\n",
       "    <tr style=\"text-align: right;\">\n",
       "      <th></th>\n",
       "      <th>ssl_model</th>\n",
       "      <th>head_model</th>\n",
       "      <th>calibration</th>\n",
       "      <th>scenario</th>\n",
       "      <th>dataset</th>\n",
       "      <th>avg_loss</th>\n",
       "      <th>mse</th>\n",
       "      <th>mse_std</th>\n",
       "      <th>r2_score</th>\n",
       "      <th>r2_score_std</th>\n",
       "      <th>rmse</th>\n",
       "      <th>rmse_std</th>\n",
       "      <th>mae</th>\n",
       "      <th>mae_std</th>\n",
       "    </tr>\n",
       "  </thead>\n",
       "  <tbody>\n",
       "    <tr>\n",
       "      <th>0</th>\n",
       "      <td>TSTCC</td>\n",
       "      <td>MLP</td>\n",
       "      <td>linearprobing</td>\n",
       "      <td>one_domain</td>\n",
       "      <td>IEEEPPG</td>\n",
       "      <td>517.3157</td>\n",
       "      <td>0.0101</td>\n",
       "      <td>0.0043</td>\n",
       "      <td>22.7445</td>\n",
       "      <td>0.0498</td>\n",
       "      <td>18.3980</td>\n",
       "      <td>0.1768</td>\n",
       "      <td>529.4080</td>\n",
       "      <td>1.4312</td>\n",
       "    </tr>\n",
       "    <tr>\n",
       "      <th>1</th>\n",
       "      <td>TSTCC</td>\n",
       "      <td>MLP</td>\n",
       "      <td>linearprobing</td>\n",
       "      <td>four_domains</td>\n",
       "      <td>IEEEPPG</td>\n",
       "      <td>518.3404</td>\n",
       "      <td>0.0082</td>\n",
       "      <td>0.0030</td>\n",
       "      <td>22.7671</td>\n",
       "      <td>0.0346</td>\n",
       "      <td>18.4338</td>\n",
       "      <td>0.1247</td>\n",
       "      <td>529.0043</td>\n",
       "      <td>1.1918</td>\n",
       "    </tr>\n",
       "    <tr>\n",
       "      <th>2</th>\n",
       "      <td>TSTCC</td>\n",
       "      <td>MLP</td>\n",
       "      <td>finetuning</td>\n",
       "      <td>one_domain</td>\n",
       "      <td>IEEEPPG</td>\n",
       "      <td>535.3663</td>\n",
       "      <td>-0.0244</td>\n",
       "      <td>0.0264</td>\n",
       "      <td>23.1364</td>\n",
       "      <td>0.2993</td>\n",
       "      <td>19.1758</td>\n",
       "      <td>0.5177</td>\n",
       "      <td>543.2826</td>\n",
       "      <td>11.4943</td>\n",
       "    </tr>\n",
       "    <tr>\n",
       "      <th>3</th>\n",
       "      <td>TSTCC</td>\n",
       "      <td>MLP</td>\n",
       "      <td>finetuning</td>\n",
       "      <td>four_domains</td>\n",
       "      <td>IEEEPPG</td>\n",
       "      <td>604.8880</td>\n",
       "      <td>-0.1574</td>\n",
       "      <td>0.0264</td>\n",
       "      <td>24.5932</td>\n",
       "      <td>0.2804</td>\n",
       "      <td>21.0037</td>\n",
       "      <td>0.3759</td>\n",
       "      <td>591.9205</td>\n",
       "      <td>15.9592</td>\n",
       "    </tr>\n",
       "    <tr>\n",
       "      <th>4</th>\n",
       "      <td>TSTCC</td>\n",
       "      <td>FCN</td>\n",
       "      <td>linearprobing</td>\n",
       "      <td>one_domain</td>\n",
       "      <td>IEEEPPG</td>\n",
       "      <td>1190.1912</td>\n",
       "      <td>-1.2774</td>\n",
       "      <td>0.2310</td>\n",
       "      <td>34.4638</td>\n",
       "      <td>1.7447</td>\n",
       "      <td>30.7696</td>\n",
       "      <td>1.6269</td>\n",
       "      <td>1177.3956</td>\n",
       "      <td>119.0651</td>\n",
       "    </tr>\n",
       "    <tr>\n",
       "      <th>5</th>\n",
       "      <td>TSTCC</td>\n",
       "      <td>FCN</td>\n",
       "      <td>linearprobing</td>\n",
       "      <td>four_domains</td>\n",
       "      <td>IEEEPPG</td>\n",
       "      <td>1262.4032</td>\n",
       "      <td>-1.4156</td>\n",
       "      <td>0.4502</td>\n",
       "      <td>35.4071</td>\n",
       "      <td>3.3056</td>\n",
       "      <td>31.6817</td>\n",
       "      <td>3.0799</td>\n",
       "      <td>1250.6599</td>\n",
       "      <td>236.5923</td>\n",
       "    </tr>\n",
       "    <tr>\n",
       "      <th>6</th>\n",
       "      <td>TSTCC</td>\n",
       "      <td>FCN</td>\n",
       "      <td>finetuning</td>\n",
       "      <td>four_domains</td>\n",
       "      <td>IEEEPPG</td>\n",
       "      <td>2555.6661</td>\n",
       "      <td>-3.8902</td>\n",
       "      <td>1.0516</td>\n",
       "      <td>50.3226</td>\n",
       "      <td>5.3967</td>\n",
       "      <td>46.0671</td>\n",
       "      <td>5.3580</td>\n",
       "      <td>2543.8911</td>\n",
       "      <td>545.7443</td>\n",
       "    </tr>\n",
       "    <tr>\n",
       "      <th>7</th>\n",
       "      <td>TSTCC</td>\n",
       "      <td>FCN</td>\n",
       "      <td>finetuning</td>\n",
       "      <td>one_domain</td>\n",
       "      <td>IEEEPPG</td>\n",
       "      <td>2795.0978</td>\n",
       "      <td>-4.3484</td>\n",
       "      <td>1.0625</td>\n",
       "      <td>52.6498</td>\n",
       "      <td>5.3728</td>\n",
       "      <td>48.3791</td>\n",
       "      <td>5.3419</td>\n",
       "      <td>2778.8777</td>\n",
       "      <td>552.3494</td>\n",
       "    </tr>\n",
       "    <tr>\n",
       "      <th>8</th>\n",
       "      <td>TS2Vec</td>\n",
       "      <td>MLP</td>\n",
       "      <td>linearprobing</td>\n",
       "      <td>four_domains</td>\n",
       "      <td>IEEEPPG</td>\n",
       "      <td>539.1999</td>\n",
       "      <td>-0.0318</td>\n",
       "      <td>0.0049</td>\n",
       "      <td>23.2206</td>\n",
       "      <td>0.0555</td>\n",
       "      <td>17.9959</td>\n",
       "      <td>0.1483</td>\n",
       "      <td>536.2796</td>\n",
       "      <td>3.7322</td>\n",
       "    </tr>\n",
       "    <tr>\n",
       "      <th>9</th>\n",
       "      <td>TS2Vec</td>\n",
       "      <td>MLP</td>\n",
       "      <td>linearprobing</td>\n",
       "      <td>one_domain</td>\n",
       "      <td>IEEEPPG</td>\n",
       "      <td>526.7837</td>\n",
       "      <td>-0.0080</td>\n",
       "      <td>0.0066</td>\n",
       "      <td>22.9517</td>\n",
       "      <td>0.0746</td>\n",
       "      <td>18.1103</td>\n",
       "      <td>0.1819</td>\n",
       "      <td>532.8204</td>\n",
       "      <td>3.0074</td>\n",
       "    </tr>\n",
       "    <tr>\n",
       "      <th>10</th>\n",
       "      <td>TS2Vec</td>\n",
       "      <td>MLP</td>\n",
       "      <td>finetuning</td>\n",
       "      <td>one_domain</td>\n",
       "      <td>IEEEPPG</td>\n",
       "      <td>721.1975</td>\n",
       "      <td>-0.3800</td>\n",
       "      <td>0.1830</td>\n",
       "      <td>26.8061</td>\n",
       "      <td>1.8134</td>\n",
       "      <td>23.5175</td>\n",
       "      <td>1.8277</td>\n",
       "      <td>739.4265</td>\n",
       "      <td>90.4441</td>\n",
       "    </tr>\n",
       "    <tr>\n",
       "      <th>11</th>\n",
       "      <td>TS2Vec</td>\n",
       "      <td>MLP</td>\n",
       "      <td>finetuning</td>\n",
       "      <td>four_domains</td>\n",
       "      <td>IEEEPPG</td>\n",
       "      <td>796.7554</td>\n",
       "      <td>-0.5246</td>\n",
       "      <td>0.1473</td>\n",
       "      <td>28.1999</td>\n",
       "      <td>1.3792</td>\n",
       "      <td>24.9227</td>\n",
       "      <td>1.3263</td>\n",
       "      <td>816.1445</td>\n",
       "      <td>71.3409</td>\n",
       "    </tr>\n",
       "    <tr>\n",
       "      <th>12</th>\n",
       "      <td>TS2Vec</td>\n",
       "      <td>FCN</td>\n",
       "      <td>linearprobing</td>\n",
       "      <td>four_domains</td>\n",
       "      <td>IEEEPPG</td>\n",
       "      <td>1213.4476</td>\n",
       "      <td>-1.3219</td>\n",
       "      <td>0.1952</td>\n",
       "      <td>34.8107</td>\n",
       "      <td>1.4404</td>\n",
       "      <td>31.0822</td>\n",
       "      <td>1.3390</td>\n",
       "      <td>1203.7218</td>\n",
       "      <td>97.9792</td>\n",
       "    </tr>\n",
       "    <tr>\n",
       "      <th>13</th>\n",
       "      <td>TS2Vec</td>\n",
       "      <td>FCN</td>\n",
       "      <td>linearprobing</td>\n",
       "      <td>one_domain</td>\n",
       "      <td>IEEEPPG</td>\n",
       "      <td>1451.7969</td>\n",
       "      <td>-1.7780</td>\n",
       "      <td>0.3796</td>\n",
       "      <td>38.0313</td>\n",
       "      <td>2.6020</td>\n",
       "      <td>34.0904</td>\n",
       "      <td>2.4316</td>\n",
       "      <td>1426.7699</td>\n",
       "      <td>194.5039</td>\n",
       "    </tr>\n",
       "    <tr>\n",
       "      <th>14</th>\n",
       "      <td>TS2Vec</td>\n",
       "      <td>FCN</td>\n",
       "      <td>finetuning</td>\n",
       "      <td>four_domains</td>\n",
       "      <td>IEEEPPG</td>\n",
       "      <td>3099.4881</td>\n",
       "      <td>-4.9308</td>\n",
       "      <td>0.9764</td>\n",
       "      <td>55.5051</td>\n",
       "      <td>4.8309</td>\n",
       "      <td>51.2334</td>\n",
       "      <td>4.8108</td>\n",
       "      <td>3079.4478</td>\n",
       "      <td>509.0252</td>\n",
       "    </tr>\n",
       "    <tr>\n",
       "      <th>15</th>\n",
       "      <td>TS2Vec</td>\n",
       "      <td>FCN</td>\n",
       "      <td>finetuning</td>\n",
       "      <td>one_domain</td>\n",
       "      <td>IEEEPPG</td>\n",
       "      <td>3579.6625</td>\n",
       "      <td>-5.8497</td>\n",
       "      <td>1.0131</td>\n",
       "      <td>59.6870</td>\n",
       "      <td>4.6269</td>\n",
       "      <td>55.4710</td>\n",
       "      <td>4.6733</td>\n",
       "      <td>3558.3488</td>\n",
       "      <td>526.8258</td>\n",
       "    </tr>\n",
       "    <tr>\n",
       "      <th>16</th>\n",
       "      <td>Series2Vec</td>\n",
       "      <td>MLP</td>\n",
       "      <td>finetuning</td>\n",
       "      <td>one_domain</td>\n",
       "      <td>IEEEPPG</td>\n",
       "      <td>525.2196</td>\n",
       "      <td>-0.0050</td>\n",
       "      <td>0.0100</td>\n",
       "      <td>22.9174</td>\n",
       "      <td>0.1139</td>\n",
       "      <td>18.4622</td>\n",
       "      <td>0.4069</td>\n",
       "      <td>529.7643</td>\n",
       "      <td>3.7755</td>\n",
       "    </tr>\n",
       "    <tr>\n",
       "      <th>17</th>\n",
       "      <td>Series2Vec</td>\n",
       "      <td>MLP</td>\n",
       "      <td>finetuning</td>\n",
       "      <td>four_domains</td>\n",
       "      <td>IEEEPPG</td>\n",
       "      <td>526.2914</td>\n",
       "      <td>-0.0071</td>\n",
       "      <td>0.0088</td>\n",
       "      <td>22.9409</td>\n",
       "      <td>0.0999</td>\n",
       "      <td>18.4814</td>\n",
       "      <td>0.4259</td>\n",
       "      <td>530.1819</td>\n",
       "      <td>4.7629</td>\n",
       "    </tr>\n",
       "    <tr>\n",
       "      <th>18</th>\n",
       "      <td>Series2Vec</td>\n",
       "      <td>MLP</td>\n",
       "      <td>linearprobing</td>\n",
       "      <td>one_domain</td>\n",
       "      <td>IEEEPPG</td>\n",
       "      <td>527.2730</td>\n",
       "      <td>-0.0089</td>\n",
       "      <td>0.0161</td>\n",
       "      <td>22.9618</td>\n",
       "      <td>0.1831</td>\n",
       "      <td>18.7038</td>\n",
       "      <td>0.4434</td>\n",
       "      <td>531.8965</td>\n",
       "      <td>4.2918</td>\n",
       "    </tr>\n",
       "    <tr>\n",
       "      <th>19</th>\n",
       "      <td>Series2Vec</td>\n",
       "      <td>MLP</td>\n",
       "      <td>linearprobing</td>\n",
       "      <td>four_domains</td>\n",
       "      <td>IEEEPPG</td>\n",
       "      <td>524.9903</td>\n",
       "      <td>-0.0046</td>\n",
       "      <td>0.0175</td>\n",
       "      <td>22.9120</td>\n",
       "      <td>0.1991</td>\n",
       "      <td>18.9626</td>\n",
       "      <td>0.3795</td>\n",
       "      <td>539.2144</td>\n",
       "      <td>7.8068</td>\n",
       "    </tr>\n",
       "    <tr>\n",
       "      <th>20</th>\n",
       "      <td>Series2Vec</td>\n",
       "      <td>FCN</td>\n",
       "      <td>linearprobing</td>\n",
       "      <td>one_domain</td>\n",
       "      <td>IEEEPPG</td>\n",
       "      <td>1344.2408</td>\n",
       "      <td>-1.5722</td>\n",
       "      <td>0.5441</td>\n",
       "      <td>36.5033</td>\n",
       "      <td>3.8330</td>\n",
       "      <td>32.6451</td>\n",
       "      <td>3.5899</td>\n",
       "      <td>1389.1633</td>\n",
       "      <td>287.2219</td>\n",
       "    </tr>\n",
       "    <tr>\n",
       "      <th>21</th>\n",
       "      <td>Series2Vec</td>\n",
       "      <td>FCN</td>\n",
       "      <td>linearprobing</td>\n",
       "      <td>four_domains</td>\n",
       "      <td>IEEEPPG</td>\n",
       "      <td>1527.1194</td>\n",
       "      <td>-1.9221</td>\n",
       "      <td>0.3473</td>\n",
       "      <td>39.0249</td>\n",
       "      <td>2.2841</td>\n",
       "      <td>35.0923</td>\n",
       "      <td>2.1752</td>\n",
       "      <td>1512.9941</td>\n",
       "      <td>180.9376</td>\n",
       "    </tr>\n",
       "    <tr>\n",
       "      <th>22</th>\n",
       "      <td>Series2Vec</td>\n",
       "      <td>FCN</td>\n",
       "      <td>finetuning</td>\n",
       "      <td>one_domain</td>\n",
       "      <td>IEEEPPG</td>\n",
       "      <td>1739.1857</td>\n",
       "      <td>-2.3279</td>\n",
       "      <td>0.3295</td>\n",
       "      <td>41.6620</td>\n",
       "      <td>2.0795</td>\n",
       "      <td>37.5592</td>\n",
       "      <td>1.9873</td>\n",
       "      <td>1727.5194</td>\n",
       "      <td>171.0786</td>\n",
       "    </tr>\n",
       "    <tr>\n",
       "      <th>23</th>\n",
       "      <td>Series2Vec</td>\n",
       "      <td>FCN</td>\n",
       "      <td>finetuning</td>\n",
       "      <td>four_domains</td>\n",
       "      <td>IEEEPPG</td>\n",
       "      <td>1934.8606</td>\n",
       "      <td>-2.7023</td>\n",
       "      <td>0.2547</td>\n",
       "      <td>43.9659</td>\n",
       "      <td>1.5257</td>\n",
       "      <td>39.7850</td>\n",
       "      <td>1.4879</td>\n",
       "      <td>1922.1360</td>\n",
       "      <td>132.2743</td>\n",
       "    </tr>\n",
       "  </tbody>\n",
       "</table>\n",
       "</div>"
      ],
      "text/plain": [
       "     ssl_model head_model    calibration      scenario  dataset   avg_loss  \\\n",
       "0        TSTCC        MLP  linearprobing    one_domain  IEEEPPG   517.3157   \n",
       "1        TSTCC        MLP  linearprobing  four_domains  IEEEPPG   518.3404   \n",
       "2        TSTCC        MLP     finetuning    one_domain  IEEEPPG   535.3663   \n",
       "3        TSTCC        MLP     finetuning  four_domains  IEEEPPG   604.8880   \n",
       "4        TSTCC        FCN  linearprobing    one_domain  IEEEPPG  1190.1912   \n",
       "5        TSTCC        FCN  linearprobing  four_domains  IEEEPPG  1262.4032   \n",
       "6        TSTCC        FCN     finetuning  four_domains  IEEEPPG  2555.6661   \n",
       "7        TSTCC        FCN     finetuning    one_domain  IEEEPPG  2795.0978   \n",
       "8       TS2Vec        MLP  linearprobing  four_domains  IEEEPPG   539.1999   \n",
       "9       TS2Vec        MLP  linearprobing    one_domain  IEEEPPG   526.7837   \n",
       "10      TS2Vec        MLP     finetuning    one_domain  IEEEPPG   721.1975   \n",
       "11      TS2Vec        MLP     finetuning  four_domains  IEEEPPG   796.7554   \n",
       "12      TS2Vec        FCN  linearprobing  four_domains  IEEEPPG  1213.4476   \n",
       "13      TS2Vec        FCN  linearprobing    one_domain  IEEEPPG  1451.7969   \n",
       "14      TS2Vec        FCN     finetuning  four_domains  IEEEPPG  3099.4881   \n",
       "15      TS2Vec        FCN     finetuning    one_domain  IEEEPPG  3579.6625   \n",
       "16  Series2Vec        MLP     finetuning    one_domain  IEEEPPG   525.2196   \n",
       "17  Series2Vec        MLP     finetuning  four_domains  IEEEPPG   526.2914   \n",
       "18  Series2Vec        MLP  linearprobing    one_domain  IEEEPPG   527.2730   \n",
       "19  Series2Vec        MLP  linearprobing  four_domains  IEEEPPG   524.9903   \n",
       "20  Series2Vec        FCN  linearprobing    one_domain  IEEEPPG  1344.2408   \n",
       "21  Series2Vec        FCN  linearprobing  four_domains  IEEEPPG  1527.1194   \n",
       "22  Series2Vec        FCN     finetuning    one_domain  IEEEPPG  1739.1857   \n",
       "23  Series2Vec        FCN     finetuning  four_domains  IEEEPPG  1934.8606   \n",
       "\n",
       "       mse  mse_std  r2_score  r2_score_std     rmse  rmse_std        mae  \\\n",
       "0   0.0101   0.0043   22.7445        0.0498  18.3980    0.1768   529.4080   \n",
       "1   0.0082   0.0030   22.7671        0.0346  18.4338    0.1247   529.0043   \n",
       "2  -0.0244   0.0264   23.1364        0.2993  19.1758    0.5177   543.2826   \n",
       "3  -0.1574   0.0264   24.5932        0.2804  21.0037    0.3759   591.9205   \n",
       "4  -1.2774   0.2310   34.4638        1.7447  30.7696    1.6269  1177.3956   \n",
       "5  -1.4156   0.4502   35.4071        3.3056  31.6817    3.0799  1250.6599   \n",
       "6  -3.8902   1.0516   50.3226        5.3967  46.0671    5.3580  2543.8911   \n",
       "7  -4.3484   1.0625   52.6498        5.3728  48.3791    5.3419  2778.8777   \n",
       "8  -0.0318   0.0049   23.2206        0.0555  17.9959    0.1483   536.2796   \n",
       "9  -0.0080   0.0066   22.9517        0.0746  18.1103    0.1819   532.8204   \n",
       "10 -0.3800   0.1830   26.8061        1.8134  23.5175    1.8277   739.4265   \n",
       "11 -0.5246   0.1473   28.1999        1.3792  24.9227    1.3263   816.1445   \n",
       "12 -1.3219   0.1952   34.8107        1.4404  31.0822    1.3390  1203.7218   \n",
       "13 -1.7780   0.3796   38.0313        2.6020  34.0904    2.4316  1426.7699   \n",
       "14 -4.9308   0.9764   55.5051        4.8309  51.2334    4.8108  3079.4478   \n",
       "15 -5.8497   1.0131   59.6870        4.6269  55.4710    4.6733  3558.3488   \n",
       "16 -0.0050   0.0100   22.9174        0.1139  18.4622    0.4069   529.7643   \n",
       "17 -0.0071   0.0088   22.9409        0.0999  18.4814    0.4259   530.1819   \n",
       "18 -0.0089   0.0161   22.9618        0.1831  18.7038    0.4434   531.8965   \n",
       "19 -0.0046   0.0175   22.9120        0.1991  18.9626    0.3795   539.2144   \n",
       "20 -1.5722   0.5441   36.5033        3.8330  32.6451    3.5899  1389.1633   \n",
       "21 -1.9221   0.3473   39.0249        2.2841  35.0923    2.1752  1512.9941   \n",
       "22 -2.3279   0.3295   41.6620        2.0795  37.5592    1.9873  1727.5194   \n",
       "23 -2.7023   0.2547   43.9659        1.5257  39.7850    1.4879  1922.1360   \n",
       "\n",
       "     mae_std  \n",
       "0     1.4312  \n",
       "1     1.1918  \n",
       "2    11.4943  \n",
       "3    15.9592  \n",
       "4   119.0651  \n",
       "5   236.5923  \n",
       "6   545.7443  \n",
       "7   552.3494  \n",
       "8     3.7322  \n",
       "9     3.0074  \n",
       "10   90.4441  \n",
       "11   71.3409  \n",
       "12   97.9792  \n",
       "13  194.5039  \n",
       "14  509.0252  \n",
       "15  526.8258  \n",
       "16    3.7755  \n",
       "17    4.7629  \n",
       "18    4.2918  \n",
       "19    7.8068  \n",
       "20  287.2219  \n",
       "21  180.9376  \n",
       "22  171.0786  \n",
       "23  132.2743  "
      ]
     },
     "execution_count": 35,
     "metadata": {},
     "output_type": "execute_result"
    }
   ],
   "source": [
    "ieeeppg_result = pd.read_csv('./Pos_training/ieeeppg_results.csv')\n",
    "ieeeppg_result"
   ]
  },
  {
   "cell_type": "code",
   "execution_count": 37,
   "metadata": {},
   "outputs": [
    {
     "data": {
      "application/vnd.plotly.v1+json": {
       "config": {
        "plotlyServerURL": "https://plot.ly"
       },
       "data": [
        {
         "alignmentgroup": "True",
         "hovertemplate": "scenario=one_domain<br>calibration=linearprobing<br>head_model=MLP<br>ssl_model=%{x}<br>rmse=%{y}<extra></extra>",
         "legendgroup": "one_domain",
         "marker": {
          "color": "#636efa",
          "pattern": {
           "shape": ""
          }
         },
         "name": "one_domain",
         "offsetgroup": "one_domain",
         "orientation": "v",
         "showlegend": true,
         "textposition": "auto",
         "type": "bar",
         "x": [
          "TSTCC",
          "TS2Vec",
          "Series2Vec"
         ],
         "xaxis": "x3",
         "y": {
          "bdata": "2c73U+NlMkCxv+yePBwyQMDsnjwstDJA",
          "dtype": "f8"
         },
         "yaxis": "y3"
        },
        {
         "alignmentgroup": "True",
         "hovertemplate": "scenario=one_domain<br>calibration=linearprobing<br>head_model=FCN<br>ssl_model=%{x}<br>rmse=%{y}<extra></extra>",
         "legendgroup": "one_domain",
         "marker": {
          "color": "#636efa",
          "pattern": {
           "shape": ""
          }
         },
         "name": "one_domain",
         "offsetgroup": "one_domain",
         "orientation": "v",
         "showlegend": false,
         "textposition": "auto",
         "type": "bar",
         "x": [
          "TSTCC",
          "TS2Vec",
          "Series2Vec"
         ],
         "xaxis": "x4",
         "y": {
          "bdata": "aQBvgQTFPkB6xyk6kgtBQCZTBaOSUkBA",
          "dtype": "f8"
         },
         "yaxis": "y4"
        },
        {
         "alignmentgroup": "True",
         "hovertemplate": "scenario=one_domain<br>calibration=finetuning<br>head_model=MLP<br>ssl_model=%{x}<br>rmse=%{y}<extra></extra>",
         "legendgroup": "one_domain",
         "marker": {
          "color": "#636efa",
          "pattern": {
           "shape": ""
          }
         },
         "name": "one_domain",
         "offsetgroup": "one_domain",
         "orientation": "v",
         "showlegend": false,
         "textposition": "auto",
         "type": "bar",
         "x": [
          "TSTCC",
          "TS2Vec",
          "Series2Vec"
         ],
         "xaxis": "x",
         "y": {
          "bdata": "BaOSOgEtM0AUrkfheoQ3QBE2PL1SdjJA",
          "dtype": "f8"
         },
         "yaxis": "y"
        },
        {
         "alignmentgroup": "True",
         "hovertemplate": "scenario=one_domain<br>calibration=finetuning<br>head_model=FCN<br>ssl_model=%{x}<br>rmse=%{y}<extra></extra>",
         "legendgroup": "one_domain",
         "marker": {
          "color": "#636efa",
          "pattern": {
           "shape": ""
          }
         },
         "name": "one_domain",
         "offsetgroup": "one_domain",
         "orientation": "v",
         "showlegend": false,
         "textposition": "auto",
         "type": "bar",
         "x": [
          "TSTCC",
          "TS2Vec",
          "Series2Vec"
         ],
         "xaxis": "x2",
         "y": {
          "bdata": "8fRKWYYwSEA/NV66SbxLQCv2l92Tx0JA",
          "dtype": "f8"
         },
         "yaxis": "y2"
        },
        {
         "alignmentgroup": "True",
         "hovertemplate": "scenario=four_domains<br>calibration=linearprobing<br>head_model=MLP<br>ssl_model=%{x}<br>rmse=%{y}<extra></extra>",
         "legendgroup": "four_domains",
         "marker": {
          "color": "#EF553B",
          "pattern": {
           "shape": ""
          }
         },
         "name": "four_domains",
         "offsetgroup": "four_domains",
         "orientation": "v",
         "showlegend": true,
         "textposition": "auto",
         "type": "bar",
         "x": [
          "TSTCC",
          "TS2Vec",
          "Series2Vec"
         ],
         "xaxis": "x3",
         "y": {
          "bdata": "OwFNhA1vMkAeFmpN8/4xQC0hH/Rs9jJA",
          "dtype": "f8"
         },
         "yaxis": "y3"
        },
        {
         "alignmentgroup": "True",
         "hovertemplate": "scenario=four_domains<br>calibration=linearprobing<br>head_model=FCN<br>ssl_model=%{x}<br>rmse=%{y}<extra></extra>",
         "legendgroup": "four_domains",
         "marker": {
          "color": "#EF553B",
          "pattern": {
           "shape": ""
          }
         },
         "name": "four_domains",
         "offsetgroup": "four_domains",
         "orientation": "v",
         "showlegend": false,
         "textposition": "auto",
         "type": "bar",
         "x": [
          "TSTCC",
          "TS2Vec",
          "Series2Vec"
         ],
         "xaxis": "x4",
         "y": {
          "bdata": "5q4l5IOuP0AwuycPCxU/QN21hHzQi0FA",
          "dtype": "f8"
         },
         "yaxis": "y4"
        },
        {
         "alignmentgroup": "True",
         "hovertemplate": "scenario=four_domains<br>calibration=finetuning<br>head_model=MLP<br>ssl_model=%{x}<br>rmse=%{y}<extra></extra>",
         "legendgroup": "four_domains",
         "marker": {
          "color": "#EF553B",
          "pattern": {
           "shape": ""
          }
         },
         "name": "four_domains",
         "offsetgroup": "four_domains",
         "orientation": "v",
         "showlegend": false,
         "textposition": "auto",
         "type": "bar",
         "x": [
          "TSTCC",
          "TS2Vec",
          "Series2Vec"
         ],
         "xaxis": "x",
         "y": {
          "bdata": "xf6ye/IANUDqBDQRNuw4QF5LyAc9ezJA",
          "dtype": "f8"
         },
         "yaxis": "y"
        },
        {
         "alignmentgroup": "True",
         "hovertemplate": "scenario=four_domains<br>calibration=finetuning<br>head_model=FCN<br>ssl_model=%{x}<br>rmse=%{y}<extra></extra>",
         "legendgroup": "four_domains",
         "marker": {
          "color": "#EF553B",
          "pattern": {
           "shape": ""
          }
         },
         "name": "four_domains",
         "offsetgroup": "four_domains",
         "orientation": "v",
         "showlegend": false,
         "textposition": "auto",
         "type": "bar",
         "x": [
          "TSTCC",
          "TS2Vec",
          "Series2Vec"
         ],
         "xaxis": "x2",
         "y": {
          "bdata": "48eYu5YIR0B2cRsN4J1JQBSuR+F65ENA",
          "dtype": "f8"
         },
         "yaxis": "y2"
        }
       ],
       "layout": {
        "annotations": [
         {
          "font": {},
          "showarrow": false,
          "text": "head_model=MLP",
          "x": 0.24,
          "xanchor": "center",
          "xref": "paper",
          "y": 1,
          "yanchor": "bottom",
          "yref": "paper"
         },
         {
          "font": {},
          "showarrow": false,
          "text": "head_model=FCN",
          "x": 0.74,
          "xanchor": "center",
          "xref": "paper",
          "y": 1,
          "yanchor": "bottom",
          "yref": "paper"
         },
         {
          "font": {},
          "showarrow": false,
          "text": "calibration=finetuning",
          "textangle": 90,
          "x": 0.98,
          "xanchor": "left",
          "xref": "paper",
          "y": 0.2425,
          "yanchor": "middle",
          "yref": "paper"
         },
         {
          "font": {},
          "showarrow": false,
          "text": "calibration=linearprobing",
          "textangle": 90,
          "x": 0.98,
          "xanchor": "left",
          "xref": "paper",
          "y": 0.7575000000000001,
          "yanchor": "middle",
          "yref": "paper"
         }
        ],
        "barmode": "group",
        "font": {
         "size": 16
        },
        "height": 640,
        "legend": {
         "orientation": "h",
         "title": {
          "text": ""
         },
         "tracegroupgap": 0,
         "x": 0.5,
         "xanchor": "center",
         "y": 1.07,
         "yanchor": "bottom"
        },
        "margin": {
         "b": 30,
         "l": 40,
         "r": 40,
         "t": 80
        },
        "showlegend": true,
        "template": {
         "data": {
          "bar": [
           {
            "error_x": {
             "color": "#2a3f5f"
            },
            "error_y": {
             "color": "#2a3f5f"
            },
            "marker": {
             "line": {
              "color": "#E5ECF6",
              "width": 0.5
             },
             "pattern": {
              "fillmode": "overlay",
              "size": 10,
              "solidity": 0.2
             }
            },
            "type": "bar"
           }
          ],
          "barpolar": [
           {
            "marker": {
             "line": {
              "color": "#E5ECF6",
              "width": 0.5
             },
             "pattern": {
              "fillmode": "overlay",
              "size": 10,
              "solidity": 0.2
             }
            },
            "type": "barpolar"
           }
          ],
          "carpet": [
           {
            "aaxis": {
             "endlinecolor": "#2a3f5f",
             "gridcolor": "white",
             "linecolor": "white",
             "minorgridcolor": "white",
             "startlinecolor": "#2a3f5f"
            },
            "baxis": {
             "endlinecolor": "#2a3f5f",
             "gridcolor": "white",
             "linecolor": "white",
             "minorgridcolor": "white",
             "startlinecolor": "#2a3f5f"
            },
            "type": "carpet"
           }
          ],
          "choropleth": [
           {
            "colorbar": {
             "outlinewidth": 0,
             "ticks": ""
            },
            "type": "choropleth"
           }
          ],
          "contour": [
           {
            "colorbar": {
             "outlinewidth": 0,
             "ticks": ""
            },
            "colorscale": [
             [
              0,
              "#0d0887"
             ],
             [
              0.1111111111111111,
              "#46039f"
             ],
             [
              0.2222222222222222,
              "#7201a8"
             ],
             [
              0.3333333333333333,
              "#9c179e"
             ],
             [
              0.4444444444444444,
              "#bd3786"
             ],
             [
              0.5555555555555556,
              "#d8576b"
             ],
             [
              0.6666666666666666,
              "#ed7953"
             ],
             [
              0.7777777777777778,
              "#fb9f3a"
             ],
             [
              0.8888888888888888,
              "#fdca26"
             ],
             [
              1,
              "#f0f921"
             ]
            ],
            "type": "contour"
           }
          ],
          "contourcarpet": [
           {
            "colorbar": {
             "outlinewidth": 0,
             "ticks": ""
            },
            "type": "contourcarpet"
           }
          ],
          "heatmap": [
           {
            "colorbar": {
             "outlinewidth": 0,
             "ticks": ""
            },
            "colorscale": [
             [
              0,
              "#0d0887"
             ],
             [
              0.1111111111111111,
              "#46039f"
             ],
             [
              0.2222222222222222,
              "#7201a8"
             ],
             [
              0.3333333333333333,
              "#9c179e"
             ],
             [
              0.4444444444444444,
              "#bd3786"
             ],
             [
              0.5555555555555556,
              "#d8576b"
             ],
             [
              0.6666666666666666,
              "#ed7953"
             ],
             [
              0.7777777777777778,
              "#fb9f3a"
             ],
             [
              0.8888888888888888,
              "#fdca26"
             ],
             [
              1,
              "#f0f921"
             ]
            ],
            "type": "heatmap"
           }
          ],
          "histogram": [
           {
            "marker": {
             "pattern": {
              "fillmode": "overlay",
              "size": 10,
              "solidity": 0.2
             }
            },
            "type": "histogram"
           }
          ],
          "histogram2d": [
           {
            "colorbar": {
             "outlinewidth": 0,
             "ticks": ""
            },
            "colorscale": [
             [
              0,
              "#0d0887"
             ],
             [
              0.1111111111111111,
              "#46039f"
             ],
             [
              0.2222222222222222,
              "#7201a8"
             ],
             [
              0.3333333333333333,
              "#9c179e"
             ],
             [
              0.4444444444444444,
              "#bd3786"
             ],
             [
              0.5555555555555556,
              "#d8576b"
             ],
             [
              0.6666666666666666,
              "#ed7953"
             ],
             [
              0.7777777777777778,
              "#fb9f3a"
             ],
             [
              0.8888888888888888,
              "#fdca26"
             ],
             [
              1,
              "#f0f921"
             ]
            ],
            "type": "histogram2d"
           }
          ],
          "histogram2dcontour": [
           {
            "colorbar": {
             "outlinewidth": 0,
             "ticks": ""
            },
            "colorscale": [
             [
              0,
              "#0d0887"
             ],
             [
              0.1111111111111111,
              "#46039f"
             ],
             [
              0.2222222222222222,
              "#7201a8"
             ],
             [
              0.3333333333333333,
              "#9c179e"
             ],
             [
              0.4444444444444444,
              "#bd3786"
             ],
             [
              0.5555555555555556,
              "#d8576b"
             ],
             [
              0.6666666666666666,
              "#ed7953"
             ],
             [
              0.7777777777777778,
              "#fb9f3a"
             ],
             [
              0.8888888888888888,
              "#fdca26"
             ],
             [
              1,
              "#f0f921"
             ]
            ],
            "type": "histogram2dcontour"
           }
          ],
          "mesh3d": [
           {
            "colorbar": {
             "outlinewidth": 0,
             "ticks": ""
            },
            "type": "mesh3d"
           }
          ],
          "parcoords": [
           {
            "line": {
             "colorbar": {
              "outlinewidth": 0,
              "ticks": ""
             }
            },
            "type": "parcoords"
           }
          ],
          "pie": [
           {
            "automargin": true,
            "type": "pie"
           }
          ],
          "scatter": [
           {
            "fillpattern": {
             "fillmode": "overlay",
             "size": 10,
             "solidity": 0.2
            },
            "type": "scatter"
           }
          ],
          "scatter3d": [
           {
            "line": {
             "colorbar": {
              "outlinewidth": 0,
              "ticks": ""
             }
            },
            "marker": {
             "colorbar": {
              "outlinewidth": 0,
              "ticks": ""
             }
            },
            "type": "scatter3d"
           }
          ],
          "scattercarpet": [
           {
            "marker": {
             "colorbar": {
              "outlinewidth": 0,
              "ticks": ""
             }
            },
            "type": "scattercarpet"
           }
          ],
          "scattergeo": [
           {
            "marker": {
             "colorbar": {
              "outlinewidth": 0,
              "ticks": ""
             }
            },
            "type": "scattergeo"
           }
          ],
          "scattergl": [
           {
            "marker": {
             "colorbar": {
              "outlinewidth": 0,
              "ticks": ""
             }
            },
            "type": "scattergl"
           }
          ],
          "scattermap": [
           {
            "marker": {
             "colorbar": {
              "outlinewidth": 0,
              "ticks": ""
             }
            },
            "type": "scattermap"
           }
          ],
          "scattermapbox": [
           {
            "marker": {
             "colorbar": {
              "outlinewidth": 0,
              "ticks": ""
             }
            },
            "type": "scattermapbox"
           }
          ],
          "scatterpolar": [
           {
            "marker": {
             "colorbar": {
              "outlinewidth": 0,
              "ticks": ""
             }
            },
            "type": "scatterpolar"
           }
          ],
          "scatterpolargl": [
           {
            "marker": {
             "colorbar": {
              "outlinewidth": 0,
              "ticks": ""
             }
            },
            "type": "scatterpolargl"
           }
          ],
          "scatterternary": [
           {
            "marker": {
             "colorbar": {
              "outlinewidth": 0,
              "ticks": ""
             }
            },
            "type": "scatterternary"
           }
          ],
          "surface": [
           {
            "colorbar": {
             "outlinewidth": 0,
             "ticks": ""
            },
            "colorscale": [
             [
              0,
              "#0d0887"
             ],
             [
              0.1111111111111111,
              "#46039f"
             ],
             [
              0.2222222222222222,
              "#7201a8"
             ],
             [
              0.3333333333333333,
              "#9c179e"
             ],
             [
              0.4444444444444444,
              "#bd3786"
             ],
             [
              0.5555555555555556,
              "#d8576b"
             ],
             [
              0.6666666666666666,
              "#ed7953"
             ],
             [
              0.7777777777777778,
              "#fb9f3a"
             ],
             [
              0.8888888888888888,
              "#fdca26"
             ],
             [
              1,
              "#f0f921"
             ]
            ],
            "type": "surface"
           }
          ],
          "table": [
           {
            "cells": {
             "fill": {
              "color": "#EBF0F8"
             },
             "line": {
              "color": "white"
             }
            },
            "header": {
             "fill": {
              "color": "#C8D4E3"
             },
             "line": {
              "color": "white"
             }
            },
            "type": "table"
           }
          ]
         },
         "layout": {
          "annotationdefaults": {
           "arrowcolor": "#2a3f5f",
           "arrowhead": 0,
           "arrowwidth": 1
          },
          "autotypenumbers": "strict",
          "coloraxis": {
           "colorbar": {
            "outlinewidth": 0,
            "ticks": ""
           }
          },
          "colorscale": {
           "diverging": [
            [
             0,
             "#8e0152"
            ],
            [
             0.1,
             "#c51b7d"
            ],
            [
             0.2,
             "#de77ae"
            ],
            [
             0.3,
             "#f1b6da"
            ],
            [
             0.4,
             "#fde0ef"
            ],
            [
             0.5,
             "#f7f7f7"
            ],
            [
             0.6,
             "#e6f5d0"
            ],
            [
             0.7,
             "#b8e186"
            ],
            [
             0.8,
             "#7fbc41"
            ],
            [
             0.9,
             "#4d9221"
            ],
            [
             1,
             "#276419"
            ]
           ],
           "sequential": [
            [
             0,
             "#0d0887"
            ],
            [
             0.1111111111111111,
             "#46039f"
            ],
            [
             0.2222222222222222,
             "#7201a8"
            ],
            [
             0.3333333333333333,
             "#9c179e"
            ],
            [
             0.4444444444444444,
             "#bd3786"
            ],
            [
             0.5555555555555556,
             "#d8576b"
            ],
            [
             0.6666666666666666,
             "#ed7953"
            ],
            [
             0.7777777777777778,
             "#fb9f3a"
            ],
            [
             0.8888888888888888,
             "#fdca26"
            ],
            [
             1,
             "#f0f921"
            ]
           ],
           "sequentialminus": [
            [
             0,
             "#0d0887"
            ],
            [
             0.1111111111111111,
             "#46039f"
            ],
            [
             0.2222222222222222,
             "#7201a8"
            ],
            [
             0.3333333333333333,
             "#9c179e"
            ],
            [
             0.4444444444444444,
             "#bd3786"
            ],
            [
             0.5555555555555556,
             "#d8576b"
            ],
            [
             0.6666666666666666,
             "#ed7953"
            ],
            [
             0.7777777777777778,
             "#fb9f3a"
            ],
            [
             0.8888888888888888,
             "#fdca26"
            ],
            [
             1,
             "#f0f921"
            ]
           ]
          },
          "colorway": [
           "#636efa",
           "#EF553B",
           "#00cc96",
           "#ab63fa",
           "#FFA15A",
           "#19d3f3",
           "#FF6692",
           "#B6E880",
           "#FF97FF",
           "#FECB52"
          ],
          "font": {
           "color": "#2a3f5f"
          },
          "geo": {
           "bgcolor": "white",
           "lakecolor": "white",
           "landcolor": "#E5ECF6",
           "showlakes": true,
           "showland": true,
           "subunitcolor": "white"
          },
          "hoverlabel": {
           "align": "left"
          },
          "hovermode": "closest",
          "legend": {
           "orientation": "h",
           "x": 1,
           "xanchor": "right",
           "y": 1.02,
           "yanchor": "bottom"
          },
          "mapbox": {
           "style": "light"
          },
          "margin": {
           "b": 50,
           "l": 50,
           "r": 50,
           "t": 50
          },
          "paper_bgcolor": "white",
          "plot_bgcolor": "#E5ECF6",
          "polar": {
           "angularaxis": {
            "gridcolor": "white",
            "linecolor": "white",
            "ticks": ""
           },
           "bgcolor": "#E5ECF6",
           "radialaxis": {
            "gridcolor": "white",
            "linecolor": "white",
            "ticks": ""
           }
          },
          "scene": {
           "xaxis": {
            "backgroundcolor": "#E5ECF6",
            "gridcolor": "white",
            "gridwidth": 2,
            "linecolor": "white",
            "showbackground": true,
            "ticks": "",
            "zerolinecolor": "white"
           },
           "yaxis": {
            "backgroundcolor": "#E5ECF6",
            "gridcolor": "white",
            "gridwidth": 2,
            "linecolor": "white",
            "showbackground": true,
            "ticks": "",
            "zerolinecolor": "white"
           },
           "zaxis": {
            "backgroundcolor": "#E5ECF6",
            "gridcolor": "white",
            "gridwidth": 2,
            "linecolor": "white",
            "showbackground": true,
            "ticks": "",
            "zerolinecolor": "white"
           }
          },
          "shapedefaults": {
           "line": {
            "color": "#2a3f5f"
           }
          },
          "ternary": {
           "aaxis": {
            "gridcolor": "white",
            "linecolor": "white",
            "ticks": ""
           },
           "baxis": {
            "gridcolor": "white",
            "linecolor": "white",
            "ticks": ""
           },
           "bgcolor": "#E5ECF6",
           "caxis": {
            "gridcolor": "white",
            "linecolor": "white",
            "ticks": ""
           }
          },
          "title": {
           "x": 0.05
          },
          "xaxis": {
           "automargin": true,
           "gridcolor": "white",
           "linecolor": "white",
           "ticks": "",
           "title": {
            "standoff": 15
           },
           "zerolinecolor": "white",
           "zerolinewidth": 2
          },
          "yaxis": {
           "automargin": true,
           "gridcolor": "white",
           "linecolor": "white",
           "ticks": "",
           "title": {
            "standoff": 15
           },
           "zerolinecolor": "white",
           "zerolinewidth": 2
          }
         }
        },
        "width": 1000,
        "xaxis": {
         "anchor": "y",
         "domain": [
          0,
          0.48
         ],
         "title": {
          "text": "ssl_model"
         }
        },
        "xaxis2": {
         "anchor": "y2",
         "domain": [
          0.5,
          0.98
         ],
         "matches": "x",
         "title": {
          "text": "ssl_model"
         }
        },
        "xaxis3": {
         "anchor": "y3",
         "domain": [
          0,
          0.48
         ],
         "matches": "x",
         "showticklabels": false
        },
        "xaxis4": {
         "anchor": "y4",
         "domain": [
          0.5,
          0.98
         ],
         "matches": "x",
         "showticklabels": false
        },
        "yaxis": {
         "anchor": "x",
         "domain": [
          0,
          0.485
         ],
         "title": {
          "text": "rmse"
         }
        },
        "yaxis2": {
         "anchor": "x2",
         "domain": [
          0,
          0.485
         ],
         "matches": "y",
         "showticklabels": false
        },
        "yaxis3": {
         "anchor": "x3",
         "domain": [
          0.515,
          1
         ],
         "matches": "y",
         "title": {
          "text": "rmse"
         }
        },
        "yaxis4": {
         "anchor": "x4",
         "domain": [
          0.515,
          1
         ],
         "matches": "y",
         "showticklabels": false
        }
       }
      }
     },
     "metadata": {},
     "output_type": "display_data"
    }
   ],
   "source": [
    "fig = px.bar(ieeeppg_result, x='ssl_model', y='rmse', color='scenario', \n",
    "             facet_row='calibration', facet_col='head_model', barmode='group')\n",
    "\n",
    "fig.update_layout(height=640, width=1000, font_size=16, \n",
    "                  legend_title_text=\"\",\n",
    "                  margin=dict(l=40, r=40, b=30, t=80),\n",
    "                  showlegend=True,\n",
    "                  legend=dict(orientation=\"h\", yanchor=\"bottom\", y=1.07, xanchor=\"center\", x=0.5)\n",
    ")"
   ]
  }
 ],
 "metadata": {
  "kernelspec": {
   "display_name": "ssl-multidomain",
   "language": "python",
   "name": "python3"
  },
  "language_info": {
   "codemirror_mode": {
    "name": "ipython",
    "version": 3
   },
   "file_extension": ".py",
   "mimetype": "text/x-python",
   "name": "python",
   "nbconvert_exporter": "python",
   "pygments_lexer": "ipython3",
   "version": "3.10.16"
  }
 },
 "nbformat": 4,
 "nbformat_minor": 2
}
