{
 "cells": [
  {
   "cell_type": "markdown",
   "metadata": {},
   "source": [
    "# WESAD "
   ]
  },
  {
   "cell_type": "code",
   "execution_count": 1,
   "metadata": {},
   "outputs": [],
   "source": [
    "import os\n",
    "import torch\n",
    "import numpy as np\n",
    "from pathlib import Path\n",
    "\n",
    "from scipy import signal\n",
    "from scipy.stats import zscore\n",
    "from sklearn.model_selection import train_test_split"
   ]
  },
  {
   "cell_type": "code",
   "execution_count": 2,
   "metadata": {},
   "outputs": [],
   "source": [
    "import plotly.io as pio\n",
    "import plotly.express as px\n",
    "import plotly.graph_objects as go\n",
    "from plotly.subplots import make_subplots\n",
    "import matplotlib.pyplot as plt\n",
    "\n",
    "\n",
    "# -------------------- DEFINE CUSTOM TEMPLATE -------------------- #\n",
    "pio.templates['draft'] = go.layout.Template(layout=dict(\n",
    "    margin=dict(l=50, r=50, b=50, t=50),\n",
    "    legend=dict(\n",
    "    orientation=\"h\",\n",
    "    yanchor=\"bottom\",\n",
    "    y=1.02,\n",
    "    xanchor=\"right\",\n",
    "    x=1\n",
    ")\n",
    "))\n",
    "pio.templates.default = \"plotly+draft\""
   ]
  },
  {
   "cell_type": "markdown",
   "metadata": {},
   "source": [
    "## Read the records"
   ]
  },
  {
   "cell_type": "code",
   "execution_count": 3,
   "metadata": {},
   "outputs": [
    {
     "name": "stdout",
     "output_type": "stream",
     "text": [
      "reading ../../datasets/WESAD/S2/S2.pkl ...\n",
      "reading ../../datasets/WESAD/S3/S3.pkl ...\n",
      "reading ../../datasets/WESAD/S4/S4.pkl ...\n",
      "reading ../../datasets/WESAD/S5/S5.pkl ...\n",
      "reading ../../datasets/WESAD/S6/S6.pkl ...\n",
      "reading ../../datasets/WESAD/S7/S7.pkl ...\n",
      "reading ../../datasets/WESAD/S8/S8.pkl ...\n",
      "reading ../../datasets/WESAD/S9/S9.pkl ...\n",
      "reading ../../datasets/WESAD/S10/S10.pkl ...\n",
      "reading ../../datasets/WESAD/S11/S11.pkl ...\n",
      "reading ../../datasets/WESAD/S13/S13.pkl ...\n",
      "reading ../../datasets/WESAD/S14/S14.pkl ...\n",
      "reading ../../datasets/WESAD/S15/S15.pkl ...\n",
      "reading ../../datasets/WESAD/S16/S16.pkl ...\n",
      "reading ../../datasets/WESAD/S17/S17.pkl ...\n",
      "number of records: 15\n"
     ]
    }
   ],
   "source": [
    "# \n",
    "data_path = Path(\"../../datasets/WESAD\")\n",
    "subject_id = [ 2,  3,  4,  5,  6,  7,  8,  9, 10, 11, 13, 14, 15, 16, 17]\n",
    "\n",
    "wesad = []\n",
    "for id in subject_id:\n",
    "    subject_data = np.load(data_path / f\"S{id}/S{id}.pkl\", allow_pickle=True, encoding='bytes')\n",
    "    print(f\"reading {data_path / f\"S{id}/S{id}.pkl\"} ...\")\n",
    "\n",
    "    decoded_dict = {}\n",
    "    for signal_key in subject_data[b'signal'][b'chest'].keys():\n",
    "        key = signal_key.decode()\n",
    "        decoded_dict[key] = subject_data[b'signal'][b'chest'][signal_key]\n",
    "\n",
    "    decoded_dict['label'] = subject_data[b'label']\n",
    "\n",
    "    wesad.append((id, decoded_dict))\n",
    "\n",
    "print(\"number of records:\", len(wesad))"
   ]
  },
  {
   "cell_type": "code",
   "execution_count": 4,
   "metadata": {},
   "outputs": [
    {
     "data": {
      "text/plain": [
       "dict_keys(['ACC', 'ECG', 'EMG', 'EDA', 'Temp', 'Resp', 'label'])"
      ]
     },
     "execution_count": 4,
     "metadata": {},
     "output_type": "execute_result"
    }
   ],
   "source": [
    "wesad[0][1].keys()"
   ]
  },
  {
   "cell_type": "markdown",
   "metadata": {},
   "source": [
    "#### Decimate the records from 700 Hz to 350 Hz"
   ]
  },
  {
   "cell_type": "code",
   "execution_count": 5,
   "metadata": {},
   "outputs": [],
   "source": [
    "decimate = True\n",
    "\n",
    "if decimate: # decimate the signals by factor of 2\n",
    "    temp_dir = Path(\"wesad-350hz\")\n",
    "    freq = 350 # frequency after decimate\n",
    "\n",
    "    for id, data in wesad:\n",
    "        for key in data.keys():\n",
    "            \n",
    "            if key == 'label':\n",
    "                data[key] = data['label'][::2]\n",
    "            else:\n",
    "                data[key] = signal.decimate(data[key], q=2, axis=0)\n",
    "\n",
    "else:\n",
    "    freq = 700  # original frequency"
   ]
  },
  {
   "cell_type": "markdown",
   "metadata": {},
   "source": [
    "#### Process the Windows"
   ]
  },
  {
   "cell_type": "markdown",
   "metadata": {},
   "source": [
    "The following IDs are provided: 0 = not defined / transient, 1 = baseline, 2 = stress, 3 = amusement, 4 = meditation, 5/6/7 = should be ignored in this dataset "
   ]
  },
  {
   "cell_type": "code",
   "execution_count": 6,
   "metadata": {},
   "outputs": [],
   "source": [
    "from numpy.lib.stride_tricks import sliding_window_view\n",
    "\n",
    "def split_sample_signal(sample: dict[str,np.ndarray], labels: list, window_size: int, stride: int=None):\n",
    "    \"\"\"\n",
    "    \n",
    "    Parameters\n",
    "    ----------\n",
    "    sample : dict[str, np.ndarray]\n",
    "        Subject record.\n",
    "    labels : int\n",
    "        Labels of interest.\n",
    "    window_size : int\n",
    "        Size of the windows in number of observations.\n",
    "    stride : int, optional\n",
    "        Number of observations to skip during the slide window. Default 20% of the 'window_size'.\n",
    "\n",
    "    Returns\n",
    "    -------\n",
    "    dict[str,]\n",
    "        Dictionary with the signal windows and labels.\n",
    "    \n",
    "    \"\"\"\n",
    "    if stride is None:\n",
    "       stride = int(window_size*0.2)\n",
    "\n",
    "    # split the labels with a sliding window\n",
    "    windows_labels = sliding_window_view(sample['label'], window_size)[::stride,:]\n",
    "\n",
    "    # ----------------\n",
    "    # Get the label based on the mode \n",
    "    # ----------------\n",
    "    def get_label(window: np.ndarray):\n",
    "        values, counts = np.unique(window, return_counts=True)\n",
    "        return values[np.argmax(counts)]\n",
    "\n",
    "    windows_label = np.apply_along_axis(get_label, axis=1, arr=windows_labels)\n",
    "    assert windows_labels.shape[0] == len(windows_label)\n",
    "\n",
    "    # filter the interest class\n",
    "    filter_mask = np.where(np.isin(windows_label, labels))[0]\n",
    "    filtered_label = windows_label[filter_mask]\n",
    "    print(\"num windows: \", len(filtered_label))\n",
    "\n",
    "    # ----------------\n",
    "    # split the signals and filter them based on the labels filter_mask\n",
    "    # ----------------\n",
    "    sample_windows = {'label': filtered_label}\n",
    "    for key in ['ACC', 'ECG', 'EMG', 'EDA', 'Temp', 'Resp']:\n",
    "\n",
    "        windows = sliding_window_view(sample[key], window_size, axis=0)[::stride,:]\n",
    "        windows = windows[filter_mask]\n",
    "\n",
    "        sample_windows[key] = windows\n",
    "\n",
    "\n",
    "    return sample_windows\n"
   ]
  },
  {
   "cell_type": "code",
   "execution_count": 9,
   "metadata": {},
   "outputs": [
    {
     "name": "stdout",
     "output_type": "stream",
     "text": [
      "[subject 2] num windows:  7222\n",
      "[subject 3] num windows:  7337\n",
      "[subject 4] num windows:  7425\n",
      "[subject 5] num windows:  7528\n",
      "[subject 6] num windows:  7473\n",
      "[subject 7] num windows:  7471\n",
      "[subject 8] num windows:  7513\n",
      "[subject 9] num windows:  7474\n",
      "[subject 10] num windows:  7683\n",
      "[subject 11] num windows:  7547\n",
      "[subject 13] num windows:  7552\n",
      "[subject 14] num windows:  7553\n",
      "[subject 15] num windows:  7567\n",
      "[subject 16] num windows:  7532\n",
      "[subject 17] num windows:  7517\n"
     ]
    }
   ],
   "source": [
    "duration = 2 # windows size in seconds\n",
    "\n",
    "wesad_data = []\n",
    "wesad_labels = []\n",
    "wesad_id = []\n",
    "for id, data in wesad:\n",
    "    # data_keys = ['ACC', 'ECG', 'EMG', 'EDA', 'Temp', 'Resp']  # all signals\n",
    "    # data_keys = ['ECG', 'EMG', 'EDA', 'Temp', 'Resp']         # accelerometer not used\n",
    "    # data_keys = ['ECG']                                       # only ECG\n",
    "    data_keys = ['EMG', 'EDA', 'Temp', 'Resp']\n",
    "    print(f\"[subject {id}] \", end=\"\")\n",
    "\n",
    "    sample_windows = split_sample_signal(data, labels=[1,2,3,4], window_size=duration*freq)\n",
    "\n",
    "    # concatenate all signal data under the same window\n",
    "    sample_data = np.concatenate([sample_windows[k] for k in data_keys], axis=1) # [window x channels x time]\n",
    "    sample_label = sample_windows['label']\n",
    "    sample_id = np.full_like(sample_label, id)\n",
    "\n",
    "    wesad_data.append(sample_data)\n",
    "    wesad_labels.append(sample_label)\n",
    "    wesad_id.append(sample_id)"
   ]
  },
  {
   "cell_type": "code",
   "execution_count": 10,
   "metadata": {},
   "outputs": [
    {
     "data": {
      "text/plain": [
       "(7222, 4, 700)"
      ]
     },
     "execution_count": 10,
     "metadata": {},
     "output_type": "execute_result"
    }
   ],
   "source": [
    "wesad_data[0].shape"
   ]
  },
  {
   "cell_type": "markdown",
   "metadata": {},
   "source": [
    "#### Split between train an validation"
   ]
  },
  {
   "cell_type": "markdown",
   "metadata": {},
   "source": [
    "[**Recomended** in case of four domain] Select only a subset with 20% of windows stratified by class"
   ]
  },
  {
   "cell_type": "code",
   "execution_count": 11,
   "metadata": {},
   "outputs": [],
   "source": [
    "choice_subset = True\n",
    "\n",
    "processed_data = []\n",
    "processed_labels = []\n",
    "processed_id = []\n",
    "if choice_subset:\n",
    "\n",
    "    np.random.seed(123) # set seed for reprodutibility\n",
    "    list_indices = []\n",
    "    \n",
    "    for _data, _label, _id in zip(wesad_data, wesad_labels, wesad_id):\n",
    "\n",
    "        # choice a subset of samples stratified by the labels\n",
    "        indices, _ = train_test_split(np.arange(len(_data)), train_size=0.2, stratify=_label)\n",
    "        indices.sort()\n",
    "        \n",
    "        # select the subset\n",
    "        processed_data.append(_data[indices])\n",
    "        processed_labels.append(_label[indices])\n",
    "        processed_id.append(_id[indices])\n",
    "\n",
    "        # record the selected indices\n",
    "        list_indices.append(indices)\n",
    "\n",
    "else:\n",
    "    processed_data = wesad_data\n",
    "    processed_labels = wesad_labels\n",
    "    processed_id = wesad_id"
   ]
  },
  {
   "cell_type": "markdown",
   "metadata": {},
   "source": [
    "Split between train an validation"
   ]
  },
  {
   "cell_type": "code",
   "execution_count": 12,
   "metadata": {},
   "outputs": [
    {
     "name": "stdout",
     "output_type": "stream",
     "text": [
      "(20969, 4, 700) (1503, 4, 700)\n"
     ]
    }
   ],
   "source": [
    "# Train and validation set \n",
    "train_wesad_data = np.concatenate(processed_data[:-1], axis=0)\n",
    "train_wesad_labels = np.concatenate(processed_labels[:-1], axis=0)\n",
    "train_wesad_id = np.concatenate(processed_id[:-1], axis=0)\n",
    "\n",
    "# Test set\n",
    "test_wesad_data = processed_data[-1]\n",
    "test_wesad_labels = processed_labels[-1]\n",
    "test_wesad_id = processed_id[-1]\n",
    "\n",
    "# z-normalize the signals [mean=0 and std=1]\n",
    "train_wesad_data = zscore(train_wesad_data, axis=2)\n",
    "test_wesad_data = zscore(test_wesad_data, axis=2)\n",
    "\n",
    "print(train_wesad_data.shape, test_wesad_data.shape)"
   ]
  },
  {
   "cell_type": "markdown",
   "metadata": {},
   "source": [
    "#### Resample from 350 Hz to 360 Hz"
   ]
  },
  {
   "cell_type": "code",
   "execution_count": 13,
   "metadata": {},
   "outputs": [
    {
     "name": "stdout",
     "output_type": "stream",
     "text": [
      "train: (20969, 4, 720) | test: (1503, 4, 720)\n"
     ]
    }
   ],
   "source": [
    "# ----------------\n",
    "# Resample the records from 350 Hz to 360 Hz\n",
    "# ----------------\n",
    "to_360hz = True\n",
    "\n",
    "if to_360hz:\n",
    "    temp_dir = Path(f\"wesad-360hz-{duration}second\")\n",
    "\n",
    "    resampled_size = int(duration * 360) # new size\n",
    "\n",
    "    test_wesad_data = np.apply_along_axis(signal.resample, axis=2, arr=test_wesad_data, num=resampled_size)\n",
    "    train_wesad_data = np.apply_along_axis(signal.resample, axis=2, arr=train_wesad_data, num=resampled_size)\n",
    "\n",
    "    freq = 360 # frequency after resampling\n",
    "\n",
    "    print(f\"train: {train_wesad_data.shape} | test: {test_wesad_data.shape}\")"
   ]
  },
  {
   "cell_type": "code",
   "execution_count": 14,
   "metadata": {},
   "outputs": [
    {
     "data": {
      "text/plain": [
       "((83876, 1, 720), (6012, 1, 720))"
      ]
     },
     "execution_count": 14,
     "metadata": {},
     "output_type": "execute_result"
    }
   ],
   "source": [
    "univariate = True\n",
    "\n",
    "if univariate and train_wesad_data.shape[1] > 1:\n",
    "    # ----------------\n",
    "    # give label and id for each channel\n",
    "    # ----------------\n",
    "    train_wesad_labels = np.repeat(train_wesad_labels.reshape((-1,1)), \n",
    "                                repeats=train_wesad_data.shape[1], axis=1) # [Batch X channel]\n",
    "    train_wesad_id = np.repeat(train_wesad_id.reshape((-1,1)), \n",
    "                            repeats=train_wesad_data.shape[1], axis=1) # [Batch X channel]\n",
    "\n",
    "    test_wesad_labels = np.repeat(test_wesad_labels.reshape((-1,1)), \n",
    "                                repeats=train_wesad_data.shape[1], axis=1) # [Batch X channel]\n",
    "    test_wesad_id = np.repeat(test_wesad_id.reshape((-1,1)),\n",
    "                            repeats=train_wesad_data.shape[1], axis=1) # [Batch X channel]\n",
    "\n",
    "    # ----------------\n",
    "    # isolate each channel\n",
    "    # ----------------\n",
    "    test_wesad_data = np.reshape(test_wesad_data, (-1, 1, test_wesad_data.shape[2]))\n",
    "    test_wesad_labels = np.reshape(test_wesad_labels, (-1,))\n",
    "    test_wesad_id = np.reshape(test_wesad_id, (-1,))\n",
    "\n",
    "    train_wesad_data = np.reshape(train_wesad_data, (-1, 1, train_wesad_data.shape[2]))\n",
    "    train_wesad_labels = np.reshape(train_wesad_labels, (-1,))\n",
    "    train_wesad_id = np.reshape(train_wesad_id, (-1,))\n",
    "\n",
    "train_wesad_data.shape, test_wesad_data.shape"
   ]
  },
  {
   "cell_type": "code",
   "execution_count": 15,
   "metadata": {},
   "outputs": [
    {
     "data": {
      "application/vnd.plotly.v1+json": {
       "config": {
        "plotlyServerURL": "https://plot.ly"
       },
       "data": [
        {
         "hovertemplate": "x=%{x}<br>y=%{y}<extra></extra>",
         "legendgroup": "",
         "line": {
          "color": "#636efa",
          "dash": "solid"
         },
         "marker": {
          "symbol": "circle"
         },
         "mode": "lines",
         "name": "",
         "orientation": "v",
         "showlegend": false,
         "type": "scatter",
         "x": [
          0,
          1,
          2,
          3,
          4,
          5,
          6,
          7,
          8,
          9,
          10,
          11,
          12,
          13,
          14,
          15,
          16,
          17,
          18,
          19,
          20,
          21,
          22,
          23,
          24,
          25,
          26,
          27,
          28,
          29,
          30,
          31,
          32,
          33,
          34,
          35,
          36,
          37,
          38,
          39,
          40,
          41,
          42,
          43,
          44,
          45,
          46,
          47,
          48,
          49,
          50,
          51,
          52,
          53,
          54,
          55,
          56,
          57,
          58,
          59,
          60,
          61,
          62,
          63,
          64,
          65,
          66,
          67,
          68,
          69,
          70,
          71,
          72,
          73,
          74,
          75,
          76,
          77,
          78,
          79,
          80,
          81,
          82,
          83,
          84,
          85,
          86,
          87,
          88,
          89,
          90,
          91,
          92,
          93,
          94,
          95,
          96,
          97,
          98,
          99,
          100,
          101,
          102,
          103,
          104,
          105,
          106,
          107,
          108,
          109,
          110,
          111,
          112,
          113,
          114,
          115,
          116,
          117,
          118,
          119,
          120,
          121,
          122,
          123,
          124,
          125,
          126,
          127,
          128,
          129,
          130,
          131,
          132,
          133,
          134,
          135,
          136,
          137,
          138,
          139,
          140,
          141,
          142,
          143,
          144,
          145,
          146,
          147,
          148,
          149,
          150,
          151,
          152,
          153,
          154,
          155,
          156,
          157,
          158,
          159,
          160,
          161,
          162,
          163,
          164,
          165,
          166,
          167,
          168,
          169,
          170,
          171,
          172,
          173,
          174,
          175,
          176,
          177,
          178,
          179,
          180,
          181,
          182,
          183,
          184,
          185,
          186,
          187,
          188,
          189,
          190,
          191,
          192,
          193,
          194,
          195,
          196,
          197,
          198,
          199,
          200,
          201,
          202,
          203,
          204,
          205,
          206,
          207,
          208,
          209,
          210,
          211,
          212,
          213,
          214,
          215,
          216,
          217,
          218,
          219,
          220,
          221,
          222,
          223,
          224,
          225,
          226,
          227,
          228,
          229,
          230,
          231,
          232,
          233,
          234,
          235,
          236,
          237,
          238,
          239,
          240,
          241,
          242,
          243,
          244,
          245,
          246,
          247,
          248,
          249,
          250,
          251,
          252,
          253,
          254,
          255,
          256,
          257,
          258,
          259,
          260,
          261,
          262,
          263,
          264,
          265,
          266,
          267,
          268,
          269,
          270,
          271,
          272,
          273,
          274,
          275,
          276,
          277,
          278,
          279,
          280,
          281,
          282,
          283,
          284,
          285,
          286,
          287,
          288,
          289,
          290,
          291,
          292,
          293,
          294,
          295,
          296,
          297,
          298,
          299,
          300,
          301,
          302,
          303,
          304,
          305,
          306,
          307,
          308,
          309,
          310,
          311,
          312,
          313,
          314,
          315,
          316,
          317,
          318,
          319,
          320,
          321,
          322,
          323,
          324,
          325,
          326,
          327,
          328,
          329,
          330,
          331,
          332,
          333,
          334,
          335,
          336,
          337,
          338,
          339,
          340,
          341,
          342,
          343,
          344,
          345,
          346,
          347,
          348,
          349,
          350,
          351,
          352,
          353,
          354,
          355,
          356,
          357,
          358,
          359,
          360,
          361,
          362,
          363,
          364,
          365,
          366,
          367,
          368,
          369,
          370,
          371,
          372,
          373,
          374,
          375,
          376,
          377,
          378,
          379,
          380,
          381,
          382,
          383,
          384,
          385,
          386,
          387,
          388,
          389,
          390,
          391,
          392,
          393,
          394,
          395,
          396,
          397,
          398,
          399,
          400,
          401,
          402,
          403,
          404,
          405,
          406,
          407,
          408,
          409,
          410,
          411,
          412,
          413,
          414,
          415,
          416,
          417,
          418,
          419,
          420,
          421,
          422,
          423,
          424,
          425,
          426,
          427,
          428,
          429,
          430,
          431,
          432,
          433,
          434,
          435,
          436,
          437,
          438,
          439,
          440,
          441,
          442,
          443,
          444,
          445,
          446,
          447,
          448,
          449,
          450,
          451,
          452,
          453,
          454,
          455,
          456,
          457,
          458,
          459,
          460,
          461,
          462,
          463,
          464,
          465,
          466,
          467,
          468,
          469,
          470,
          471,
          472,
          473,
          474,
          475,
          476,
          477,
          478,
          479,
          480,
          481,
          482,
          483,
          484,
          485,
          486,
          487,
          488,
          489,
          490,
          491,
          492,
          493,
          494,
          495,
          496,
          497,
          498,
          499,
          500,
          501,
          502,
          503,
          504,
          505,
          506,
          507,
          508,
          509,
          510,
          511,
          512,
          513,
          514,
          515,
          516,
          517,
          518,
          519,
          520,
          521,
          522,
          523,
          524,
          525,
          526,
          527,
          528,
          529,
          530,
          531,
          532,
          533,
          534,
          535,
          536,
          537,
          538,
          539,
          540,
          541,
          542,
          543,
          544,
          545,
          546,
          547,
          548,
          549,
          550,
          551,
          552,
          553,
          554,
          555,
          556,
          557,
          558,
          559,
          560,
          561,
          562,
          563,
          564,
          565,
          566,
          567,
          568,
          569,
          570,
          571,
          572,
          573,
          574,
          575,
          576,
          577,
          578,
          579,
          580,
          581,
          582,
          583,
          584,
          585,
          586,
          587,
          588,
          589,
          590,
          591,
          592,
          593,
          594,
          595,
          596,
          597,
          598,
          599,
          600,
          601,
          602,
          603,
          604,
          605,
          606,
          607,
          608,
          609,
          610,
          611,
          612,
          613,
          614,
          615,
          616,
          617,
          618,
          619,
          620,
          621,
          622,
          623,
          624,
          625,
          626,
          627,
          628,
          629,
          630,
          631,
          632,
          633,
          634,
          635,
          636,
          637,
          638,
          639,
          640,
          641,
          642,
          643,
          644,
          645,
          646,
          647,
          648,
          649,
          650,
          651,
          652,
          653,
          654,
          655,
          656,
          657,
          658,
          659,
          660,
          661,
          662,
          663,
          664,
          665,
          666,
          667,
          668,
          669,
          670,
          671,
          672,
          673,
          674,
          675,
          676,
          677,
          678,
          679,
          680,
          681,
          682,
          683,
          684,
          685,
          686,
          687,
          688,
          689,
          690,
          691,
          692,
          693,
          694,
          695,
          696,
          697,
          698,
          699,
          700,
          701,
          702,
          703,
          704,
          705,
          706,
          707,
          708,
          709,
          710,
          711,
          712,
          713,
          714,
          715,
          716,
          717,
          718,
          719
         ],
         "xaxis": "x",
         "y": [
          0.4719404665420688,
          1.4766188834162117,
          -0.09558236490797115,
          0.4908171209446412,
          0.2521337459555741,
          -1.6484662146700013,
          -0.3764734027923228,
          0.24897956436369295,
          -0.05563830068001955,
          0.31400137233586045,
          0.7387811953429181,
          1.6438562045099807,
          -1.3889277621497993,
          -2.614229321050948,
          3.026974643400701,
          3.211097444089374,
          -2.3140729863728358,
          -2.5066864448560784,
          -0.3124461854946646,
          0.898415177513704,
          1.2408861971235232,
          -0.002058278972353784,
          -1.0481647386358155,
          -1.1847069650649145,
          0.3182424086213045,
          0.9690814901156346,
          -0.6207378887975673,
          -0.8661218645885225,
          0.009845791496841106,
          1.557746359284832,
          0.6440417052854231,
          -1.2216789496054974,
          0.20936760959506945,
          -0.6958138759296959,
          -1.656951275972504,
          0.7268358784996142,
          1.7759618534860984,
          0.6736208704367593,
          -1.8044247137598861,
          -1.547807434413302,
          -0.33451658955968433,
          -0.9429792113209533,
          1.892397622048533,
          2.286580456386506,
          -1.3644381822204923,
          -0.5013206383565539,
          -0.30347264388658984,
          -1.4472458384456026,
          1.2608300716562255,
          1.3752669131778439,
          -0.4476638449294983,
          0.3839755099218954,
          0.7129502615590055,
          -0.15075601859619756,
          -0.7479966483284864,
          -0.7801722492906843,
          -0.020323946480904166,
          0.7356755901722534,
          -0.8699192849005599,
          -0.5773826538909866,
          3.4788317260058608,
          0.892106277406991,
          -3.1025065437504904,
          0.23784294160484393,
          1.7408135203656767,
          -0.41605587469660205,
          -0.9949049033843217,
          0.4231518145664343,
          0.3106061642383031,
          -1.054868726737696,
          0.9931076676647672,
          1.2004619394030842,
          -1.5995863414051177,
          -1.0409384516392166,
          0.5562303197246532,
          0.9524612293868452,
          0.745907886957196,
          0.13960390672761547,
          0.5382055357173684,
          0.4637312499689384,
          -1.049584504867254,
          -0.7006316072230465,
          1.1052211186833634,
          0.6006478274013346,
          -0.3957955512262071,
          -0.5498266574593679,
          -0.36835166402153524,
          1.2094735024592855,
          0.3683795387472946,
          -1.8405427563326904,
          0.11628875663479411,
          2.3210980508423185,
          0.6466375962340267,
          -1.6328750519116302,
          -0.8039803742470452,
          1.044991196530459,
          0.4070271235321028,
          -0.27147760338555227,
          0.19433618463067717,
          -0.35420482884759447,
          -1.1872329639318449,
          -0.7338310706989257,
          0.13478775168893328,
          -0.029752416791507086,
          0.3191054516584264,
          1.0652348952164752,
          0.12952433820648634,
          -0.38761056393859744,
          -0.30819895841969924,
          -0.6573741343037102,
          -0.27656923205991785,
          0.8323433026491025,
          1.8100703519459127,
          0.12993266368930026,
          -1.5163318800743506,
          0.14908834874625773,
          0.5586527028023521,
          -0.5611421044975033,
          -0.7901153662237057,
          -0.12352328527378732,
          0.9995391315891261,
          0.10846161806045881,
          -0.9170582735170318,
          -0.18080697147758434,
          0.1368723699822926,
          -0.011362772631898131,
          0.29569363560728545,
          1.0049426130883543,
          0.33719745313104504,
          -0.7304048444044114,
          -0.38016523656768914,
          -0.43667592928972293,
          0.28151055928787805,
          0.8058341161958187,
          -0.3318396126261338,
          -0.34732581691381503,
          -0.20494775134571072,
          -0.07157809273891182,
          0.5717363330991947,
          0.5230256618894585,
          0.17231256019617375,
          -0.8623671630430423,
          -0.7395494605729082,
          0.5586998176157263,
          0.15700806211317864,
          -0.2813715034396091,
          -0.3886538705038193,
          -0.7447442221246618,
          0.31900355137087016,
          0.8941882757007983,
          -0.023200912497236336,
          -0.4553026253576563,
          0.10848220509033085,
          1.0459734173354591,
          0.08670832727998697,
          -1.5096755359939382,
          -1.4939562952536496,
          -1.155953901187037,
          1.1393516376248167,
          2.965663512685655,
          0.7219527193024422,
          -1.125165801148292,
          -0.5514141910888237,
          -0.3462743998825002,
          -1.1846492437569063,
          0.26100543537496634,
          1.693306615994939,
          -0.3642010347132553,
          -0.5577557299902296,
          0.6532723015801466,
          -0.16292546124349938,
          -0.9829323476487827,
          0.21053698478060132,
          1.9308264368719852,
          0.4271792816173338,
          -1.1027452620191793,
          -1.0999953812933256,
          -0.2828216866937984,
          1.9447188616593185,
          0.9227203001138494,
          -0.7002395615191522,
          -0.805966456234629,
          -1.1114378356780443,
          0.757297235613287,
          -0.05727580447536758,
          -2.1971255985723155,
          -0.7228004483092717,
          -0.17838833304895657,
          -0.0465426119245207,
          0.06604560845516061,
          -1.0304070208321126,
          -0.4953711745101953,
          0.7094039152404272,
          0.7833636868034,
          0.08582777563878577,
          -0.2009447754223801,
          0.7149694203961209,
          1.3572184999218722,
          0.9500909132604417,
          0.18614464331877312,
          -0.18192478617230026,
          -0.18306394529526715,
          -0.7155977502664986,
          -1.0253410812920545,
          -0.7181501610445362,
          -0.3618987994378703,
          1.024079674067112,
          1.571951619189015,
          0.3882456094656002,
          -0.7652255878438271,
          -1.46662012243827,
          0.16617000943316837,
          1.0906530368228329,
          -0.48157157974319176,
          -0.19447894598990217,
          0.40035107428197964,
          0.2818564521728503,
          0.04313803247516554,
          -0.6697258526911329,
          0.2527619499271545,
          0.8404739121075262,
          -0.340570152780268,
          -0.8000112563223626,
          -0.6297550693572802,
          -1.6494032589548928,
          -1.0036942889560008,
          3.967957882477917,
          4.340079250276501,
          -1.4009888403033808,
          -2.456827103338492,
          -0.4599237897512688,
          -0.19639503714571113,
          -0.09040022791277326,
          0.3758920635722127,
          0.0829712882762329,
          -1.3588279492771205,
          -0.6585411067379113,
          0.7159107742503993,
          0.606806580128503,
          0.5611268112121446,
          -0.5362108532163701,
          0.02631082416624102,
          1.4048238845432126,
          0.6693401425004436,
          0.3543599217923091,
          -1.0189354101412498,
          -1.9276889049130805,
          -0.7620824165612289,
          -0.192487155405549,
          0.8804206248283568,
          0.7036036297411288,
          -0.037250304902062346,
          1.0082641601630316,
          -0.3751221194709996,
          -1.7069068255079907,
          0.3106095171033735,
          0.8103451608079756,
          -0.2146072162398269,
          0.859338513243467,
          2.5939961074424547,
          0.8226848382467711,
          -2.175739047319275,
          -1.7763296330989689,
          -0.6499609074533954,
          0.3346453982903678,
          0.7469326635576761,
          -0.6223475536749884,
          0.09149708165149621,
          1.0521741943986895,
          0.06489330001013846,
          -0.1210481614771975,
          -0.4361665982843813,
          -0.42645798035836086,
          0.07247637981733208,
          -0.877444085018511,
          -0.97406027592637,
          0.8660694286053856,
          1.1879669834369198,
          -0.4585122969250115,
          -0.32251319400590495,
          0.910223184140922,
          0.3972738923137161,
          0.029951030651748065,
          -0.28728465672783393,
          -1.4335430111750465,
          -0.7510564300929704,
          0.8849458219879206,
          0.5775049963969564,
          -0.3478992936639905,
          -0.2333305081402248,
          0.10843212717320909,
          1.0058542419978254,
          1.1732611129153832,
          -0.6344810571273567,
          -1.5638340483617013,
          -0.6955292941053186,
          0.994439079354464,
          0.3961796663019604,
          -1.6433998207032008,
          -0.23177717715069684,
          0.8145625364574759,
          0.711819492999265,
          0.6891979923701579,
          -0.8092363758261856,
          -0.058222676463644936,
          0.0525114697297678,
          -1.1206152805322187,
          0.05323837662053262,
          0.07890814411778174,
          0.03401883807260349,
          0.3324866824533092,
          0.16018567068028608,
          0.526465534809037,
          -0.6099912745334892,
          -0.5718480895948954,
          0.6793304553807015,
          0.8856892571822459,
          0.49969749940934305,
          -1.230130104954192,
          -1.0474855447633593,
          -0.03909640062013649,
          -0.1327704721991625,
          0.7972410656909565,
          0.38035845628520376,
          0.5385388688140753,
          1.0879088994232833,
          -0.7893983906313494,
          -0.7659907612491832,
          -0.47280020675995066,
          -0.9224164511632051,
          0.595198752475686,
          0.8729065270275335,
          0.4703062743664478,
          0.3866846746771748,
          -0.265590413643103,
          0.10785764845972932,
          0.34587522556478695,
          -0.5944439402174975,
          -1.162437424218704,
          0.27293490126563247,
          1.3656145066159675,
          0.04883582307732946,
          -1.032942923369381,
          -1.4158234896862125,
          -0.26715630895421466,
          1.2407653227950064,
          0.2633136239569554,
          -0.7443034623946232,
          -1.3562977249170536,
          -0.5666565398006933,
          1.5374035021846755,
          0.9365871851902935,
          -0.5556651011210741,
          -1.0723598875055067,
          -0.25907953697677194,
          1.0692701452256264,
          -0.29372520770690236,
          -0.8478511633475321,
          0.4684916447959591,
          -0.21216023576392887,
          -0.26744115032423793,
          0.9051788368483032,
          0.24072376603338577,
          -1.9371593203270245,
          -2.4154099588460913,
          1.527626571079932,
          3.6873719875442577,
          1.966498227580202,
          1.3402887153106116,
          -2.169230964699398,
          -3.8302371410370424,
          0.3313212126779402,
          0.6421313464925432,
          0.12444753630719965,
          1.057485992635378,
          -0.14186446069479866,
          -0.03193659449132152,
          -0.22326151569938846,
          -0.480952637930367,
          0.747697535957462,
          0.3647489191484634,
          0.06546656056900116,
          -0.0841410146861038,
          -1.8921972636803768,
          -2.175466956745827,
          0.6165851838508314,
          2.8494446069998918,
          1.346800146920026,
          -0.899094165518133,
          -0.6933302154486037,
          -0.6145678557845434,
          -1.0817404464096763,
          -0.11567763107814413,
          0.4267647614855669,
          0.1003180274761833,
          0.15201451816198927,
          -0.5354116805592017,
          -1.0168933594164618,
          -0.010880388659917424,
          0.14398651426617715,
          -0.1983767276715666,
          1.338328433644972,
          1.6111490697387734,
          -0.5544540106997056,
          -1.1169538974790019,
          -0.1299944253041309,
          0.647202941612438,
          0.2499720076241504,
          -0.4142303650042421,
          0.4155069531644162,
          -0.5027006919297492,
          -1.4698865892193982,
          0.5461125529999717,
          0.6197265352376851,
          -0.14345483858354238,
          0.3325039578280378,
          -0.40604305778071925,
          -0.2895586130367073,
          0.2226497654418415,
          0.0149806366293851,
          0.24378163477268092,
          0.06860458238493845,
          0.4663206728080685,
          0.5039899296306141,
          -0.4231061485125914,
          -0.40860891459441295,
          0.04969219488819464,
          1.1906420528753967,
          1.2211833428014154,
          -0.5162961859111099,
          -0.26278418969834944,
          0.472886662335998,
          -0.2351554252317946,
          -0.019890088257072246,
          -0.11736577868775194,
          -1.4821019484700744,
          -1.7076154770026193,
          -1.270414996487074,
          -1.1175311627955447,
          -0.5091503486184075,
          -0.16920565718063316,
          0.12860324264772524,
          1.064189570730179,
          1.2403447626850792,
          1.0602487754463796,
          0.8367663783289429,
          -0.13645183469860642,
          -0.25028611290339714,
          -0.2993139664353167,
          -0.9424397474272244,
          -0.6139531298746702,
          -0.6050225618347094,
          -0.010745756285955678,
          1.5289530280482955,
          0.6911351917643583,
          -0.3126723905712545,
          0.3648145441223799,
          -0.10431765831803622,
          -0.46495934480531026,
          -0.40959700372016794,
          -1.2103815831474243,
          -0.0862426736073619,
          1.3217379524346873,
          0.18117394950880256,
          -0.3679120797220509,
          0.15376804034036048,
          -0.035488654679410765,
          -0.32630826498015564,
          0.05039858901419117,
          0.7773850855625851,
          0.4383973896961094,
          -0.41303330430107205,
          -0.5601331047525072,
          0.11525932381844671,
          0.9845634945157926,
          0.1851084209520203,
          -0.42456764496615323,
          0.11606103577545386,
          -0.40580421350216517,
          -0.9200021590945084,
          -0.7129702999257768,
          0.3205978993007914,
          1.1151043234538944,
          0.8532737318792246,
          0.7386892223098775,
          -0.8788433839465272,
          -1.6343333868074734,
          -0.23105520295822576,
          -0.46873951113513995,
          -0.5579129453297119,
          -0.8848442851527124,
          -1.1994137253656678,
          0.8314532067160528,
          2.6137827002583722,
          4.185145400689082,
          1.4927432831589411,
          -4.327811443145473,
          -3.107885967187443,
          0.4098101669426283,
          0.3305640428773962,
          0.012553681928669127,
          -0.10758899497117136,
          -0.2829105474620901,
          -0.5555956912835425,
          -0.888547637812016,
          -1.0876845588684163,
          0.3956746791231397,
          2.2582315165459734,
          0.8983931243507072,
          -0.37019851892096023,
          -0.9945683165684094,
          -1.3822201272874046,
          0.21255302161867484,
          0.11886577183243875,
          0.48509043660660217,
          1.4901119725177385,
          -0.8018150662446877,
          -0.8238525915980787,
          1.2251904917160013,
          0.46759387990562457,
          -0.2993971815265507,
          -0.5550651964967984,
          -0.843599497487235,
          0.7210046824997466,
          0.769346140819828,
          -0.7710348729362557,
          0.40699820920282714,
          0.6692267291977597,
          -0.19458579620750063,
          -0.5156192902664739,
          -2.1668317985016534,
          -0.7859094382642011,
          1.0581557708373137,
          0.0931008994046309,
          0.8009314547171055,
          0.48555474892096784,
          0.027197578593633316,
          0.7251446506006564,
          -0.934799119432351,
          -0.38321713792905243,
          1.4293906144185826,
          -0.024804670818116714,
          -0.7769273738238696,
          0.4049676767121617,
          0.6493707556328266,
          -0.3107466615858035,
          -0.6231727068881507,
          -1.0156413701867488,
          -1.3789175585027942,
          -0.1922915378722413,
          0.9779591220525312,
          2.0078586359032866,
          1.8516004630098195,
          0.2961146089942994,
          -0.7987806199298055,
          -1.613972820874023,
          -1.1395173988039846,
          -0.7962919700670655,
          -0.9476715700122813,
          0.5890387795716882,
          1.0546292156684027,
          0.4389256766892694,
          1.2514416614785784,
          0.7321709177563447,
          -0.855612715237865,
          0.15568066041586687,
          0.4911817027460997,
          -1.2260923528942638,
          -0.2887415146339642,
          1.2401497391500012,
          0.37539971476398526,
          -0.0044340146953781604,
          0.582752877347829,
          0.11462436916710783,
          -1.4100563769436556,
          -1.2528533252983867,
          0.30056429957277186,
          0.4081148783354532,
          0.4213933156443263,
          0.35985638139454756,
          -0.3731729160446574,
          0.10464120498257314,
          0.477740681337583,
          -0.02548178981016556,
          0.07139481207419489,
          0.1355362909018673,
          -0.6279505348273875,
          -0.4173548807111485,
          0.6278594144871249,
          -0.0032200128185664715,
          0.19931479095185028,
          1.3727231122977794,
          0.18690094117362185,
          -0.5709965360430951,
          -0.13130177104605742,
          -0.03806249657836066,
          0.1111698869545244,
          -0.7771348577235052,
          -0.9835329308047539,
          0.10754142275767098,
          0.25356255508007775,
          0.17532652278209498,
          0.3443884283574087,
          0.5146944607251842,
          0.2950204993604495,
          -0.49553234283014846,
          -0.2737447473977851,
          -0.10833004474401084,
          -0.26566782807036926,
          0.8186076457898798,
          1.0312775094469164,
          0.6479401144523139,
          0.5627030881199252,
          -0.5888676384727956,
          -1.0469552627943102,
          -0.45296910362891674,
          -0.07421893890275914,
          -0.695460258864161,
          -1.3636195604630925,
          0.2818630407313319,
          2.3821732135738594,
          3.0993253931493565,
          1.6742866556205689,
          -1.213005826975473,
          -1.7925575536559688,
          -0.332917428600141,
          -0.3551850418182981,
          -1.1137671374789253,
          0.29345760450473274,
          0.38515056974216594,
          -0.5935740862013642,
          2.2181921584978346,
          3.020962466850173,
          0.2987186712056374,
          -1.7818871395564193,
          -2.7544860200798595,
          -0.8395513214179369,
          0.010241108889042526,
          -0.7753411211849555,
          0.5610045420460635,
          1.236929677496725,
          1.245322597957544,
          0.6983689810805621,
          -0.16002829059209275,
          -0.037602439393162074,
          -0.6185014116704795,
          -0.4769932488965742,
          0.08700764877597814,
          0.10796212580248994,
          0.30926176452712767,
          -0.7219485210724372,
          -0.7313391064437741,
          0.6812735619506985,
          0.8223271912192704,
          0.7305282834190605,
          0.2972082182944183,
          -0.16157383452182733,
          -0.0585432935240684,
          -0.6480670016249723,
          -0.16602898107648406,
          0.03163540845251995,
          -1.0684773677055603,
          0.48180173128493625,
          1.2899175661392626,
          -0.44605823935764294,
          -0.8594084830931462,
          -0.5623378543703793,
          -0.01899601921559695,
          0.37121371067050873,
          0.5162898313937241,
          0.4462235309166542,
          -0.4394592306067235,
          0.19879308487297123,
          0.7240600076896576,
          -0.23922202279929203,
          -0.3417709665538122,
          -0.10053480301635707,
          0.652352288717841,
          1.5173476974551876,
          0.872299829440446,
          -0.11384590792859439,
          -0.0329045220765583,
          0.4190030197491081,
          -0.3200751709136733,
          -0.2829295371441222,
          0.9693625176392101,
          0.30317517052228593,
          -1.113604516131331,
          -1.1632415380439647,
          -0.09088172252970875,
          0.06502570520782164,
          -1.3118700766075615,
          -1.732278066838628,
          -1.3652004790735044,
          -0.12633196325957735,
          1.5805520155529487,
          1.294224775467019,
          0.6367793124586525,
          0.48156453472678046,
          0.5690593538120065,
          0.9419638498610802,
          0.1561152216217802,
          -0.6341432970811094,
          -0.1938442817191255,
          -0.3092054025310002,
          -0.8213101500397614,
          -0.497099447771516,
          -0.17313802904627573,
          -0.31961492699049476,
          0.37301409723652407,
          0.42386255585797183,
          0.029703719005589144,
          0.7529306164251764,
          0.3646205586641528,
          0.07052970037591497,
          0.9172990373426553,
          0.3776123061459173,
          0.3831980402545725,
          -0.18313573314140089,
          -1.6071845558023714
         ],
         "yaxis": "y"
        }
       ],
       "layout": {
        "legend": {
         "tracegroupgap": 0
        },
        "template": {
         "data": {
          "bar": [
           {
            "error_x": {
             "color": "#2a3f5f"
            },
            "error_y": {
             "color": "#2a3f5f"
            },
            "marker": {
             "line": {
              "color": "#E5ECF6",
              "width": 0.5
             },
             "pattern": {
              "fillmode": "overlay",
              "size": 10,
              "solidity": 0.2
             }
            },
            "type": "bar"
           }
          ],
          "barpolar": [
           {
            "marker": {
             "line": {
              "color": "#E5ECF6",
              "width": 0.5
             },
             "pattern": {
              "fillmode": "overlay",
              "size": 10,
              "solidity": 0.2
             }
            },
            "type": "barpolar"
           }
          ],
          "carpet": [
           {
            "aaxis": {
             "endlinecolor": "#2a3f5f",
             "gridcolor": "white",
             "linecolor": "white",
             "minorgridcolor": "white",
             "startlinecolor": "#2a3f5f"
            },
            "baxis": {
             "endlinecolor": "#2a3f5f",
             "gridcolor": "white",
             "linecolor": "white",
             "minorgridcolor": "white",
             "startlinecolor": "#2a3f5f"
            },
            "type": "carpet"
           }
          ],
          "choropleth": [
           {
            "colorbar": {
             "outlinewidth": 0,
             "ticks": ""
            },
            "type": "choropleth"
           }
          ],
          "contour": [
           {
            "colorbar": {
             "outlinewidth": 0,
             "ticks": ""
            },
            "colorscale": [
             [
              0,
              "#0d0887"
             ],
             [
              0.1111111111111111,
              "#46039f"
             ],
             [
              0.2222222222222222,
              "#7201a8"
             ],
             [
              0.3333333333333333,
              "#9c179e"
             ],
             [
              0.4444444444444444,
              "#bd3786"
             ],
             [
              0.5555555555555556,
              "#d8576b"
             ],
             [
              0.6666666666666666,
              "#ed7953"
             ],
             [
              0.7777777777777778,
              "#fb9f3a"
             ],
             [
              0.8888888888888888,
              "#fdca26"
             ],
             [
              1,
              "#f0f921"
             ]
            ],
            "type": "contour"
           }
          ],
          "contourcarpet": [
           {
            "colorbar": {
             "outlinewidth": 0,
             "ticks": ""
            },
            "type": "contourcarpet"
           }
          ],
          "heatmap": [
           {
            "colorbar": {
             "outlinewidth": 0,
             "ticks": ""
            },
            "colorscale": [
             [
              0,
              "#0d0887"
             ],
             [
              0.1111111111111111,
              "#46039f"
             ],
             [
              0.2222222222222222,
              "#7201a8"
             ],
             [
              0.3333333333333333,
              "#9c179e"
             ],
             [
              0.4444444444444444,
              "#bd3786"
             ],
             [
              0.5555555555555556,
              "#d8576b"
             ],
             [
              0.6666666666666666,
              "#ed7953"
             ],
             [
              0.7777777777777778,
              "#fb9f3a"
             ],
             [
              0.8888888888888888,
              "#fdca26"
             ],
             [
              1,
              "#f0f921"
             ]
            ],
            "type": "heatmap"
           }
          ],
          "heatmapgl": [
           {
            "colorbar": {
             "outlinewidth": 0,
             "ticks": ""
            },
            "colorscale": [
             [
              0,
              "#0d0887"
             ],
             [
              0.1111111111111111,
              "#46039f"
             ],
             [
              0.2222222222222222,
              "#7201a8"
             ],
             [
              0.3333333333333333,
              "#9c179e"
             ],
             [
              0.4444444444444444,
              "#bd3786"
             ],
             [
              0.5555555555555556,
              "#d8576b"
             ],
             [
              0.6666666666666666,
              "#ed7953"
             ],
             [
              0.7777777777777778,
              "#fb9f3a"
             ],
             [
              0.8888888888888888,
              "#fdca26"
             ],
             [
              1,
              "#f0f921"
             ]
            ],
            "type": "heatmapgl"
           }
          ],
          "histogram": [
           {
            "marker": {
             "pattern": {
              "fillmode": "overlay",
              "size": 10,
              "solidity": 0.2
             }
            },
            "type": "histogram"
           }
          ],
          "histogram2d": [
           {
            "colorbar": {
             "outlinewidth": 0,
             "ticks": ""
            },
            "colorscale": [
             [
              0,
              "#0d0887"
             ],
             [
              0.1111111111111111,
              "#46039f"
             ],
             [
              0.2222222222222222,
              "#7201a8"
             ],
             [
              0.3333333333333333,
              "#9c179e"
             ],
             [
              0.4444444444444444,
              "#bd3786"
             ],
             [
              0.5555555555555556,
              "#d8576b"
             ],
             [
              0.6666666666666666,
              "#ed7953"
             ],
             [
              0.7777777777777778,
              "#fb9f3a"
             ],
             [
              0.8888888888888888,
              "#fdca26"
             ],
             [
              1,
              "#f0f921"
             ]
            ],
            "type": "histogram2d"
           }
          ],
          "histogram2dcontour": [
           {
            "colorbar": {
             "outlinewidth": 0,
             "ticks": ""
            },
            "colorscale": [
             [
              0,
              "#0d0887"
             ],
             [
              0.1111111111111111,
              "#46039f"
             ],
             [
              0.2222222222222222,
              "#7201a8"
             ],
             [
              0.3333333333333333,
              "#9c179e"
             ],
             [
              0.4444444444444444,
              "#bd3786"
             ],
             [
              0.5555555555555556,
              "#d8576b"
             ],
             [
              0.6666666666666666,
              "#ed7953"
             ],
             [
              0.7777777777777778,
              "#fb9f3a"
             ],
             [
              0.8888888888888888,
              "#fdca26"
             ],
             [
              1,
              "#f0f921"
             ]
            ],
            "type": "histogram2dcontour"
           }
          ],
          "mesh3d": [
           {
            "colorbar": {
             "outlinewidth": 0,
             "ticks": ""
            },
            "type": "mesh3d"
           }
          ],
          "parcoords": [
           {
            "line": {
             "colorbar": {
              "outlinewidth": 0,
              "ticks": ""
             }
            },
            "type": "parcoords"
           }
          ],
          "pie": [
           {
            "automargin": true,
            "type": "pie"
           }
          ],
          "scatter": [
           {
            "fillpattern": {
             "fillmode": "overlay",
             "size": 10,
             "solidity": 0.2
            },
            "type": "scatter"
           }
          ],
          "scatter3d": [
           {
            "line": {
             "colorbar": {
              "outlinewidth": 0,
              "ticks": ""
             }
            },
            "marker": {
             "colorbar": {
              "outlinewidth": 0,
              "ticks": ""
             }
            },
            "type": "scatter3d"
           }
          ],
          "scattercarpet": [
           {
            "marker": {
             "colorbar": {
              "outlinewidth": 0,
              "ticks": ""
             }
            },
            "type": "scattercarpet"
           }
          ],
          "scattergeo": [
           {
            "marker": {
             "colorbar": {
              "outlinewidth": 0,
              "ticks": ""
             }
            },
            "type": "scattergeo"
           }
          ],
          "scattergl": [
           {
            "marker": {
             "colorbar": {
              "outlinewidth": 0,
              "ticks": ""
             }
            },
            "type": "scattergl"
           }
          ],
          "scattermapbox": [
           {
            "marker": {
             "colorbar": {
              "outlinewidth": 0,
              "ticks": ""
             }
            },
            "type": "scattermapbox"
           }
          ],
          "scatterpolar": [
           {
            "marker": {
             "colorbar": {
              "outlinewidth": 0,
              "ticks": ""
             }
            },
            "type": "scatterpolar"
           }
          ],
          "scatterpolargl": [
           {
            "marker": {
             "colorbar": {
              "outlinewidth": 0,
              "ticks": ""
             }
            },
            "type": "scatterpolargl"
           }
          ],
          "scatterternary": [
           {
            "marker": {
             "colorbar": {
              "outlinewidth": 0,
              "ticks": ""
             }
            },
            "type": "scatterternary"
           }
          ],
          "surface": [
           {
            "colorbar": {
             "outlinewidth": 0,
             "ticks": ""
            },
            "colorscale": [
             [
              0,
              "#0d0887"
             ],
             [
              0.1111111111111111,
              "#46039f"
             ],
             [
              0.2222222222222222,
              "#7201a8"
             ],
             [
              0.3333333333333333,
              "#9c179e"
             ],
             [
              0.4444444444444444,
              "#bd3786"
             ],
             [
              0.5555555555555556,
              "#d8576b"
             ],
             [
              0.6666666666666666,
              "#ed7953"
             ],
             [
              0.7777777777777778,
              "#fb9f3a"
             ],
             [
              0.8888888888888888,
              "#fdca26"
             ],
             [
              1,
              "#f0f921"
             ]
            ],
            "type": "surface"
           }
          ],
          "table": [
           {
            "cells": {
             "fill": {
              "color": "#EBF0F8"
             },
             "line": {
              "color": "white"
             }
            },
            "header": {
             "fill": {
              "color": "#C8D4E3"
             },
             "line": {
              "color": "white"
             }
            },
            "type": "table"
           }
          ]
         },
         "layout": {
          "annotationdefaults": {
           "arrowcolor": "#2a3f5f",
           "arrowhead": 0,
           "arrowwidth": 1
          },
          "autotypenumbers": "strict",
          "coloraxis": {
           "colorbar": {
            "outlinewidth": 0,
            "ticks": ""
           }
          },
          "colorscale": {
           "diverging": [
            [
             0,
             "#8e0152"
            ],
            [
             0.1,
             "#c51b7d"
            ],
            [
             0.2,
             "#de77ae"
            ],
            [
             0.3,
             "#f1b6da"
            ],
            [
             0.4,
             "#fde0ef"
            ],
            [
             0.5,
             "#f7f7f7"
            ],
            [
             0.6,
             "#e6f5d0"
            ],
            [
             0.7,
             "#b8e186"
            ],
            [
             0.8,
             "#7fbc41"
            ],
            [
             0.9,
             "#4d9221"
            ],
            [
             1,
             "#276419"
            ]
           ],
           "sequential": [
            [
             0,
             "#0d0887"
            ],
            [
             0.1111111111111111,
             "#46039f"
            ],
            [
             0.2222222222222222,
             "#7201a8"
            ],
            [
             0.3333333333333333,
             "#9c179e"
            ],
            [
             0.4444444444444444,
             "#bd3786"
            ],
            [
             0.5555555555555556,
             "#d8576b"
            ],
            [
             0.6666666666666666,
             "#ed7953"
            ],
            [
             0.7777777777777778,
             "#fb9f3a"
            ],
            [
             0.8888888888888888,
             "#fdca26"
            ],
            [
             1,
             "#f0f921"
            ]
           ],
           "sequentialminus": [
            [
             0,
             "#0d0887"
            ],
            [
             0.1111111111111111,
             "#46039f"
            ],
            [
             0.2222222222222222,
             "#7201a8"
            ],
            [
             0.3333333333333333,
             "#9c179e"
            ],
            [
             0.4444444444444444,
             "#bd3786"
            ],
            [
             0.5555555555555556,
             "#d8576b"
            ],
            [
             0.6666666666666666,
             "#ed7953"
            ],
            [
             0.7777777777777778,
             "#fb9f3a"
            ],
            [
             0.8888888888888888,
             "#fdca26"
            ],
            [
             1,
             "#f0f921"
            ]
           ]
          },
          "colorway": [
           "#636efa",
           "#EF553B",
           "#00cc96",
           "#ab63fa",
           "#FFA15A",
           "#19d3f3",
           "#FF6692",
           "#B6E880",
           "#FF97FF",
           "#FECB52"
          ],
          "font": {
           "color": "#2a3f5f"
          },
          "geo": {
           "bgcolor": "white",
           "lakecolor": "white",
           "landcolor": "#E5ECF6",
           "showlakes": true,
           "showland": true,
           "subunitcolor": "white"
          },
          "hoverlabel": {
           "align": "left"
          },
          "hovermode": "closest",
          "legend": {
           "orientation": "h",
           "x": 1,
           "xanchor": "right",
           "y": 1.02,
           "yanchor": "bottom"
          },
          "mapbox": {
           "style": "light"
          },
          "margin": {
           "b": 50,
           "l": 50,
           "r": 50,
           "t": 50
          },
          "paper_bgcolor": "white",
          "plot_bgcolor": "#E5ECF6",
          "polar": {
           "angularaxis": {
            "gridcolor": "white",
            "linecolor": "white",
            "ticks": ""
           },
           "bgcolor": "#E5ECF6",
           "radialaxis": {
            "gridcolor": "white",
            "linecolor": "white",
            "ticks": ""
           }
          },
          "scene": {
           "xaxis": {
            "backgroundcolor": "#E5ECF6",
            "gridcolor": "white",
            "gridwidth": 2,
            "linecolor": "white",
            "showbackground": true,
            "ticks": "",
            "zerolinecolor": "white"
           },
           "yaxis": {
            "backgroundcolor": "#E5ECF6",
            "gridcolor": "white",
            "gridwidth": 2,
            "linecolor": "white",
            "showbackground": true,
            "ticks": "",
            "zerolinecolor": "white"
           },
           "zaxis": {
            "backgroundcolor": "#E5ECF6",
            "gridcolor": "white",
            "gridwidth": 2,
            "linecolor": "white",
            "showbackground": true,
            "ticks": "",
            "zerolinecolor": "white"
           }
          },
          "shapedefaults": {
           "line": {
            "color": "#2a3f5f"
           }
          },
          "ternary": {
           "aaxis": {
            "gridcolor": "white",
            "linecolor": "white",
            "ticks": ""
           },
           "baxis": {
            "gridcolor": "white",
            "linecolor": "white",
            "ticks": ""
           },
           "bgcolor": "#E5ECF6",
           "caxis": {
            "gridcolor": "white",
            "linecolor": "white",
            "ticks": ""
           }
          },
          "title": {
           "x": 0.05
          },
          "xaxis": {
           "automargin": true,
           "gridcolor": "white",
           "linecolor": "white",
           "ticks": "",
           "title": {
            "standoff": 15
           },
           "zerolinecolor": "white",
           "zerolinewidth": 2
          },
          "yaxis": {
           "automargin": true,
           "gridcolor": "white",
           "linecolor": "white",
           "ticks": "",
           "title": {
            "standoff": 15
           },
           "zerolinecolor": "white",
           "zerolinewidth": 2
          }
         }
        },
        "xaxis": {
         "anchor": "y",
         "domain": [
          0,
          1
         ],
         "title": {
          "text": "x"
         }
        },
        "yaxis": {
         "anchor": "x",
         "domain": [
          0,
          1
         ],
         "title": {
          "text": "y"
         }
        }
       }
      }
     },
     "metadata": {},
     "output_type": "display_data"
    }
   ],
   "source": [
    "px.line(y=test_wesad_data[0,0])"
   ]
  },
  {
   "cell_type": "markdown",
   "metadata": {},
   "source": [
    "#### Save the dataset"
   ]
  },
  {
   "cell_type": "code",
   "execution_count": 16,
   "metadata": {},
   "outputs": [
    {
     "data": {
      "text/plain": [
       "(83876, 1, 720)"
      ]
     },
     "execution_count": 16,
     "metadata": {},
     "output_type": "execute_result"
    }
   ],
   "source": [
    "train_wesad_data.shape"
   ]
  },
  {
   "cell_type": "code",
   "execution_count": 17,
   "metadata": {},
   "outputs": [
    {
     "data": {
      "text/plain": [
       "(array([ 2,  3,  4,  5,  6,  7,  8,  9, 10, 11, 13, 14, 15, 16],\n",
       "       dtype=int32),\n",
       " array([5776, 5868, 5940, 6020, 5976, 5976, 6008, 5976, 6144, 6036, 6040,\n",
       "        6040, 6052, 6024]))"
      ]
     },
     "execution_count": 17,
     "metadata": {},
     "output_type": "execute_result"
    }
   ],
   "source": [
    "np.unique(train_wesad_id, return_counts=True)"
   ]
  },
  {
   "cell_type": "code",
   "execution_count": 18,
   "metadata": {},
   "outputs": [
    {
     "data": {
      "text/plain": [
       "(2, 360)"
      ]
     },
     "execution_count": 18,
     "metadata": {},
     "output_type": "execute_result"
    }
   ],
   "source": [
    "duration, freq"
   ]
  },
  {
   "cell_type": "code",
   "execution_count": 19,
   "metadata": {},
   "outputs": [],
   "source": [
    "# check the output dir\n",
    "temp_dir = Path(f\"wesad-{freq}hz-{duration}second-no-ecg\")\n",
    "os.makedirs(temp_dir, exist_ok=True)\n",
    "\n",
    "torch.save({\n",
    "    'samples': torch.from_numpy(train_wesad_data),\n",
    "    'labels': torch.from_numpy(train_wesad_labels),\n",
    "    'metadata': torch.from_numpy(train_wesad_id),\n",
    "    }, f=temp_dir / \"train.pt\")\n",
    "torch.save({\n",
    "    'samples': torch.from_numpy(test_wesad_data),\n",
    "    'labels': torch.from_numpy(test_wesad_labels),\n",
    "    'metadata': torch.from_numpy(test_wesad_id),\n",
    "    }, f=temp_dir / \"test.pt\")"
   ]
  }
 ],
 "metadata": {
  "kernelspec": {
   "display_name": "ssl-mhealth",
   "language": "python",
   "name": "python3"
  },
  "language_info": {
   "codemirror_mode": {
    "name": "ipython",
    "version": 3
   },
   "file_extension": ".py",
   "mimetype": "text/x-python",
   "name": "python",
   "nbconvert_exporter": "python",
   "pygments_lexer": "ipython3",
   "version": "3.12.3"
  }
 },
 "nbformat": 4,
 "nbformat_minor": 2
}
